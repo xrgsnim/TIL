{
 "cells": [
  {
   "cell_type": "markdown",
   "metadata": {},
   "source": [
    "### 1번. get_rating_matrix"
   ]
  },
  {
   "cell_type": "code",
   "execution_count": 4,
   "metadata": {},
   "outputs": [],
   "source": [
    "import numpy as np\n",
    "import pandas as pd"
   ]
  },
  {
   "cell_type": "code",
   "execution_count": 5,
   "metadata": {},
   "outputs": [
    {
     "data": {
      "text/plain": [
       "array([[3. , 0. , 3.5, 0. , 4.5, 0. ],\n",
       "       [0. , 3. , 3.5, 0. , 3. , 3.5],\n",
       "       [0. , 3. , 4. , 5. , 3. , 3.5],\n",
       "       [3. , 2.5, 3.5, 3.5, 3. , 2.5],\n",
       "       [2. , 3. , 4. , 3. , 3. , 0. ],\n",
       "       [0. , 0. , 4.5, 4. , 0. , 0. ]])"
      ]
     },
     "execution_count": 5,
     "metadata": {},
     "output_type": "execute_result"
    }
   ],
   "source": [
    "def get_rating_matrix(filename):\n",
    "    df = pd.read_csv(\"C:/Users/hyun/workspace/TIL/ML/0_references/data/{}\".format(filename))\n",
    "    df = df.groupby([\"source\", \"target\"])[\"rating\"].sum()\n",
    "    df = df.unstack(fill_value=0)\n",
    "    X = np.array(df)\n",
    "    return X\n",
    "\n",
    "get_rating_matrix(\"movie_rating.csv\")"
   ]
  },
  {
   "cell_type": "markdown",
   "metadata": {},
   "source": [
    "### 2번. get_frequent_matrix"
   ]
  },
  {
   "cell_type": "code",
   "execution_count": 6,
   "metadata": {},
   "outputs": [
    {
     "data": {
      "text/plain": [
       "array([[19., 17., 14., 11., 17., 25.,  7., 22.,  5., 18., 10., 13., 13.,\n",
       "         8., 20., 10.,  9., 10., 16., 15.,  9., 11., 17., 15., 14.,  8.,\n",
       "         6., 12., 18., 12.,  6., 18.,  9., 24.,  7., 19., 14.,  6.,  4.,\n",
       "        12., 15., 14., 20.,  9., 12., 16., 11.,  9., 11., 12.],\n",
       "       [20., 16., 10., 15., 17., 18., 10., 13.,  5., 19.,  8., 14., 14.,\n",
       "         9., 15., 14., 13.,  8., 12.,  9.,  5., 10., 28., 18.,  7.,  8.,\n",
       "         6., 19., 14., 13., 11., 12., 18., 15.,  7., 11., 17.,  9.,  5.,\n",
       "         5., 13., 12., 15.,  9., 13., 16., 16., 10., 16.,  9.],\n",
       "       [12., 16., 13., 19., 23., 19.,  5., 14.,  5., 18.,  7.,  6., 14.,\n",
       "         8., 20., 17., 14., 11., 16., 12.,  7.,  9., 23., 12., 12.,  8.,\n",
       "         7., 23., 26., 10.,  9., 20., 16., 11.,  4., 19., 12., 12.,  5.,\n",
       "        10., 10., 14., 10., 17., 15., 16., 11., 17.,  9., 11.],\n",
       "       [14., 14., 19., 11., 11., 18.,  7., 16.,  7., 17.,  6., 19., 18.,\n",
       "        12., 13., 13., 14.,  9., 21., 16.,  6.,  6., 19., 14., 19.,  5.,\n",
       "        12., 14., 18., 11., 11., 21., 15., 10., 11., 14., 17., 21.,  6.,\n",
       "        14.,  9., 16., 18., 12., 16., 16., 26., 16., 12., 20.],\n",
       "       [13.,  7.,  8., 15., 13., 16.,  3., 19., 11., 12.,  7., 10., 13.,\n",
       "        14., 16., 14., 23.,  9., 13., 10., 11.,  3., 11., 14.,  9.,  6.,\n",
       "        11., 16., 18., 11.,  5., 14., 10., 16., 10.,  5., 14., 11.,  3.,\n",
       "         9., 11., 10., 16.,  8., 13., 20., 14., 18., 21.,  3.]],\n",
       "      dtype=float32)"
      ]
     },
     "execution_count": 6,
     "metadata": {},
     "output_type": "execute_result"
    }
   ],
   "source": [
    "def get_frequent_matrix(filename):\n",
    "    df = pd.read_csv(\"C:/Users/hyun/workspace/TIL/ML/0_references/data/{}\".format(filename))\n",
    "    df = df.groupby([\"source\", \"target\"])[\"target\"].count()\n",
    "    df = df.unstack().astype(np.float32)\n",
    "    X = df.values\n",
    "    return X    \n",
    "\n",
    "get_frequent_matrix(\"1000i.csv\")"
   ]
  }
 ],
 "metadata": {
  "interpreter": {
   "hash": "d896132fd735bf3e6347a1bdcff6c3ed8ac349239076bd36b5f3a402d94e3c65"
  },
  "kernelspec": {
   "display_name": "Python 3.9.12 ('TIL')",
   "language": "python",
   "name": "python3"
  },
  "language_info": {
   "codemirror_mode": {
    "name": "ipython",
    "version": 3
   },
   "file_extension": ".py",
   "mimetype": "text/x-python",
   "name": "python",
   "nbconvert_exporter": "python",
   "pygments_lexer": "ipython3",
   "version": "3.9.12"
  },
  "orig_nbformat": 4
 },
 "nbformat": 4,
 "nbformat_minor": 2
}
