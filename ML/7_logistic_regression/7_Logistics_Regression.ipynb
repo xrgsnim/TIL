{
 "cells": [
  {
   "cell_type": "markdown",
   "metadata": {},
   "source": [
    "## **Logistic Regreesion**"
   ]
  },
  {
   "cell_type": "markdown",
   "metadata": {},
   "source": [
    "#### **Logistic Regression Classifier**"
   ]
  },
  {
   "cell_type": "markdown",
   "metadata": {},
   "source": [
    "[기존 접근(회귀 등)의 문제점들]\n",
    "- 1이상 또는 0이하의 수들이 나오는걸 어떻게 해석?\n",
    "- 1또는 0으로 정확히 표현 가능한가?\n",
    "- 변수가 Y에 영향을 주는 정도가 비례하는가?\n",
    "- **확률로 발생할 사건의 가능성을 표현해야함**"
   ]
  },
  {
   "cell_type": "markdown",
   "metadata": {},
   "source": [
    "**Solution : 확률로 나타내자 !**\n",
    "- sigmoid 등으로 확률로 표현하여 예를들어 0.5보다 크면 True, 작으면 False 등으로 판별"
   ]
  },
  {
   "cell_type": "markdown",
   "metadata": {},
   "source": [
    "#### **[Sigmoid Function]**\n",
    "- 분류의 가능성을 확률로 얘기하기"
   ]
  },
  {
   "cell_type": "markdown",
   "metadata": {},
   "source": [
    "**[Odds Ratio]** : 특정 사건이 일어날 확률과 일어나지 않을 확률의 비율\n",
    "> $\\frac{P(X)}{1-P(X)} = \\frac{일어날확률}{일어나지않을확률}$"
   ]
  },
  {
   "cell_type": "markdown",
   "metadata": {},
   "source": [
    "**[Logit function]** : X값이 주어졌을 때, y의 확률을 이용한 log odds\n",
    "> $logit(p(y=1|x)) = log_{e} (\\frac{p}{1-p})$<br>\n",
    "&nbsp;&nbsp;&nbsp;&nbsp;&nbsp;&nbsp;&nbsp;&nbsp;&nbsp;&nbsp;&nbsp;&nbsp;&nbsp;&nbsp;&nbsp;&nbsp;&nbsp;&nbsp;&nbsp;&nbsp;&nbsp;&nbsp;&nbsp;&nbsp;&nbsp;&nbsp;&nbsp;&nbsp;&nbsp;&nbsp;&nbsp;&nbsp; $= log_{e} (p) - log_{e} (1-p)$<br>\n",
    "&nbsp;&nbsp;&nbsp;&nbsp;&nbsp;&nbsp;&nbsp;&nbsp;&nbsp;&nbsp;&nbsp;&nbsp;&nbsp;&nbsp;&nbsp;&nbsp;&nbsp;&nbsp;&nbsp;&nbsp;&nbsp;&nbsp;&nbsp;&nbsp;&nbsp;&nbsp;&nbsp;&nbsp;&nbsp;&nbsp;&nbsp;&nbsp;&nbsp;$= -log_{e} (\\frac{1}{p} - 1) $"
   ]
  },
  {
   "cell_type": "markdown",
   "metadata": {},
   "source": [
    "**[Sigmoid(=Logsitic) Function]** : Logit함수의 역함수로 z에 관한 확률을 산출\n",
    "> $f(z) = y = -log_{e} (\\frac{1}{z} -1)$ 이걸 역함수로 바꾸면<br>\n",
    "> &nbsp;&nbsp;&nbsp;&nbsp;&nbsp;&nbsp;&nbsp;&nbsp;&nbsp;&nbsp;&nbsp;&nbsp;&nbsp;&nbsp;$z = -log_{e} (\\frac{1}{y} - 1)$ y에 관한 정리\n",
    "- **우리가 원하는 확률값을 결과값으로 뱉음 !**<br>\n",
    "> $z = -log_{e} (\\frac{1}{y} - 1)$ <br>\n",
    "> $e^{(-z)} = \\frac{1-y}{y}$ <br>\n",
    "> $y * e^{(-z)} + y = 1$ <br>\n",
    "> $y(e^{(-z)} + 1) = 1$ <br>\n",
    "> <span style = 'background-color: #fff5b1'>$y = \\frac{1}{1+e^{(-z)}}$</span>\n",
    "- Logistic Function = Inverse of logit function\n",
    "- **미분가능한 연속구간**으로 변환, S자 형태를 닮아서 sigmoid function"
   ]
  },
  {
   "cell_type": "markdown",
   "metadata": {},
   "source": [
    "![img](https://ifh.cc/g/5YMwcJ.png)"
   ]
  },
  {
   "cell_type": "markdown",
   "metadata": {},
   "source": [
    "> $log_{e} (\\frac{1-p}{p}) = z = w_0 x_0 + w_1 x_1 + \\cdots +w_n x_n$\n",
    "- z값을 찾아서 어떤 사건이 일어날 확률값을 구한다."
   ]
  },
  {
   "cell_type": "markdown",
   "metadata": {},
   "source": [
    "#### **[Logistic Regression에서 Weight 학습하기]**"
   ]
  },
  {
   "cell_type": "markdown",
   "metadata": {},
   "source": [
    "**[가설함수]**\n",
    "> $h_\\theta (x) = g(z) = \\frac{1}{1 + e^{-z}}$&nbsp;&nbsp;&nbsp;&nbsp;&nbsp;&nbsp;&nbsp;&nbsp; ($0 \\le h_\\theta (x) \\le 1$)<br>\n",
    "> where : <br>\n",
    "> &nbsp;&nbsp;$z = w_0 x_0 + w_1 x_1 + \\cdots +w_n x_n$<br>\n",
    "> &nbsp;&nbsp;&nbsp;&nbsp;&nbsp;$ = \\theta^T x$\n",
    "\n",
    "- <span style = 'background-color: #fff5b1'> h함수는 확률값을 뱉어낸다 !</span>\n",
    "\n",
    "![img](https://ifh.cc/g/5YMwcJ.png)\n",
    "- thereshold를 어떤값으로 하느냐에 따라 그값보다 크면 사건발생, 작으면 사건발생X로 보통 판별한다."
   ]
  },
  {
   "cell_type": "markdown",
   "metadata": {},
   "source": [
    "**[Training theta]**\n",
    "> $h_\\theta (x) = \\frac{1}{1 + e^{-\\theta T X}}$ <br>\n",
    "> $\\theta^T X = w_0 x_0 + w_1 x_1 + \\cdots +w_n x_n$<br>\n",
    "> y = 0 or 1"
   ]
  },
  {
   "cell_type": "markdown",
   "metadata": {},
   "source": [
    "#### **[Cost Function] - 정답과 예측치의 차이**\n",
    "- y가 1일 때, y가 0일 때로 나눠서 cost function 계산\n",
    "- y가 1일 때는, 가설함수의 값이 커질수록(사건이 발생했다고 예측할수록) cost값이 작아진다.\n",
    "- y가 0일 때는, 가설함수의 값이 작아질수록(사건이 발생하지않았다고 예측할수록) cost값이 작아진다.\n",
    "> $ Cost(h_\\theta(x), y)=\n",
    "> \\begin{cases}\n",
    "> -log(h_\\theta(x)),\\; if \\; y = 1 \\\\\n",
    "> -log(1 - h_\\theta(x)),\\; if \\; y = 0\n",
    "> \\end{cases}$\n",
    "\n",
    "![img](https://ifh.cc/g/pdLDWT.png)"
   ]
  },
  {
   "cell_type": "markdown",
   "metadata": {},
   "source": [
    "- 위의 함수식에서 $y=0$일 때, $y=1$일 때 둘 다를 하나의 식으로 합치면\n",
    "> $\\begin{matrix}\n",
    ">J(\\theta) &=& \\frac{1}{m} \\sum_{i=1}^m Cost(h_\\theta (x^{(i)}), y^{(i)}) \\\\\n",
    ">       &=& -\\frac{1}{m} \\sum_{i=1}^m [y^{(i)}logh_\\theta (x^{(i)}) + (1 - y^{(i)})log(1-h_\\theta (x^{(i)}))]\n",
    ">\\end{matrix}$\n",
    "\n",
    "- **Cost function($J(\\theta)$)를 최소화하는 $\\theta$를 찾는게 우리의 목표 !**<br>\n",
    "- 우선 $J(\\theta)$를 정리하면"
   ]
  },
  {
   "cell_type": "markdown",
   "metadata": {},
   "source": [
    "> $\\begin{matrix}\n",
    "> J(\\theta) &=& -\\frac{1}{m} \\sum_{i=1}^m [-y^{(i)}(log(1 + e^{-\\theta x^i})) + (1 - y^i)(-\\theta x^i - log(1 + e^{-\\theta x^i}))] \\\\\n",
    ">           &=& -\\frac{1}{m} \\sum_{i=1}^m [y_i \\theta x^i - \\theta x^i - log(1 + e^{-\\theta x^i})] \\\\\n",
    "            &=& -\\frac{1}{m} \\sum_{i=1}^m [y_i \\theta x^i - log(1 + e^{\\theta x^i})]\n",
    "> \\end{matrix}$\n",
    "\n",
    "- 위식을 $\\theta$에 관하여 미분하면"
   ]
  },
  {
   "cell_type": "markdown",
   "metadata": {},
   "source": [
    "> $\\frac{\\partial}{\\partial \\theta_j} y_i \\theta x^i = y_i x^i_j$ <br>\n",
    "> $\\frac{\\partial}{\\partial \\theta_j} log(1 + e^{\\theta x^i}) = \\frac{x^i_j e^{\\theta x^i}}{1 + e^\\theta x^i} = x^i_j h_\\theta(x^i)$\n",
    "\n",
    "> **<span style = 'background-color: #fff5b1'>따라서!!</span>** **$\\frac{\\partial}{\\partial \\theta_j}J(\\theta) = \\frac{1}{m} \\sum_{i=1}^m(h_\\theta(x^i) - y^i)x^i_j$** <br><br><br>\n",
    "> $\\theta_j := \\theta_j - \\alpha \\frac{\\partial}{\\partial \\theta_j}J(\\theta)$ <br>\n",
    "> &nbsp;&nbsp;&nbsp;&nbsp;&nbsp;$:=\\theta_j - \\alpha \\sum_{i=1}^m (h_\\theta(x^i) - y^i)x^i_j$\n",
    "- **모든 $\\theta_j$ 동시에 업데이트**"
   ]
  },
  {
   "cell_type": "markdown",
   "metadata": {},
   "source": [
    "<br><br>\n",
    "#### **Numpy implementation**\n",
    "- Logistic Regression을 Numpy로 구현하기"
   ]
  },
  {
   "cell_type": "markdown",
   "metadata": {},
   "source": [
    "- Data : 데이터 과학자로써의 경력과 소득을 통한 유료계정 전환여부를 **예측**하는문제"
   ]
  },
  {
   "cell_type": "code",
   "execution_count": 2,
   "metadata": {},
   "outputs": [],
   "source": [
    "import numpy as np\n",
    "import matplotlib.pyplot as plt\n",
    "import warnings\n",
    "warnings.filterwarnings(action='ignore')"
   ]
  },
  {
   "cell_type": "code",
   "execution_count": 3,
   "metadata": {},
   "outputs": [],
   "source": [
    "data = [(0.7,48000,1),(1.9,48000,0),(2.5,60000,1),(4.2,63000,0),(6,76000,0),(6.5,69000,0),(7.5,76000,0),(8.1,88000,0),(8.7,83000,1),(10,83000,1),(0.8,43000,0),(1.8,60000,0),(10,79000,1),(6.1,76000,0),(1.4,50000,0),(9.1,92000,0),(5.8,75000,0),(5.2,69000,0),(1,56000,0),(6,67000,0),(4.9,74000,0),(6.4,63000,1),(6.2,82000,0),(3.3,58000,0),(9.3,90000,1),(5.5,57000,1),(9.1,102000,0),(2.4,54000,0),(8.2,65000,1),(5.3,82000,0),(9.8,107000,0),(1.8,64000,0),(0.6,46000,1),(0.8,48000,0),(8.6,84000,1),(0.6,45000,0),(0.5,30000,1),(7.3,89000,0),(2.5,48000,1),(5.6,76000,0),(7.4,77000,0),(2.7,56000,0),(0.7,48000,0),(1.2,42000,0),(0.2,32000,1),(4.7,56000,1),(2.8,44000,1),(7.6,78000,0),(1.1,63000,0),(8,79000,1),(2.7,56000,0),(6,52000,1),(4.6,56000,0),(2.5,51000,0),(5.7,71000,0),(2.9,65000,0),(1.1,33000,1),(3,62000,0),(4,71000,0),(2.4,61000,0),(7.5,75000,0),(9.7,81000,1),(3.2,62000,0),(7.9,88000,0),(4.7,44000,1),(2.5,55000,0),(1.6,41000,0),(6.7,64000,1),(6.9,66000,1),(7.9,78000,1),(8.1,102000,0),(5.3,48000,1),(8.5,66000,1),(0.2,56000,0),(6,69000,0),(7.5,77000,0),(8,86000,0),(4.4,68000,0),(4.9,75000,0),(1.5,60000,0),(2.2,50000,0),(3.4,49000,1),(4.2,70000,0),(7.7,98000,0),(8.2,85000,0),(5.4,88000,0),(0.1,46000,0),(1.5,37000,0),(6.3,86000,0),(3.7,57000,0),(8.4,85000,0),(2,42000,0),(5.8,69000,1),(2.7,64000,0),(3.1,63000,0),(1.9,48000,0),(10,72000,1),(0.2,45000,0),(8.6,95000,0),(1.5,64000,0),(9.8,95000,0),(5.3,65000,0),(7.5,80000,0),(9.9,91000,0),(9.7,50000,1),(2.8,68000,0),(3.6,58000,0),(3.9,74000,0),(4.4,76000,0),(2.5,49000,0),(7.2,81000,0),(5.2,60000,1),(2.4,62000,0),(8.9,94000,0),(2.4,63000,0),(6.8,69000,1),(6.5,77000,0),(7,86000,0),(9.4,94000,0),(7.8,72000,1),(0.2,53000,0),(10,97000,0),(5.5,65000,0),(7.7,71000,1),(8.1,66000,1),(9.8,91000,0),(8,84000,0),(2.7,55000,0),(2.8,62000,0),(9.4,79000,0),(2.5,57000,0),(7.4,70000,1),(2.1,47000,0),(5.3,62000,1),(6.3,79000,0),(6.8,58000,1),(5.7,80000,0),(2.2,61000,0),(4.8,62000,0),(3.7,64000,0),(4.1,85000,0),(2.3,51000,0),(3.5,58000,0),(0.9,43000,0),(0.9,54000,0),(4.5,74000,0),(6.5,55000,1),(4.1,41000,1),(7.1,73000,0),(1.1,66000,0),(9.1,81000,1),(8,69000,1),(7.3,72000,1),(3.3,50000,0),(3.9,58000,0),(2.6,49000,0),(1.6,78000,0),(0.7,56000,0),(2.1,36000,1),(7.5,90000,0),(4.8,59000,1),(8.9,95000,0),(6.2,72000,0),(6.3,63000,0),(9.1,100000,0),(7.3,61000,1),(5.6,74000,0),(0.5,66000,0),(1.1,59000,0),(5.1,61000,0),(6.2,70000,0),(6.6,56000,1),(6.3,76000,0),(6.5,78000,0),(5.1,59000,0),(9.5,74000,1),(4.5,64000,0),(2,54000,0),(1,52000,0),(4,69000,0),(6.5,76000,0),(3,60000,0),(4.5,63000,0),(7.8,70000,0),(3.9,60000,1),(0.8,51000,0),(4.2,78000,0),(1.1,54000,0),(6.2,60000,0),(2.9,59000,0),(2.1,52000,0),(8.2,87000,0),(4.8,73000,0),(2.2,42000,1),(9.1,98000,0),(6.5,84000,0),(6.9,73000,0),(5.1,72000,0),(9.1,69000,1),(9.8,79000,1),]\n",
    "data = np.array(list(map(list, data))) # 튜플을 리스트로 바꾸기\n",
    "paid_data = data[np.where(data[:,2] == 1)]\n",
    "unpaid_data = data[np.where(data[:,2] == 0)]"
   ]
  },
  {
   "cell_type": "code",
   "execution_count": 4,
   "metadata": {},
   "outputs": [
    {
     "data": {
      "text/plain": [
       "array([[1.9e+00, 4.8e+04, 0.0e+00],\n",
       "       [4.2e+00, 6.3e+04, 0.0e+00],\n",
       "       [6.0e+00, 7.6e+04, 0.0e+00]])"
      ]
     },
     "execution_count": 4,
     "metadata": {},
     "output_type": "execute_result"
    }
   ],
   "source": [
    "unpaid_data[:3]"
   ]
  },
  {
   "cell_type": "code",
   "execution_count": 5,
   "metadata": {},
   "outputs": [
    {
     "data": {
      "image/png": "[encoded data removed]",
      "text/plain": [
       "<Figure size 432x288 with 1 Axes>"
      ]
     },
     "metadata": {},
     "output_type": "display_data"
    }
   ],
   "source": [
    "fig, ax = plt.subplots()\n",
    "\n",
    "x, y = paid_data[:, 0], paid_data[:, 1]\n",
    "scale = 50.0\n",
    "ax.scatter(x, y, c=\"red\", s=scale, label=\"paid\", alpha=0.3, edgecolors='none')\n",
    "\n",
    "x,y = unpaid_data[:, 0], unpaid_data[:, 1]\n",
    "scale = 50.0\n",
    "ax.scatter(x, y, c=\"blue\", s=scale, label=\"unpaid\", alpha=0.3, edgecolors='none')\n",
    "\n",
    "ax.legend()\n",
    "ax.grid(True)\n",
    "\n",
    "plt.show()"
   ]
  },
  {
   "cell_type": "markdown",
   "metadata": {},
   "source": [
    "**Data normalize** - 데이터 스케일링"
   ]
  },
  {
   "cell_type": "code",
   "execution_count": 6,
   "metadata": {},
   "outputs": [
    {
     "data": {
      "text/plain": [
       "array([[0.00861027, 0.04956583, 1.        ],\n",
       "       [0.02337075, 0.04956583, 0.        ],\n",
       "       [0.03075098, 0.06195729, 1.        ],\n",
       "       [0.05166165, 0.06505516, 0.        ],\n",
       "       [0.07380236, 0.07847924, 0.        ]])"
      ]
     },
     "execution_count": 6,
     "metadata": {},
     "output_type": "execute_result"
    }
   ],
   "source": [
    "from sklearn.preprocessing import normalize\n",
    "\n",
    "data[:, :2] = normalize(data[:, :2], axis=0)\n",
    "data[:5]"
   ]
  },
  {
   "cell_type": "code",
   "execution_count": 7,
   "metadata": {},
   "outputs": [
    {
     "data": {
      "text/plain": [
       "((200, 3), (200, 1))"
      ]
     },
     "execution_count": 7,
     "metadata": {},
     "output_type": "execute_result"
    }
   ],
   "source": [
    "# data의 각 원소의 1번째까지 잘라서 x_data로 선언, y도 같은원리\n",
    "x_data = data[:, :2]\n",
    "x_data = np.insert(x_data, 0, 1, axis=1)\n",
    "\n",
    "y_data = data[:, -1]\n",
    "y_data = y_data.reshape(y_data.shape[0], 1)\n",
    "\n",
    "x_data.shape, y_data.shape"
   ]
  },
  {
   "cell_type": "code",
   "execution_count": 8,
   "metadata": {},
   "outputs": [
    {
     "data": {
      "text/plain": [
       "array([[1.        , 0.00861027, 0.04956583],\n",
       "       [1.        , 0.02337075, 0.04956583],\n",
       "       [1.        , 0.03075098, 0.06195729]])"
      ]
     },
     "execution_count": 8,
     "metadata": {},
     "output_type": "execute_result"
    }
   ],
   "source": [
    "x_data[:3]"
   ]
  },
  {
   "cell_type": "code",
   "execution_count": 9,
   "metadata": {},
   "outputs": [
    {
     "data": {
      "text/plain": [
       "array([[1.],\n",
       "       [0.],\n",
       "       [1.]])"
      ]
     },
     "execution_count": 9,
     "metadata": {},
     "output_type": "execute_result"
    }
   ],
   "source": [
    "y_data[:3]"
   ]
  },
  {
   "cell_type": "markdown",
   "metadata": {},
   "source": [
    "**Sigmoid function**\n",
    ">$h_{\\theta}(x) = g(x) = \\frac{1}{1+e^{(-z)}}$\n",
    "- 이 부분 구현, 부호 등 디테일구현도 중요"
   ]
  },
  {
   "cell_type": "code",
   "execution_count": 10,
   "metadata": {},
   "outputs": [],
   "source": [
    "def sigmoid(z):\n",
    "    return 1 / (1 + np.exp(-z))"
   ]
  },
  {
   "cell_type": "markdown",
   "metadata": {},
   "source": [
    "**Hypothesis function**\n",
    "> $h_{\\theta}(x) = \\frac{1}{1 + e^{-\\theta T x}}$\n",
    "- sigmoid function과의 차이 : 미지수로만 정해져있던 z값을 명확하게 어떤 변수가 들어가는지 표기 "
   ]
  },
  {
   "cell_type": "code",
   "execution_count": 11,
   "metadata": {},
   "outputs": [],
   "source": [
    "def hypothesis_function(x, theta):\n",
    "    z = (np.dot(-x, theta))\n",
    "    return sigmoid(z)"
   ]
  },
  {
   "cell_type": "markdown",
   "metadata": {},
   "source": [
    "**Cost function**\n",
    "> $\\begin{matrix}\n",
    ">J(\\theta) &=& \\frac{1}{m} \\sum_{i=1}^m Cost(h_\\theta (x^{(i)}), y^{(i)}) \\\\\n",
    ">       &=& -\\frac{1}{m} \\sum_{i=1}^m [y^{(i)}logh_\\theta (x^{(i)}) + (1 - y^{(i)})log(1-h_\\theta (x^{(i)}))]\n",
    ">\\end{matrix}$\n",
    "- y나 hypothesis_function의 결과값 등의 크기가 어떻게 되는지 정확히 파악하는게 주요"
   ]
  },
  {
   "cell_type": "code",
   "execution_count": 12,
   "metadata": {},
   "outputs": [],
   "source": [
    "def compute_cost(x, y, theta):\n",
    "    m = y.shape[0]\n",
    "    J = (-1.0 / m) * (\n",
    "        y.T.dot(np.log(hypothesis_function(x, theta))) + \\\n",
    "        (1 - y).T.dot(np.log(1 - hypothesis_function(x, theta))))\n",
    "\n",
    "    return (-1.0 / m) * (y * np.log(hypothesis_function(x, theta)) + (1-y) \\\n",
    "                        * np.log(1 - hypothesis_function(x, theta))).sum()\n",
    "    "
   ]
  },
  {
   "cell_type": "markdown",
   "metadata": {},
   "source": [
    "**Weight update**\n",
    "> $\\theta_j := \\theta_j - \\alpha \\sum_{i=1}^m (h_\\theta(x^i) - y^i)x^i_j$"
   ]
  },
  {
   "cell_type": "code",
   "execution_count": 13,
   "metadata": {},
   "outputs": [],
   "source": [
    "def minimize_gradient(x, y, theta, iterations=100000, alpha=0.01):\n",
    "    m = y.size\n",
    "    cost_history = []\n",
    "    theta_history = []\n",
    "\n",
    "    for _ in range(iterations):\n",
    "        original_theta = theta\n",
    "        for i in range(theta.size): # j마다 있는 theta를 보기위해 size\n",
    "            partial_marginal = x[:, i].reshape(x.shape[0], 1) # x_j^i부분\n",
    "            delta = hypothesis_function(x, original_theta) - y # delta : hypothesis_function과 y값의 차\n",
    "            grad_i = delta.T.dot(partial_marginal)\n",
    "\n",
    "            theta[i] = theta[i] - (alpha * grad_i) # alpha 곱해줌\n",
    "\n",
    "        if(_ % 100) == 0:\n",
    "            theta_history.append(theta)\n",
    "            cost_history.append(compute_cost(x, y, theta))\n",
    "\n",
    "    return theta, np.array(cost_history), np.array(theta_history)"
   ]
  },
  {
   "cell_type": "markdown",
   "metadata": {},
   "source": [
    "**Predict**"
   ]
  },
  {
   "cell_type": "code",
   "execution_count": 14,
   "metadata": {},
   "outputs": [],
   "source": [
    "theta_initial = np.ones([3,1])\n",
    "theta, cost_history, theta_history = minimize_gradient(\n",
    "    x_data, y_data, theta_initial, 10000, 0.001)"
   ]
  },
  {
   "cell_type": "code",
   "execution_count": 15,
   "metadata": {},
   "outputs": [
    {
     "data": {
      "text/plain": [
       "array([[517.56019234],\n",
       "       [ 40.19454846],\n",
       "       [ 33.82267843]])"
      ]
     },
     "execution_count": 15,
     "metadata": {},
     "output_type": "execute_result"
    }
   ],
   "source": [
    "theta"
   ]
  },
  {
   "cell_type": "code",
   "execution_count": 16,
   "metadata": {},
   "outputs": [
    {
     "data": {
      "text/plain": [
       "0"
      ]
     },
     "execution_count": 16,
     "metadata": {},
     "output_type": "execute_result"
    }
   ],
   "source": [
    "sum(sigmoid(-x_data.dot(theta)).flatten() > 0.2)"
   ]
  },
  {
   "cell_type": "code",
   "execution_count": 17,
   "metadata": {},
   "outputs": [
    {
     "data": {
      "text/plain": [
       "array([0.74])"
      ]
     },
     "execution_count": 17,
     "metadata": {},
     "output_type": "execute_result"
    }
   ],
   "source": [
    "sum((sigmoid(-x_data.dot(theta)) > 0.5) == y_data) / y_data.shape[0]"
   ]
  },
  {
   "cell_type": "code",
   "execution_count": 18,
   "metadata": {},
   "outputs": [
    {
     "data": {
      "text/plain": [
       "array([0.74])"
      ]
     },
     "execution_count": 18,
     "metadata": {},
     "output_type": "execute_result"
    }
   ],
   "source": [
    "sum((sigmoid(-x_data.dot(theta)) > 0.3) == y_data) / len(y_data)"
   ]
  },
  {
   "cell_type": "markdown",
   "metadata": {},
   "source": [
    "<br><br>\n",
    "#### **Maximum Likelihood Estimation(MLE)** - 최대우도추정\n",
    "- 우도의 최대화 관점에서 Cosst Function 정의하기\n",
    "- 우도 : 특정 사건이 일어날 확률(가능도)"
   ]
  },
  {
   "cell_type": "markdown",
   "metadata": {},
   "source": [
    "**[ 데이터의 분포 ]**\n",
    "- Y값이 0또는 1로 이산확률 변수 $\\rightarrow$ 베르누이 분포를 따름\n",
    "\n",
    "> $ P(y)=\n",
    "> \\begin{cases}\n",
    "> 1-p,\\;for\\;y=0\\\\\n",
    "> p,\\;for\\;y=1\\\n",
    "> \\end{cases}$ <br><br>\n",
    "> <span style = 'background-color: #fff5b1'>우도</span> : $p^y (1-p)^{1-y}$\n",
    "- 즉, 우도란,어떤 사건이 일어날 확률과 일어나지않을 확률의 곱"
   ]
  },
  {
   "cell_type": "markdown",
   "metadata": {},
   "source": [
    "**[ 최대우도의 추정 ]**\n",
    "- $p^y (1-p)^{1-y}$\n",
    "> $\\argmax_\\theta \\prod_{i=1}^n P(y^{(i)} \\mid x^{(i)}; \\theta{(i)}) $ <br>\n",
    "> $\\argmax_\\theta \\prod_{i=1}^n p(x^{(i)}; \\theta{(i)})^{y^{(i)}} (1 - p(x^{(i)}; \\theta^{(i)}))^{1-y^{(i)}} $ <br><br>\n",
    "> $p = \\sigma(z) = \\frac{1}{1 + e^{-z}}$\n",
    "- 확률들의 곱을 구하기는 어려우니 아래처럼 log를 취해줄것"
   ]
  },
  {
   "cell_type": "markdown",
   "metadata": {},
   "source": [
    "$L(\\theta) = logP(y\\mid x; \\theta)$\n",
    ">&nbsp;&nbsp;&nbsp;&nbsp;&nbsp; $= \\sum_{i=1}^n log(p(x_i;\\theta_i)^{y_i}(1-p(x_i;\\theta_i))^{1-y_i})$<br>\n",
    "- 일단 두개의 log로 분리하고\n",
    ">&nbsp;&nbsp;&nbsp;&nbsp;&nbsp; $= \\sum_{i=1}^n logp(x_i;\\theta_i)^{y_i} + log(1-p(x_i;\\theta_i))^{1-y_i}$\n",
    "- log취했으니 지수는 앞으로 나오게 되고\n",
    ">&nbsp;&nbsp;&nbsp;&nbsp;&nbsp; $= \\sum_{i=1}^n {y_i}logp(x_i;\\theta_i) + ({1-y_i})log(1-p(x_i;\\theta_i))$\n",
    "- p는 hypothesis function으로써 아래처럼 바뀔수 있다.\n",
    ">&nbsp;&nbsp;&nbsp;&nbsp;&nbsp; $= \\sum_{i=1}^n {y_i}log(\\frac{1}{1 + e^{-x_i \\theta}}) + ({1-y_i})log(1-\\frac{1}{1 + e^{-x_i \\theta}})$\n",
    "\n"
   ]
  },
  {
   "cell_type": "markdown",
   "metadata": {},
   "source": [
    "- 다시 정리해보면,\n",
    "> $ \\sum_{i=1}^n {y_i}logp(x_i;\\theta_i) + ({1-y_i})log(1-p(x_i;\\theta_i))$ <br>\n",
    "> $= \\sum_{i=1}^n log(1 - p{(x_i; \\theta_i)}) + \\sum_{i=1}^n y_i log\\frac{p(x_i;\\theta_i)}{1 - p(x_i; \\theta_i)}$ <br>\n",
    "> $= \\sum_{i=1}^n log(1 - p(x_i; \\theta_i)) + \\sum_{i=1}^n y_i x_i\\theta $ &nbsp;&nbsp;&nbsp;&nbsp;&nbsp;&nbsp;&nbsp;&nbsp;&nbsp;&nbsp;&nbsp;&nbsp;&nbsp;&nbsp;&nbsp;&nbsp;&nbsp;&nbsp;&nbsp; ($\\because log_e \\frac{p}{1-p} = z = x\\theta$)<br>\n",
    "> $= \\sum_{i=1}^n -log(1 + e^{x_i \\theta}) + \\sum_{i=1}^n y_i x_i \\theta$"
   ]
  },
  {
   "cell_type": "markdown",
   "metadata": {},
   "source": [
    "- **최대우도의 추정 = Cost Function** <br><br>\n",
    "$\\sum_{i=1}^n -log(1 + e^{x_i \\theta}) + \\sum_{i=1}^n y_i x_i \\theta$<br><br>\n",
    "\n",
    "$J(\\theta) = -\\frac{1}{m} \\sum_{i=1}^m [y_i x^i \\theta - x^i \\theta - log(1 + e^{-x^i \\theta })]$<br><br>\n",
    "&nbsp;&nbsp;&nbsp;&nbsp;&nbsp;&nbsp;&nbsp;&nbsp;&nbsp; **$= - \\frac{1}{m} \\sum_{i=1}^m [y_i x_i \\theta - log(1 + e^{x_i \\theta})]$**"
   ]
  },
  {
   "cell_type": "markdown",
   "metadata": {},
   "source": [
    "#### **[ Partial derivation of MLE ]** <br>\n",
    "\n",
    "$\\sum_{i=1}^n -log(1 + e^{x_i \\theta}) + \\sum_{i=1}^n y_i x_i \\theta$\n",
    "\n",
    "> $\\frac{\\partial}{\\partial \\theta_j} y_i \\theta x^i = y_i x^i_j$\n",
    "&nbsp;&nbsp;&nbsp;&nbsp;&nbsp;&nbsp;&nbsp;&nbsp;&nbsp;&nbsp;&nbsp;&nbsp;&nbsp;&nbsp;&nbsp;&nbsp;&nbsp;&nbsp;&nbsp;&nbsp;&nbsp;&nbsp;&nbsp;&nbsp;&nbsp;&nbsp;&nbsp;&nbsp;\n",
    "$\\frac{\\partial}{\\partial \\theta_j}log(1 + e^\\theta x^i) = \\frac{x_j^i e^{\\theta x^i}}{1 + e^{\\theta x^i}} = x^i_j h_\\theta (x^i)$\n",
    "\n",
    "#### **$ \\therefore \\frac{\\partial}{\\partial \\theta_j} J(\\theta) = \\frac{1}{m} \\sum_{i=1}^m (h_\\theta (x^i) - y^i)x_j^i$**\n",
    "\n",
    "\n"
   ]
  },
  {
   "cell_type": "markdown",
   "metadata": {},
   "source": [
    "<br><br>\n",
    "#### **LR for Scikit-Learn**"
   ]
  },
  {
   "cell_type": "code",
   "execution_count": 19,
   "metadata": {},
   "outputs": [],
   "source": [
    "import pandas as pd"
   ]
  },
  {
   "cell_type": "code",
   "execution_count": 20,
   "metadata": {},
   "outputs": [],
   "source": [
    "dataframe = pd.read_csv('C:/Users/pknu/workspace/TIL/ML/7_logistic_regression/uva.txt', sep = \"\\t\", engine='python', encoding = \"cp949\")"
   ]
  },
  {
   "cell_type": "code",
   "execution_count": 21,
   "metadata": {},
   "outputs": [
    {
     "data": {
      "text/html": [
       "<div>\n",
       "<style scoped>\n",
       "    .dataframe tbody tr th:only-of-type {\n",
       "        vertical-align: middle;\n",
       "    }\n",
       "\n",
       "    .dataframe tbody tr th {\n",
       "        vertical-align: top;\n",
       "    }\n",
       "\n",
       "    .dataframe thead th {\n",
       "        text-align: right;\n",
       "    }\n",
       "</style>\n",
       "<table border=\"1\" class=\"dataframe\">\n",
       "  <thead>\n",
       "    <tr style=\"text-align: right;\">\n",
       "      <th></th>\n",
       "      <th>who</th>\n",
       "      <th>Newbie</th>\n",
       "      <th>Age</th>\n",
       "      <th>Gender</th>\n",
       "      <th>Household Income</th>\n",
       "      <th>Sexual Preference</th>\n",
       "      <th>Country</th>\n",
       "      <th>Education Attainment</th>\n",
       "      <th>Major Occupation</th>\n",
       "      <th>Marital Status</th>\n",
       "      <th>Years on Internet</th>\n",
       "    </tr>\n",
       "  </thead>\n",
       "  <tbody>\n",
       "    <tr>\n",
       "      <th>0</th>\n",
       "      <td>id74364</td>\n",
       "      <td>0</td>\n",
       "      <td>54.0</td>\n",
       "      <td>Male</td>\n",
       "      <td>$50-74</td>\n",
       "      <td>Gay male</td>\n",
       "      <td>Ontario</td>\n",
       "      <td>Some College</td>\n",
       "      <td>Computer</td>\n",
       "      <td>Other</td>\n",
       "      <td>4-6 yr</td>\n",
       "    </tr>\n",
       "    <tr>\n",
       "      <th>1</th>\n",
       "      <td>id84505</td>\n",
       "      <td>0</td>\n",
       "      <td>39.0</td>\n",
       "      <td>Female</td>\n",
       "      <td>Over $100</td>\n",
       "      <td>Heterosexual</td>\n",
       "      <td>Sweden</td>\n",
       "      <td>Professional</td>\n",
       "      <td>Other</td>\n",
       "      <td>Other</td>\n",
       "      <td>1-3 yr</td>\n",
       "    </tr>\n",
       "    <tr>\n",
       "      <th>2</th>\n",
       "      <td>id84509</td>\n",
       "      <td>1</td>\n",
       "      <td>49.0</td>\n",
       "      <td>Female</td>\n",
       "      <td>$40-49</td>\n",
       "      <td>Heterosexual</td>\n",
       "      <td>Washington</td>\n",
       "      <td>Some College</td>\n",
       "      <td>Management</td>\n",
       "      <td>Other</td>\n",
       "      <td>Under 6 mo</td>\n",
       "    </tr>\n",
       "    <tr>\n",
       "      <th>3</th>\n",
       "      <td>id87028</td>\n",
       "      <td>1</td>\n",
       "      <td>22.0</td>\n",
       "      <td>Female</td>\n",
       "      <td>$40-49</td>\n",
       "      <td>Heterosexual</td>\n",
       "      <td>Florida</td>\n",
       "      <td>Some College</td>\n",
       "      <td>Computer</td>\n",
       "      <td>Married</td>\n",
       "      <td>6-12 mo</td>\n",
       "    </tr>\n",
       "    <tr>\n",
       "      <th>4</th>\n",
       "      <td>id76087</td>\n",
       "      <td>0</td>\n",
       "      <td>20.0</td>\n",
       "      <td>Male</td>\n",
       "      <td>$30-39</td>\n",
       "      <td>Bisexual</td>\n",
       "      <td>New Jersey</td>\n",
       "      <td>Some College</td>\n",
       "      <td>Education</td>\n",
       "      <td>Single</td>\n",
       "      <td>1-3 yr</td>\n",
       "    </tr>\n",
       "  </tbody>\n",
       "</table>\n",
       "</div>"
      ],
      "text/plain": [
       "       who  Newbie   Age  Gender Household Income Sexual Preference  \\\n",
       "0  id74364       0  54.0    Male           $50-74          Gay male   \n",
       "1  id84505       0  39.0  Female        Over $100      Heterosexual   \n",
       "2  id84509       1  49.0  Female           $40-49      Heterosexual   \n",
       "3  id87028       1  22.0  Female           $40-49      Heterosexual   \n",
       "4  id76087       0  20.0    Male           $30-39          Bisexual   \n",
       "\n",
       "      Country Education Attainment Major Occupation Marital Status  \\\n",
       "0     Ontario         Some College         Computer          Other   \n",
       "1      Sweden         Professional            Other          Other   \n",
       "2  Washington         Some College       Management          Other   \n",
       "3     Florida         Some College         Computer        Married   \n",
       "4  New Jersey         Some College        Education         Single   \n",
       "\n",
       "  Years on Internet  \n",
       "0            4-6 yr  \n",
       "1            1-3 yr  \n",
       "2        Under 6 mo  \n",
       "3           6-12 mo  \n",
       "4            1-3 yr  "
      ]
     },
     "execution_count": 21,
     "metadata": {},
     "output_type": "execute_result"
    }
   ],
   "source": [
    "dataframe[:5]"
   ]
  },
  {
   "cell_type": "code",
   "execution_count": 22,
   "metadata": {},
   "outputs": [
    {
     "name": "stdout",
     "output_type": "stream",
     "text": [
      "(19583, 11)\n",
      "who                      object\n",
      "Newbie                    int64\n",
      "Age                     float64\n",
      "Gender                   object\n",
      "Household Income         object\n",
      "Sexual Preference        object\n",
      "Country                  object\n",
      "Education Attainment     object\n",
      "Major Occupation         object\n",
      "Marital Status           object\n",
      "Years on Internet        object\n",
      "dtype: object\n"
     ]
    }
   ],
   "source": [
    "print(dataframe.shape)\n",
    "print(dataframe.dtypes)"
   ]
  },
  {
   "cell_type": "code",
   "execution_count": 23,
   "metadata": {},
   "outputs": [
    {
     "data": {
      "text/plain": [
       "array(['Other', 'Married', 'Single', 'Divorced', 'Widowed', nan,\n",
       "       'Separated'], dtype=object)"
      ]
     },
     "execution_count": 23,
     "metadata": {},
     "output_type": "execute_result"
    }
   ],
   "source": [
    "dataframe[\"Marital Status\"].unique()"
   ]
  },
  {
   "cell_type": "markdown",
   "metadata": {},
   "source": [
    "- 제거해야할 열 제거, Years on Internet은 너무 영향력이 큰 열이라 지움"
   ]
  },
  {
   "cell_type": "code",
   "execution_count": 24,
   "metadata": {},
   "outputs": [
    {
     "data": {
      "text/plain": [
       "Newbie                    int64\n",
       "Age                     float64\n",
       "Gender                   object\n",
       "Household Income         object\n",
       "Sexual Preference        object\n",
       "Education Attainment     object\n",
       "Major Occupation         object\n",
       "Marital Status           object\n",
       "dtype: object"
      ]
     },
     "execution_count": 24,
     "metadata": {},
     "output_type": "execute_result"
    }
   ],
   "source": [
    "dataframe.pop('who')\n",
    "dataframe.pop('Country')\n",
    "dataframe.pop('Years on Internet')\n",
    "\n",
    "dataframe.dtypes"
   ]
  },
  {
   "cell_type": "markdown",
   "metadata": {},
   "source": [
    "- 빠르게 getdummies하기위해서 필요한 열들 category형으로 바꿔줌"
   ]
  },
  {
   "cell_type": "code",
   "execution_count": 25,
   "metadata": {},
   "outputs": [
    {
     "data": {
      "text/plain": [
       "Newbie                     int64\n",
       "Age                      float64\n",
       "Gender                  category\n",
       "Household Income          object\n",
       "Sexual Preference         object\n",
       "Education Attainment      object\n",
       "Major Occupation          object\n",
       "Marital Status            object\n",
       "dtype: object"
      ]
     },
     "execution_count": 25,
     "metadata": {},
     "output_type": "execute_result"
    }
   ],
   "source": [
    "dataframe[\"Gender\"] = dataframe[\"Gender\"].astype(\"category\")\n",
    "dataframe.dtypes"
   ]
  },
  {
   "cell_type": "code",
   "execution_count": 26,
   "metadata": {},
   "outputs": [
    {
     "data": {
      "text/plain": [
       "Newbie                     int64\n",
       "Age                      float64\n",
       "Gender                  category\n",
       "Household Income        category\n",
       "Sexual Preference       category\n",
       "Education Attainment    category\n",
       "Major Occupation        category\n",
       "Marital Status          category\n",
       "dtype: object"
      ]
     },
     "execution_count": 26,
     "metadata": {},
     "output_type": "execute_result"
    }
   ],
   "source": [
    "for col in ['Household Income', 'Sexual Preference', 'Education Attainment', 'Major Occupation', 'Marital Status']:\n",
    "    dataframe[col] = dataframe[col].astype('category')\n",
    "\n",
    "dataframe.dtypes"
   ]
  },
  {
   "cell_type": "markdown",
   "metadata": {},
   "source": [
    "- getdummies 실행"
   ]
  },
  {
   "cell_type": "code",
   "execution_count": 27,
   "metadata": {},
   "outputs": [
    {
     "data": {
      "text/html": [
       "<div>\n",
       "<style scoped>\n",
       "    .dataframe tbody tr th:only-of-type {\n",
       "        vertical-align: middle;\n",
       "    }\n",
       "\n",
       "    .dataframe tbody tr th {\n",
       "        vertical-align: top;\n",
       "    }\n",
       "\n",
       "    .dataframe thead th {\n",
       "        text-align: right;\n",
       "    }\n",
       "</style>\n",
       "<table border=\"1\" class=\"dataframe\">\n",
       "  <thead>\n",
       "    <tr style=\"text-align: right;\">\n",
       "      <th></th>\n",
       "      <th>Newbie</th>\n",
       "      <th>Age</th>\n",
       "      <th>Gender_Female</th>\n",
       "      <th>Gender_Male</th>\n",
       "      <th>Household Income_$10-19</th>\n",
       "      <th>Household Income_$20-29</th>\n",
       "      <th>Household Income_$30-39</th>\n",
       "      <th>Household Income_$40-49</th>\n",
       "      <th>Household Income_$50-74</th>\n",
       "      <th>Household Income_$75-99</th>\n",
       "      <th>...</th>\n",
       "      <th>Major Occupation_Education</th>\n",
       "      <th>Major Occupation_Management</th>\n",
       "      <th>Major Occupation_Other</th>\n",
       "      <th>Major Occupation_Professional</th>\n",
       "      <th>Marital Status_Divorced</th>\n",
       "      <th>Marital Status_Married</th>\n",
       "      <th>Marital Status_Other</th>\n",
       "      <th>Marital Status_Separated</th>\n",
       "      <th>Marital Status_Single</th>\n",
       "      <th>Marital Status_Widowed</th>\n",
       "    </tr>\n",
       "  </thead>\n",
       "  <tbody>\n",
       "    <tr>\n",
       "      <th>0</th>\n",
       "      <td>0</td>\n",
       "      <td>54.0</td>\n",
       "      <td>0</td>\n",
       "      <td>1</td>\n",
       "      <td>0</td>\n",
       "      <td>0</td>\n",
       "      <td>0</td>\n",
       "      <td>0</td>\n",
       "      <td>1</td>\n",
       "      <td>0</td>\n",
       "      <td>...</td>\n",
       "      <td>0</td>\n",
       "      <td>0</td>\n",
       "      <td>0</td>\n",
       "      <td>0</td>\n",
       "      <td>0</td>\n",
       "      <td>0</td>\n",
       "      <td>1</td>\n",
       "      <td>0</td>\n",
       "      <td>0</td>\n",
       "      <td>0</td>\n",
       "    </tr>\n",
       "    <tr>\n",
       "      <th>1</th>\n",
       "      <td>0</td>\n",
       "      <td>39.0</td>\n",
       "      <td>1</td>\n",
       "      <td>0</td>\n",
       "      <td>0</td>\n",
       "      <td>0</td>\n",
       "      <td>0</td>\n",
       "      <td>0</td>\n",
       "      <td>0</td>\n",
       "      <td>0</td>\n",
       "      <td>...</td>\n",
       "      <td>0</td>\n",
       "      <td>0</td>\n",
       "      <td>1</td>\n",
       "      <td>0</td>\n",
       "      <td>0</td>\n",
       "      <td>0</td>\n",
       "      <td>1</td>\n",
       "      <td>0</td>\n",
       "      <td>0</td>\n",
       "      <td>0</td>\n",
       "    </tr>\n",
       "    <tr>\n",
       "      <th>2</th>\n",
       "      <td>1</td>\n",
       "      <td>49.0</td>\n",
       "      <td>1</td>\n",
       "      <td>0</td>\n",
       "      <td>0</td>\n",
       "      <td>0</td>\n",
       "      <td>0</td>\n",
       "      <td>1</td>\n",
       "      <td>0</td>\n",
       "      <td>0</td>\n",
       "      <td>...</td>\n",
       "      <td>0</td>\n",
       "      <td>1</td>\n",
       "      <td>0</td>\n",
       "      <td>0</td>\n",
       "      <td>0</td>\n",
       "      <td>0</td>\n",
       "      <td>1</td>\n",
       "      <td>0</td>\n",
       "      <td>0</td>\n",
       "      <td>0</td>\n",
       "    </tr>\n",
       "    <tr>\n",
       "      <th>3</th>\n",
       "      <td>1</td>\n",
       "      <td>22.0</td>\n",
       "      <td>1</td>\n",
       "      <td>0</td>\n",
       "      <td>0</td>\n",
       "      <td>0</td>\n",
       "      <td>0</td>\n",
       "      <td>1</td>\n",
       "      <td>0</td>\n",
       "      <td>0</td>\n",
       "      <td>...</td>\n",
       "      <td>0</td>\n",
       "      <td>0</td>\n",
       "      <td>0</td>\n",
       "      <td>0</td>\n",
       "      <td>0</td>\n",
       "      <td>1</td>\n",
       "      <td>0</td>\n",
       "      <td>0</td>\n",
       "      <td>0</td>\n",
       "      <td>0</td>\n",
       "    </tr>\n",
       "    <tr>\n",
       "      <th>4</th>\n",
       "      <td>0</td>\n",
       "      <td>20.0</td>\n",
       "      <td>0</td>\n",
       "      <td>1</td>\n",
       "      <td>0</td>\n",
       "      <td>0</td>\n",
       "      <td>1</td>\n",
       "      <td>0</td>\n",
       "      <td>0</td>\n",
       "      <td>0</td>\n",
       "      <td>...</td>\n",
       "      <td>1</td>\n",
       "      <td>0</td>\n",
       "      <td>0</td>\n",
       "      <td>0</td>\n",
       "      <td>0</td>\n",
       "      <td>0</td>\n",
       "      <td>0</td>\n",
       "      <td>0</td>\n",
       "      <td>1</td>\n",
       "      <td>0</td>\n",
       "    </tr>\n",
       "  </tbody>\n",
       "</table>\n",
       "<p>5 rows × 38 columns</p>\n",
       "</div>"
      ],
      "text/plain": [
       "   Newbie   Age  Gender_Female  Gender_Male  Household Income_$10-19  \\\n",
       "0       0  54.0              0            1                        0   \n",
       "1       0  39.0              1            0                        0   \n",
       "2       1  49.0              1            0                        0   \n",
       "3       1  22.0              1            0                        0   \n",
       "4       0  20.0              0            1                        0   \n",
       "\n",
       "   Household Income_$20-29  Household Income_$30-39  Household Income_$40-49  \\\n",
       "0                        0                        0                        0   \n",
       "1                        0                        0                        0   \n",
       "2                        0                        0                        1   \n",
       "3                        0                        0                        1   \n",
       "4                        0                        1                        0   \n",
       "\n",
       "   Household Income_$50-74  Household Income_$75-99           ...            \\\n",
       "0                        1                        0           ...             \n",
       "1                        0                        0           ...             \n",
       "2                        0                        0           ...             \n",
       "3                        0                        0           ...             \n",
       "4                        0                        0           ...             \n",
       "\n",
       "   Major Occupation_Education  Major Occupation_Management  \\\n",
       "0                           0                            0   \n",
       "1                           0                            0   \n",
       "2                           0                            1   \n",
       "3                           0                            0   \n",
       "4                           1                            0   \n",
       "\n",
       "   Major Occupation_Other  Major Occupation_Professional  \\\n",
       "0                       0                              0   \n",
       "1                       1                              0   \n",
       "2                       0                              0   \n",
       "3                       0                              0   \n",
       "4                       0                              0   \n",
       "\n",
       "   Marital Status_Divorced  Marital Status_Married  Marital Status_Other  \\\n",
       "0                        0                       0                     1   \n",
       "1                        0                       0                     1   \n",
       "2                        0                       0                     1   \n",
       "3                        0                       1                     0   \n",
       "4                        0                       0                     0   \n",
       "\n",
       "   Marital Status_Separated  Marital Status_Single  Marital Status_Widowed  \n",
       "0                         0                      0                       0  \n",
       "1                         0                      0                       0  \n",
       "2                         0                      0                       0  \n",
       "3                         0                      0                       0  \n",
       "4                         0                      1                       0  \n",
       "\n",
       "[5 rows x 38 columns]"
      ]
     },
     "execution_count": 27,
     "metadata": {},
     "output_type": "execute_result"
    }
   ],
   "source": [
    "dataframe_modified = pd.get_dummies(dataframe)\n",
    "dataframe_modified[:5]"
   ]
  },
  {
   "cell_type": "code",
   "execution_count": 28,
   "metadata": {},
   "outputs": [
    {
     "data": {
      "text/plain": [
       "(19583, 38)"
      ]
     },
     "execution_count": 28,
     "metadata": {},
     "output_type": "execute_result"
    }
   ],
   "source": [
    "# 늘어난 열 확인\n",
    "dataframe_modified.shape"
   ]
  },
  {
   "cell_type": "markdown",
   "metadata": {},
   "source": [
    "- 결측치 확인"
   ]
  },
  {
   "cell_type": "code",
   "execution_count": 29,
   "metadata": {},
   "outputs": [
    {
     "data": {
      "text/plain": [
       "Newbie                                 0\n",
       "Age                                  561\n",
       "Gender_Female                          0\n",
       "Gender_Male                            0\n",
       "Household Income_$10-19                0\n",
       "Household Income_$20-29                0\n",
       "Household Income_$30-39                0\n",
       "Household Income_$40-49                0\n",
       "Household Income_$50-74                0\n",
       "Household Income_$75-99                0\n",
       "Household Income_Over $100             0\n",
       "Household Income_Under $10             0\n",
       "Sexual Preference_Bisexual             0\n",
       "Sexual Preference_Gay male             0\n",
       "Sexual Preference_Heterosexual         0\n",
       "Sexual Preference_Lesbian              0\n",
       "Sexual Preference_Transgender          0\n",
       "Sexual Preference_na                   0\n",
       "Education Attainment_College           0\n",
       "Education Attainment_Doctoral          0\n",
       "Education Attainment_Grammar           0\n",
       "Education Attainment_High School       0\n",
       "Education Attainment_Masters           0\n",
       "Education Attainment_Other             0\n",
       "Education Attainment_Professional      0\n",
       "Education Attainment_Some College      0\n",
       "Education Attainment_Special           0\n",
       "Major Occupation_Computer              0\n",
       "Major Occupation_Education             0\n",
       "Major Occupation_Management            0\n",
       "Major Occupation_Other                 0\n",
       "Major Occupation_Professional          0\n",
       "Marital Status_Divorced                0\n",
       "Marital Status_Married                 0\n",
       "Marital Status_Other                   0\n",
       "Marital Status_Separated               0\n",
       "Marital Status_Single                  0\n",
       "Marital Status_Widowed                 0\n",
       "dtype: int64"
      ]
     },
     "execution_count": 29,
     "metadata": {},
     "output_type": "execute_result"
    }
   ],
   "source": [
    "dataframe_modified.isnull().sum()"
   ]
  },
  {
   "cell_type": "markdown",
   "metadata": {},
   "source": [
    "- Age열의 결측치를 해당열의 평균으로 채워넣음"
   ]
  },
  {
   "cell_type": "code",
   "execution_count": 30,
   "metadata": {},
   "outputs": [],
   "source": [
    "dataframe_modified.loc[pd.isnull(dataframe_modified['Age']), \"Age\"] =  dataframe_modified['Age'].mean()"
   ]
  },
  {
   "cell_type": "code",
   "execution_count": 31,
   "metadata": {},
   "outputs": [
    {
     "data": {
      "text/plain": [
       "Series([], Name: Age, dtype: float64)"
      ]
     },
     "execution_count": 31,
     "metadata": {},
     "output_type": "execute_result"
    }
   ],
   "source": [
    "# 결측치 잘 채워졌는지 확인\n",
    "dataframe_modified['Age'][pd.isnull(dataframe_modified['Age'])]"
   ]
  },
  {
   "cell_type": "markdown",
   "metadata": {},
   "source": [
    "- x, y 분리"
   ]
  },
  {
   "cell_type": "code",
   "execution_count": 32,
   "metadata": {},
   "outputs": [
    {
     "data": {
      "text/plain": [
       "((19583, 1), (19583, 37))"
      ]
     },
     "execution_count": 32,
     "metadata": {},
     "output_type": "execute_result"
    }
   ],
   "source": [
    "x_data = dataframe_modified.iloc[:, 1:].as_matrix()\n",
    "y_data = dataframe_modified.iloc[:, 0].as_matrix().reshape(-1,1)\n",
    "y_data.shape, x_data.shape"
   ]
  },
  {
   "cell_type": "markdown",
   "metadata": {},
   "source": [
    "- 정규화 진행"
   ]
  },
  {
   "cell_type": "code",
   "execution_count": 33,
   "metadata": {},
   "outputs": [],
   "source": [
    "from sklearn import preprocessing\n",
    "\n",
    "min_max_scaler = preprocessing.MinMaxScaler()\n",
    "x_data = min_max_scaler.fit_transform(x_data)"
   ]
  },
  {
   "cell_type": "code",
   "execution_count": 34,
   "metadata": {},
   "outputs": [
    {
     "data": {
      "text/plain": [
       "((15666, 37), (3916, 37))"
      ]
     },
     "execution_count": 34,
     "metadata": {},
     "output_type": "execute_result"
    }
   ],
   "source": [
    "from random import randint\n",
    "import numpy as np\n",
    "\n",
    "#train, test데이터로 활용할 데이터들 분리 (8:2)\n",
    "training_idx = np.random.randint(y_data.shape[0], size=int(y_data.shape[0] * 0.8))\n",
    "test_idx = np.random.randint(y_data.shape[0], size=int(y_data.shape[0] * 0.2))\n",
    "\n",
    "x_training, x_test = x_data[training_idx,:], x_data[test_idx,:]\n",
    "y_training, y_test = y_data[training_idx,:], y_data[test_idx,:]\n",
    "\n",
    "x_training.shape, x_test.shape\n"
   ]
  },
  {
   "cell_type": "markdown",
   "metadata": {},
   "source": [
    "- Logistic Regression진행"
   ]
  },
  {
   "cell_type": "code",
   "execution_count": 35,
   "metadata": {},
   "outputs": [
    {
     "data": {
      "text/plain": [
       "LogisticRegression(C=1.0, class_weight=None, dual=False, fit_intercept=True,\n",
       "          intercept_scaling=1, max_iter=100, multi_class='ovr', n_jobs=1,\n",
       "          penalty='l2', random_state=None, solver='liblinear', tol=0.0001,\n",
       "          verbose=0, warm_start=False)"
      ]
     },
     "execution_count": 35,
     "metadata": {},
     "output_type": "execute_result"
    }
   ],
   "source": [
    "from sklearn import linear_model, datasets\n",
    "\n",
    "logreg = linear_model.LogisticRegression(fit_intercept=True) # fit_intercept : 절편추가여부\n",
    "logreg.fit(x_training, y_training.flatten()) # 피팅"
   ]
  },
  {
   "cell_type": "markdown",
   "metadata": {},
   "source": [
    "- .predict : 예측"
   ]
  },
  {
   "cell_type": "code",
   "execution_count": 36,
   "metadata": {},
   "outputs": [
    {
     "data": {
      "text/plain": [
       "array([0, 0, 0, 0, 0], dtype=int64)"
      ]
     },
     "execution_count": 36,
     "metadata": {},
     "output_type": "execute_result"
    }
   ],
   "source": [
    "logreg.predict(x_test[:5])"
   ]
  },
  {
   "cell_type": "markdown",
   "metadata": {},
   "source": [
    "- .predict_proba : 0이될 확률, 1이될 확률을 예측\n",
    "- [:, 1] > 0.3   이런식으로 threshold조절가능"
   ]
  },
  {
   "cell_type": "code",
   "execution_count": 37,
   "metadata": {},
   "outputs": [
    {
     "data": {
      "text/plain": [
       "array([[0.58005242, 0.41994758],\n",
       "       [0.94191314, 0.05808686],\n",
       "       [0.59580367, 0.40419633],\n",
       "       [0.75478841, 0.24521159],\n",
       "       [0.7873332 , 0.2126668 ]])"
      ]
     },
     "execution_count": 37,
     "metadata": {},
     "output_type": "execute_result"
    }
   ],
   "source": [
    "logreg.predict_proba(x_test[:5]) #[:, 1] > 0.3   이런식으로 threshold조절가능\n",
    "# array안의 0번째 value가 0이될 확률, 1번째 value가 1이될 확률\n",
    "# 따라서 0번째는 0, 1번째는 1, 2번째는 0으로 예측됨"
   ]
  },
  {
   "cell_type": "code",
   "execution_count": 38,
   "metadata": {},
   "outputs": [
    {
     "name": "stdout",
     "output_type": "stream",
     "text": [
      "(3916, 37)\n",
      "(3916, 1)\n"
     ]
    }
   ],
   "source": [
    "print(x_test.shape)\n",
    "print(y_test.shape)"
   ]
  },
  {
   "cell_type": "markdown",
   "metadata": {},
   "source": [
    "- 예측치로 실제 얼마나 맞췄는지 확인"
   ]
  },
  {
   "cell_type": "code",
   "execution_count": 39,
   "metadata": {},
   "outputs": [
    {
     "data": {
      "text/plain": [
       "array([ True, False, False, ...,  True,  True, False])"
      ]
     },
     "execution_count": 39,
     "metadata": {},
     "output_type": "execute_result"
    }
   ],
   "source": [
    "logreg.predict(x_test) == y_test.flatten()"
   ]
  },
  {
   "cell_type": "markdown",
   "metadata": {},
   "source": [
    "- 성능확인 - Accuracy"
   ]
  },
  {
   "cell_type": "code",
   "execution_count": 40,
   "metadata": {},
   "outputs": [
    {
     "data": {
      "text/plain": [
       "0.7602145045965271"
      ]
     },
     "execution_count": 40,
     "metadata": {},
     "output_type": "execute_result"
    }
   ],
   "source": [
    "sum(logreg.predict(x_test) == y_test.flatten()) / len(y_test)"
   ]
  },
  {
   "cell_type": "code",
   "execution_count": 41,
   "metadata": {},
   "outputs": [
    {
     "data": {
      "text/plain": [
       "array([[0.58005242, 0.41994758],\n",
       "       [0.94191314, 0.05808686],\n",
       "       [0.59580367, 0.40419633],\n",
       "       ...,\n",
       "       [0.89146708, 0.10853292],\n",
       "       [0.94602441, 0.05397559],\n",
       "       [0.50149384, 0.49850616]])"
      ]
     },
     "execution_count": 41,
     "metadata": {},
     "output_type": "execute_result"
    }
   ],
   "source": [
    "logreg.predict_proba(x_test)"
   ]
  },
  {
   "cell_type": "markdown",
   "metadata": {},
   "source": [
    "- .decision_function : 결과값이 0보다 크냐작냐를 기준으로 True, False를 나눠줌"
   ]
  },
  {
   "cell_type": "code",
   "execution_count": 42,
   "metadata": {},
   "outputs": [
    {
     "data": {
      "text/plain": [
       "array([-0.32298858, -2.78597358, -0.38801047, -1.12431598, -1.30892489])"
      ]
     },
     "execution_count": 42,
     "metadata": {},
     "output_type": "execute_result"
    }
   ],
   "source": [
    "logreg.decision_function(x_test[:5])"
   ]
  },
  {
   "cell_type": "code",
   "execution_count": 43,
   "metadata": {},
   "outputs": [
    {
     "data": {
      "text/plain": [
       "array([0, 0, 0, 0, 0], dtype=int64)"
      ]
     },
     "execution_count": 43,
     "metadata": {},
     "output_type": "execute_result"
    }
   ],
   "source": [
    "logreg.predict(x_test[:5])"
   ]
  },
  {
   "cell_type": "markdown",
   "metadata": {},
   "source": [
    "<br><br>\n",
    "#### **Confusion Matrix**\n",
    "- 분류문제에서 정확도 성능을 측정할수 있는 도구\n",
    "- 실제 class대비 얼마나 잘 맞췄는가 ?\n",
    "<br><br>\n",
    "![img](https://ifh.cc/g/5C9WOk.png)\n",
    "- 실제 라벨과 예측 라벨의 일치 개수를 Matrix형태로 표현하는 기법\n",
    "<br><br>\n",
    "- **True / False** : 예측의 정답여부\n",
    "- **Positive / Negaative** : 살제결과는 어떤지\n",
    "<br><br>\n",
    "- **True Positive(TP)** : 실제결과 참(1)에 대한 예측이 맞음\n",
    "- **True Negative(TN)** : 실제결과 거짓(0)에 대한 에측이 맞음\n",
    "- **False Positive(FP)** : 실제결과 참(1)에 대한 예측이 틀림\n",
    "- **False Negative(FN)** : 실제결과 거짓(0)에 대한 예측이 틀림"
   ]
  },
  {
   "cell_type": "code",
   "execution_count": 44,
   "metadata": {},
   "outputs": [
    {
     "data": {
      "text/plain": [
       "array([[2, 0],\n",
       "       [1, 3]], dtype=int64)"
      ]
     },
     "execution_count": 44,
     "metadata": {},
     "output_type": "execute_result"
    }
   ],
   "source": [
    "from sklearn.metrics import confusion_matrix\n",
    "y_true = [1, 0, 1, 1, 0, 1]\n",
    "y_pred = [0, 0, 1, 1, 0, 1]\n",
    "confusion_matrix(y_true, y_pred)\n",
    "\n",
    "# 1행 1열 : 실제 0을 0이라 예측한 갯수\n",
    "# 1행 2열 : 실제 0을 1이라 예측한 갯수\n",
    "# 2행 1열 : 실제 1을 0이라 예측한 갯수\n",
    "# 2행 2열 : 실제 1을 1이라 예측한 갯수\n"
   ]
  },
  {
   "cell_type": "code",
   "execution_count": 45,
   "metadata": {},
   "outputs": [
    {
     "data": {
      "text/plain": [
       "(2, 0, 1, 3)"
      ]
     },
     "execution_count": 45,
     "metadata": {},
     "output_type": "execute_result"
    }
   ],
   "source": [
    "tn, fp, fn, tp = confusion_matrix(y_true, y_pred).ravel()\n",
    "(tn, fp, fn, tp)"
   ]
  },
  {
   "cell_type": "markdown",
   "metadata": {},
   "source": [
    "<br><br>\n",
    "#### **Metrics for classification**"
   ]
  },
  {
   "cell_type": "markdown",
   "metadata": {},
   "source": [
    "**[ 정확도(Accuracy, ACC) ]**\n",
    "- 전체 데이터 대비 정확하게 예측한 개수의 비율\n",
    "<br><br>\n",
    "![img](https://ifh.cc/g/W3NhDD.png)<br>\n",
    "- $ACC = \\frac{TP + TN}{TP + TN + FP + FN}$ <br><br>\n",
    "- $ACC = 1 - ERR$  &nbsp;&nbsp;&nbsp;&nbsp;&nbsp;&nbsp;&nbsp;&nbsp;&nbsp; (ERR : 틀린 갯수 비율)\n"
   ]
  },
  {
   "cell_type": "code",
   "execution_count": 46,
   "metadata": {},
   "outputs": [],
   "source": [
    "import numpy as np\n",
    "from sklearn.metrics import accuracy_score\n",
    "y_pred = np.array([0, 1, 1, 0])\n",
    "y_true = np.array([0, 1, 0, 0])"
   ]
  },
  {
   "cell_type": "code",
   "execution_count": 47,
   "metadata": {},
   "outputs": [
    {
     "data": {
      "text/plain": [
       "0.75"
      ]
     },
     "execution_count": 47,
     "metadata": {},
     "output_type": "execute_result"
    }
   ],
   "source": [
    "sum(y_true == y_pred) / len(y_true)"
   ]
  },
  {
   "cell_type": "code",
   "execution_count": 48,
   "metadata": {},
   "outputs": [
    {
     "data": {
      "text/plain": [
       "0.75"
      ]
     },
     "execution_count": 48,
     "metadata": {},
     "output_type": "execute_result"
    }
   ],
   "source": [
    "accuracy_score(y_true, y_pred)"
   ]
  },
  {
   "cell_type": "markdown",
   "metadata": {},
   "source": [
    "**불균일한 Dataset일 때**\n",
    "- 14세 이하의 10만명당 암 발병 인원은 14.8여명, 약 0.015%\n",
    "- 대학의 학사경고자 평균 비율 3%\n",
    "- 하버드 입학 지원자의 합격률은 2%\n",
    "<br><br>\n",
    "-  다 하나로 예측해버리면 정확도를 측정하기 힘들다"
   ]
  },
  {
   "cell_type": "markdown",
   "metadata": {},
   "source": [
    "**[ 정밀도(Precision, Positive Predictive Value) ]**\n",
    "- 긍정이라고 예측한 비율 중 진짜 긍정의 비율\n",
    "- 긍정이라고 얼마나 잘 예측했는가? 긍정 예측 정밀도?\n",
    "<br><br>\n",
    "![img](https://ifh.cc/g/W3NhDD.png)<br>\n",
    "- $PRECISION(PPV) = \\frac{TP}{TP + FP}$ <br><br>\n"
   ]
  },
  {
   "cell_type": "code",
   "execution_count": 49,
   "metadata": {},
   "outputs": [],
   "source": [
    "# precision_score : 정밀도\n",
    "from sklearn.metrics import precision_score"
   ]
  },
  {
   "cell_type": "code",
   "execution_count": 50,
   "metadata": {},
   "outputs": [],
   "source": [
    "y_pred = np.array([0, 1, 1, 0])\n",
    "y_true = np.array([0, 1, 0, 0])"
   ]
  },
  {
   "cell_type": "code",
   "execution_count": 51,
   "metadata": {},
   "outputs": [
    {
     "data": {
      "text/plain": [
       "0.5"
      ]
     },
     "execution_count": 51,
     "metadata": {},
     "output_type": "execute_result"
    }
   ],
   "source": [
    "# 내가 참이라고 예측한 비율 중 정확하게 참인 것\n",
    "sum((y_pred ==1) & (y_pred == y_true)) / sum(y_pred)"
   ]
  },
  {
   "cell_type": "markdown",
   "metadata": {},
   "source": [
    "- Mutilclass일 때"
   ]
  },
  {
   "cell_type": "code",
   "execution_count": 52,
   "metadata": {},
   "outputs": [
    {
     "data": {
      "text/plain": [
       "array([[2, 0, 0],\n",
       "       [1, 0, 1],\n",
       "       [0, 2, 0]], dtype=int64)"
      ]
     },
     "execution_count": 52,
     "metadata": {},
     "output_type": "execute_result"
    }
   ],
   "source": [
    "y_true = [0, 1, 2, 0, 1, 2]\n",
    "y_pred = [0, 2, 1, 0, 0, 1]\n",
    "confusion_matrix(y_true, y_pred)"
   ]
  },
  {
   "cell_type": "markdown",
   "metadata": {},
   "source": [
    "- average=None : 각 Label별 precision출력\n",
    "- average='macro' : Label별 값 합의 평균\n",
    "- average='micro' : 전체평균"
   ]
  },
  {
   "cell_type": "code",
   "execution_count": 57,
   "metadata": {},
   "outputs": [
    {
     "data": {
      "text/plain": [
       "array([0.66666667, 0.        , 0.        ])"
      ]
     },
     "execution_count": 57,
     "metadata": {},
     "output_type": "execute_result"
    }
   ],
   "source": [
    "precision_score(y_true, y_pred, average=None)"
   ]
  },
  {
   "cell_type": "code",
   "execution_count": 54,
   "metadata": {},
   "outputs": [
    {
     "data": {
      "text/plain": [
       "0.2222222222222222"
      ]
     },
     "execution_count": 54,
     "metadata": {},
     "output_type": "execute_result"
    }
   ],
   "source": [
    "precision_score(y_true, y_pred, average='macro')\n",
    "# average=None일 때 각 label평 precision의 값으로 평균을 냄"
   ]
  },
  {
   "cell_type": "code",
   "execution_count": 55,
   "metadata": {},
   "outputs": [
    {
     "data": {
      "text/plain": [
       "0.3333333333333333"
      ]
     },
     "execution_count": 55,
     "metadata": {},
     "output_type": "execute_result"
    }
   ],
   "source": [
    "precision_score(y_true, y_pred, average='micro')\n",
    "# 전체 예측치에서 내가 맞춘것만 (2/6)"
   ]
  },
  {
   "cell_type": "markdown",
   "metadata": {},
   "source": [
    "**[ 민감도(Sensitivity, Recall, True Positive Rate) ]**\n",
    "- 실제 긍정 데이터 중 긍정이라고 예측한 비율, 반환률, 재현률\n",
    "- 얼마나 잘 긍정이라고 예측하였는가?\n",
    "<br><br>\n",
    "![img](https://ifh.cc/g/W3NhDD.png)<br>\n",
    "- $RECALL(TPR) = \\frac{TP}{TP + FN} = \\frac{TP}{P}$ <br><br>\n"
   ]
  },
  {
   "cell_type": "code",
   "execution_count": 58,
   "metadata": {},
   "outputs": [],
   "source": [
    "from sklearn.metrics import recall_score"
   ]
  },
  {
   "cell_type": "code",
   "execution_count": 60,
   "metadata": {},
   "outputs": [],
   "source": [
    "y_pred = np.array([0, 1, 1, 0])\n",
    "y_true = np.array([0, 1, 0, 0])"
   ]
  },
  {
   "cell_type": "code",
   "execution_count": 61,
   "metadata": {},
   "outputs": [
    {
     "data": {
      "text/plain": [
       "1.0"
      ]
     },
     "execution_count": 61,
     "metadata": {},
     "output_type": "execute_result"
    }
   ],
   "source": [
    "sum((y_true == 1) & (y_pred == y_true)) / sum(y_true) \n",
    "# 실제로 1인 놈중에서 얼마나 잘 맞췄는가"
   ]
  },
  {
   "cell_type": "code",
   "execution_count": 62,
   "metadata": {},
   "outputs": [
    {
     "data": {
      "text/plain": [
       "1.0"
      ]
     },
     "execution_count": 62,
     "metadata": {},
     "output_type": "execute_result"
    }
   ],
   "source": [
    "recall_score(y_true, y_pred)"
   ]
  },
  {
   "cell_type": "markdown",
   "metadata": {},
   "source": [
    "- Multiclass일 때"
   ]
  },
  {
   "cell_type": "code",
   "execution_count": 63,
   "metadata": {},
   "outputs": [
    {
     "data": {
      "text/plain": [
       "0.3333333333333333"
      ]
     },
     "execution_count": 63,
     "metadata": {},
     "output_type": "execute_result"
    }
   ],
   "source": [
    "y_true = [0, 1, 2, 0, 1, 2]\n",
    "y_pred = [0, 2, 1, 0, 0, 1]\n",
    "recall_score(y_true, y_pred, average='macro')"
   ]
  },
  {
   "cell_type": "code",
   "execution_count": 64,
   "metadata": {},
   "outputs": [
    {
     "data": {
      "text/plain": [
       "0.3333333333333333"
      ]
     },
     "execution_count": 64,
     "metadata": {},
     "output_type": "execute_result"
    }
   ],
   "source": [
    "recall_score(y_true, y_pred, average='micro')"
   ]
  },
  {
   "cell_type": "code",
   "execution_count": 65,
   "metadata": {},
   "outputs": [
    {
     "data": {
      "text/plain": [
       "array([1., 0., 0.])"
      ]
     },
     "execution_count": 65,
     "metadata": {},
     "output_type": "execute_result"
    }
   ],
   "source": [
    "recall_score(y_true, y_pred, average=None)"
   ]
  },
  {
   "cell_type": "markdown",
   "metadata": {},
   "source": [
    "**[ 특이성(Specificity, True Negative Rate) ]**\n",
    "- 부정을 얼마나 잘 부정이라고 인식했는가?\n",
    "- 전체 부정 중 정확히 부정이라고 예측한 비율\n",
    "<br><br>\n",
    "![img](https://ifh.cc/g/W3NhDD.png)<br>\n",
    "- $SPC = \\frac{TN}{TN + FP} = \\frac{TN}{N}$ <br><br>\n"
   ]
  },
  {
   "cell_type": "markdown",
   "metadata": {},
   "source": [
    "**[ F1 Score (F-measure, F-score) ]**\n",
    "- Precision과 Recall을 통합한 측정지표\n",
    "- Precision과 Recall의 조화평균\n",
    "<br><br>\n",
    "![img](https://ifh.cc/g/W3NhDD.png)<br>\n",
    "#### $F_1 = 2 \\frac{precision * recall}{precision + recall}$ <br><br>\n"
   ]
  },
  {
   "cell_type": "code",
   "execution_count": 66,
   "metadata": {},
   "outputs": [],
   "source": [
    "from sklearn.metrics import f1_score\n",
    "\n",
    "y_pred = np.array([0, 1, 1, 0])\n",
    "y_true = np.array([0, 1, 0, 0])"
   ]
  },
  {
   "cell_type": "code",
   "execution_count": 67,
   "metadata": {},
   "outputs": [],
   "source": [
    "pre = precision_score(y_true, y_pred)\n",
    "rec = recall_score(y_true, y_pred)"
   ]
  },
  {
   "cell_type": "code",
   "execution_count": 68,
   "metadata": {},
   "outputs": [
    {
     "data": {
      "text/plain": [
       "0.6666666666666666"
      ]
     },
     "execution_count": 68,
     "metadata": {},
     "output_type": "execute_result"
    }
   ],
   "source": [
    "# 이렇게 pre와 rec 활용하여 구현도 가능하고\n",
    "2 * (pre * rec) / (pre + rec)"
   ]
  },
  {
   "cell_type": "code",
   "execution_count": null,
   "metadata": {},
   "outputs": [],
   "source": [
    "# 아예 f1_score 쓸수도 있다.\n",
    "f1_score(y_true, y_pred)"
   ]
  },
  {
   "cell_type": "markdown",
   "metadata": {},
   "source": [
    "- Multiclass일 때"
   ]
  },
  {
   "cell_type": "code",
   "execution_count": 72,
   "metadata": {},
   "outputs": [],
   "source": [
    "y_pred = np.array([0, 1, 2, 0, 1, 2])\n",
    "y_true = np.array([0, 2, 1, 0, 0, 1])"
   ]
  },
  {
   "cell_type": "code",
   "execution_count": 73,
   "metadata": {},
   "outputs": [
    {
     "data": {
      "text/plain": [
       "array([0.8, 0. , 0. ])"
      ]
     },
     "execution_count": 73,
     "metadata": {},
     "output_type": "execute_result"
    }
   ],
   "source": [
    "f1_score(y_true, y_pred, average=None)"
   ]
  },
  {
   "cell_type": "code",
   "execution_count": 74,
   "metadata": {},
   "outputs": [
    {
     "data": {
      "text/plain": [
       "0.26666666666666666"
      ]
     },
     "execution_count": 74,
     "metadata": {},
     "output_type": "execute_result"
    }
   ],
   "source": [
    "f1_score(y_true, y_pred, average='macro')"
   ]
  },
  {
   "cell_type": "code",
   "execution_count": 75,
   "metadata": {},
   "outputs": [
    {
     "data": {
      "text/plain": [
       "0.3333333333333333"
      ]
     },
     "execution_count": 75,
     "metadata": {},
     "output_type": "execute_result"
    }
   ],
   "source": [
    "f1_score(y_true, y_pred, average='micro')"
   ]
  },
  {
   "cell_type": "markdown",
   "metadata": {},
   "source": [
    "**[ Percision - Recall Curve ]**\n",
    "- 예측확률 Threshold를 변화시켜 Precision/Recall 측정\n",
    "- 시각화 할 때 유용하게 사용가능\n",
    "<br><br>\n",
    "![img](https://ifh.cc/g/p611Yo.png)<br>"
   ]
  },
  {
   "cell_type": "code",
   "execution_count": 76,
   "metadata": {},
   "outputs": [],
   "source": [
    "import numpy as np\n",
    "from sklearn.metrics import precision_recall_curve\n",
    "\n",
    "y_true = np.array([0, 0, 1, 1])\n",
    "y_scores = np.array([0.1, 0.4, 0.35, 0.8]) # prediction score\n",
    "precision, recall, thresholds = precision_recall_curve(y_true, y_scores)"
   ]
  },
  {
   "cell_type": "code",
   "execution_count": 77,
   "metadata": {},
   "outputs": [
    {
     "data": {
      "text/plain": [
       "array([0.66666667, 0.5       , 1.        , 1.        ])"
      ]
     },
     "execution_count": 77,
     "metadata": {},
     "output_type": "execute_result"
    }
   ],
   "source": [
    "precision"
   ]
  },
  {
   "cell_type": "code",
   "execution_count": 78,
   "metadata": {},
   "outputs": [
    {
     "data": {
      "text/plain": [
       "array([1. , 0.5, 0.5, 0. ])"
      ]
     },
     "execution_count": 78,
     "metadata": {},
     "output_type": "execute_result"
    }
   ],
   "source": [
    "recall"
   ]
  },
  {
   "cell_type": "code",
   "execution_count": 79,
   "metadata": {},
   "outputs": [
    {
     "data": {
      "text/plain": [
       "array([0.35, 0.4 , 0.8 ])"
      ]
     },
     "execution_count": 79,
     "metadata": {},
     "output_type": "execute_result"
    }
   ],
   "source": [
    "thresholds"
   ]
  },
  {
   "cell_type": "markdown",
   "metadata": {},
   "source": [
    "**[ Percision - Classification Report ]**\n",
    "- Classification 문제에서 한번에 Precision, Recall, F1 결과 출력\n",
    "- Multiclass문제에서도 쓸수있는 유용한 도구\n",
    "<br><br>\n",
    "![img](https://ifh.cc/g/4plmAV.png)<br>"
   ]
  },
  {
   "cell_type": "code",
   "execution_count": 80,
   "metadata": {},
   "outputs": [],
   "source": [
    "from sklearn.metrics import classification_report\n",
    "\n",
    "# Multiclass\n",
    "y_true = [0, 1, 2, 2, 2]\n",
    "y_pred = [0, 0, 2, 2, 1]\n",
    "target_names = ['class 0', 'class 1', 'class 2']"
   ]
  },
  {
   "cell_type": "code",
   "execution_count": 81,
   "metadata": {},
   "outputs": [
    {
     "name": "stdout",
     "output_type": "stream",
     "text": [
      "             precision    recall  f1-score   support\n",
      "\n",
      "    class 0       0.50      1.00      0.67         1\n",
      "    class 1       0.00      0.00      0.00         1\n",
      "    class 2       1.00      0.67      0.80         3\n",
      "\n",
      "avg / total       0.70      0.60      0.61         5\n",
      "\n"
     ]
    }
   ],
   "source": [
    "print(classification_report(y_true, y_pred, target_names = target_names))\n",
    "# 맨 아랫줄은 micro이고 그 위의 3줄은 macro"
   ]
  }
 ],
 "metadata": {
  "kernelspec": {
   "display_name": "Python 3.6.5 ('base')",
   "language": "python",
   "name": "python3"
  },
  "language_info": {
   "codemirror_mode": {
    "name": "ipython",
    "version": 3
   },
   "file_extension": ".py",
   "mimetype": "text/x-python",
   "name": "python",
   "nbconvert_exporter": "python",
   "pygments_lexer": "ipython3",
   "version": "3.6.5"
  },
  "orig_nbformat": 4,
  "vscode": {
   "interpreter": {
    "hash": "ad2bdc8ecc057115af97d19610ffacc2b4e99fae6737bb82f5d7fb13d2f2c186"
   }
  }
 },
 "nbformat": 4,
 "nbformat_minor": 2
}
