{
 "cells": [
  {
   "cell_type": "code",
   "execution_count": 23,
   "metadata": {},
   "outputs": [],
   "source": [
    "import numpy as np"
   ]
  },
  {
   "cell_type": "markdown",
   "metadata": {},
   "source": [
    "### 1번. n_size_ndarray_creation"
   ]
  },
  {
   "cell_type": "code",
   "execution_count": 24,
   "metadata": {},
   "outputs": [
    {
     "name": "stdout",
     "output_type": "stream",
     "text": [
      "[[0 1 2]\n",
      " [3 4 5]\n",
      " [6 7 8]]\n"
     ]
    },
    {
     "name": "stderr",
     "output_type": "stream",
     "text": [
      "C:\\Users\\hyun\\AppData\\Local\\Temp\\ipykernel_16952\\2829907949.py:1: DeprecationWarning: `np.int` is a deprecated alias for the builtin `int`. To silence this warning, use `int` by itself. Doing this will not modify any behavior and is safe. When replacing `np.int`, you may wish to use e.g. `np.int64` or `np.int32` to specify the precision. If you wish to review your current use, check the release note link for additional information.\n",
      "Deprecated in NumPy 1.20; for more details and guidance: https://numpy.org/devdocs/release/1.20.0-notes.html#deprecations\n",
      "  def n_size_ndarray_creation(n, dtype=np.int):\n",
      "C:\\Users\\hyun\\AppData\\Local\\Temp\\ipykernel_16952\\2829907949.py:6: DeprecationWarning: `np.int` is a deprecated alias for the builtin `int`. To silence this warning, use `int` by itself. Doing this will not modify any behavior and is safe. When replacing `np.int`, you may wish to use e.g. `np.int64` or `np.int32` to specify the precision. If you wish to review your current use, check the release note link for additional information.\n",
      "Deprecated in NumPy 1.20; for more details and guidance: https://numpy.org/devdocs/release/1.20.0-notes.html#deprecations\n",
      "  print(n_size_ndarray_creation(3,dtype=np.int))\n"
     ]
    }
   ],
   "source": [
    "def n_size_ndarray_creation(n, dtype=np.int):\n",
    "    X = np.arange(n**2).reshape(n,n)\n",
    "    return X\n",
    "    \n",
    "    \n",
    "print(n_size_ndarray_creation(3,dtype=np.int))"
   ]
  },
  {
   "cell_type": "markdown",
   "metadata": {},
   "source": [
    "### 2번. zero_or_one_or_empty_ndarray"
   ]
  },
  {
   "cell_type": "code",
   "execution_count": 25,
   "metadata": {},
   "outputs": [
    {
     "name": "stdout",
     "output_type": "stream",
     "text": [
      "[[6.23042070e-307 4.67296746e-307 1.69121096e-306 1.86922637e-306]\n",
      " [1.11256817e-306 1.06811422e-306 1.42417221e-306 1.11260619e-306]\n",
      " [8.90094053e-307 1.86919378e-306 1.06809792e-306 1.37962456e-306]\n",
      " [1.69111861e-306 1.78020169e-306 1.37961777e-306 7.56599807e-307]]\n"
     ]
    },
    {
     "name": "stderr",
     "output_type": "stream",
     "text": [
      "C:\\Users\\hyun\\AppData\\Local\\Temp\\ipykernel_16952\\252501589.py:1: DeprecationWarning: `np.int` is a deprecated alias for the builtin `int`. To silence this warning, use `int` by itself. Doing this will not modify any behavior and is safe. When replacing `np.int`, you may wish to use e.g. `np.int64` or `np.int32` to specify the precision. If you wish to review your current use, check the release note link for additional information.\n",
      "Deprecated in NumPy 1.20; for more details and guidance: https://numpy.org/devdocs/release/1.20.0-notes.html#deprecations\n",
      "  def zero_or_one_or_empty_ndarray(shape, type, dtype=np.int):\n",
      "C:\\Users\\hyun\\AppData\\Local\\Temp\\ipykernel_16952\\252501589.py:11: DeprecationWarning: `np.int` is a deprecated alias for the builtin `int`. To silence this warning, use `int` by itself. Doing this will not modify any behavior and is safe. When replacing `np.int`, you may wish to use e.g. `np.int64` or `np.int32` to specify the precision. If you wish to review your current use, check the release note link for additional information.\n",
      "Deprecated in NumPy 1.20; for more details and guidance: https://numpy.org/devdocs/release/1.20.0-notes.html#deprecations\n",
      "  print(zero_or_one_or_empty_ndarray(4,99,dtype=np.int))\n"
     ]
    }
   ],
   "source": [
    "def zero_or_one_or_empty_ndarray(shape, type, dtype=np.int):\n",
    "    if type == 0:\n",
    "        X = np.zeros(shape=(shape,shape), dtype=dtype)\n",
    "    elif type == 1:\n",
    "        X = np.ones(shape=(shape,shape), dtype=dtype)\n",
    "    elif type == 99:\n",
    "        X = np.empty((shape,shape))\n",
    "    return X\n",
    "\n",
    "    \n",
    "print(zero_or_one_or_empty_ndarray(4,99,dtype=np.int))"
   ]
  },
  {
   "cell_type": "markdown",
   "metadata": {},
   "source": [
    "### 3번. change_shape_of_ndarray"
   ]
  },
  {
   "cell_type": "code",
   "execution_count": 26,
   "metadata": {},
   "outputs": [
    {
     "name": "stdout",
     "output_type": "stream",
     "text": [
      "[[1 1 1 ... 1 1 1]]\n"
     ]
    },
    {
     "name": "stderr",
     "output_type": "stream",
     "text": [
      "C:\\Users\\hyun\\AppData\\Local\\Temp\\ipykernel_16952\\1246660562.py:6: DeprecationWarning: `np.int` is a deprecated alias for the builtin `int`. To silence this warning, use `int` by itself. Doing this will not modify any behavior and is safe. When replacing `np.int`, you may wish to use e.g. `np.int64` or `np.int32` to specify the precision. If you wish to review your current use, check the release note link for additional information.\n",
      "Deprecated in NumPy 1.20; for more details and guidance: https://numpy.org/devdocs/release/1.20.0-notes.html#deprecations\n",
      "  a = np.ones((32,32), dtype=np.int)\n"
     ]
    }
   ],
   "source": [
    "def change_shape_of_ndarray(X, n_row):\n",
    "    X = np.array(X).reshape(n_row, int(np.array(X).size//n_row))\n",
    "    return X\n",
    "\n",
    "\n",
    "a = np.ones((32,32), dtype=np.int)\n",
    "print(change_shape_of_ndarray(a,1))"
   ]
  },
  {
   "cell_type": "markdown",
   "metadata": {},
   "source": [
    "### 4번. concat_ndarray"
   ]
  },
  {
   "cell_type": "code",
   "execution_count": 113,
   "metadata": {},
   "outputs": [
    {
     "data": {
      "text/plain": [
       "False"
      ]
     },
     "execution_count": 113,
     "metadata": {},
     "output_type": "execute_result"
    }
   ],
   "source": [
    "def concat_ndarray(X_1, X_2, ax):\n",
    "    # X_1, X_2 둘다 1차원(Vector)일 때\n",
    "    if np.array(X_1).ndim == 1 and np.array(X_2).ndim ==1:\n",
    "        try:\n",
    "            X = np.concatenate((X_1, X_2), axis=ax)\n",
    "        except ValueError:\n",
    "            X = False\n",
    "    # 그 외\n",
    "    else:\n",
    "        # X_1이 1차원일 때 -> 2차원으로\n",
    "        if np.array(X_1).ndim==1:\n",
    "            X_1 = np.expand_dims(X_1, axis=0)\n",
    "        # X_2가 1차원일 때 -> 2차원으로\n",
    "        if np.array(X_2).ndim==1:\n",
    "            X_2 = np.expand_dims(X_2, axis=0)\n",
    "        try:\n",
    "            X = np.concatenate((X_1, X_2), axis=ax)\n",
    "        except ValueError:\n",
    "            X = False\n",
    "    return X\n",
    "\n",
    "a = np.array([1, 2])\n",
    "b = np.array([5, 6, 7])\n",
    "concat_ndarray(a, b, 0)\n",
    "## 왜 반대로 나오지 ..?\n",
    "concat_ndarray(a, b, 1)"
   ]
  },
  {
   "cell_type": "markdown",
   "metadata": {},
   "source": [
    "### 5번. normalize_ndarray"
   ]
  },
  {
   "cell_type": "code",
   "execution_count": 138,
   "metadata": {},
   "outputs": [
    {
     "name": "stdout",
     "output_type": "stream",
     "text": [
      "5.5\n",
      "3.4520526\n",
      "[[-1.593255   -1.3035723 ]\n",
      " [-1.0138896  -0.7242068 ]\n",
      " [-0.4345241  -0.14484136]\n",
      " [ 0.14484136  0.4345241 ]\n",
      " [ 0.7242068   1.0138896 ]\n",
      " [ 1.3035723   1.593255  ]]\n"
     ]
    }
   ],
   "source": [
    "def normalize_ndarray(X, ax=99, dtype=np.float32):\n",
    "    if ax == 1:\n",
    "        mean = X.mean(axis=ax)\n",
    "        std = np.std(X, axis=ax)\n",
    "        for i in range(len(X)):\n",
    "            for j in range(len(X[i])):\n",
    "                X[i][j] = (X[i][j]-mean[i]) / std[i]\n",
    "    elif ax == 0:\n",
    "        mean = X.mean(axis=ax)\n",
    "        std = np.std(X, axis=ax)\n",
    "        for i in range(len(X)):\n",
    "            for j in range(len(X[i])):\n",
    "                X[i][j] = (X[i][j]-mean[j]) / std[j]\n",
    "    elif ax == 99:\n",
    "        mean = X.mean()\n",
    "        std = np.std(X)\n",
    "        for i in range(len(X)):\n",
    "            for j in range(len(X[i])):\n",
    "                X[i][j] = (X[i][j]-mean) / std\n",
    "    return X\n",
    "\n",
    "\n",
    "X = np.arange(12, dtype=np.float32).reshape(6,2)\n",
    "print(normalize_ndarray(X,99))"
   ]
  },
  {
   "cell_type": "markdown",
   "metadata": {},
   "source": [
    "### 6번. save_ndarray"
   ]
  },
  {
   "cell_type": "code",
   "execution_count": 145,
   "metadata": {},
   "outputs": [
    {
     "data": {
      "text/plain": [
       "array([[ 0.,  1.,  2.,  3.,  4.,  5.,  6.,  7.],\n",
       "       [ 8.,  9., 10., 11., 12., 13., 14., 15.],\n",
       "       [16., 17., 18., 19., 20., 21., 22., 23.],\n",
       "       [24., 25., 26., 27., 28., 29., 30., 31.]], dtype=float32)"
      ]
     },
     "execution_count": 145,
     "metadata": {},
     "output_type": "execute_result"
    }
   ],
   "source": [
    "def save_ndarray(X, filename=\"test.npy\"):\n",
    "  # 바탕화면에 저장\n",
    "  np.save('C:/Users/hyun/Desktop/{0}'.format(filename), X)\n",
    "  return True\n",
    "\n",
    "a = np.arange(32, dtype=np.float32).reshape(4, -1)\n",
    "filename = \"test.npy\"\n",
    "save_ndarray(a, filename)\n",
    "## 바탕화면에 저장된 파일 불러오기\n",
    "np.load('C:/Users/hyun/Desktop/{0}'.format(filename))"
   ]
  },
  {
   "cell_type": "markdown",
   "metadata": {},
   "source": [
    "### 7번. boolean_index"
   ]
  },
  {
   "cell_type": "code",
   "execution_count": 190,
   "metadata": {},
   "outputs": [
    {
     "name": "stdout",
     "output_type": "stream",
     "text": [
      "[[ 0  1  2  3  4  5  6  7]\n",
      " [ 8  9 10 11 12 13 14 15]\n",
      " [16 17 18 19 20 21 22 23]\n",
      " [24 25 26 27 28 29 30 31]]\n"
     ]
    },
    {
     "data": {
      "text/plain": [
       "(array([0], dtype=int64), array([3], dtype=int64))"
      ]
     },
     "execution_count": 190,
     "metadata": {},
     "output_type": "execute_result"
    }
   ],
   "source": [
    "def boolean_index(X, condition):\n",
    "    result = np.where(eval(str(\"X\") + condition))\n",
    "    return result\n",
    "\n",
    "X = np.arange(32).reshape(4, -1)\n",
    "print(X)\n",
    "boolean_index(X, \"== 3\")"
   ]
  },
  {
   "cell_type": "markdown",
   "metadata": {},
   "source": [
    "### 8번. find_nearest_value"
   ]
  },
  {
   "cell_type": "code",
   "execution_count": 178,
   "metadata": {},
   "outputs": [
    {
     "name": "stdout",
     "output_type": "stream",
     "text": [
      "4\n"
     ]
    }
   ],
   "source": [
    "def find_nearest_value(X, tv):\n",
    "    gap = float('inf')\n",
    "    result = 0\n",
    "    for i in range(len(X)):\n",
    "        if abs(X[i]-tv) < gap:\n",
    "            gap = abs(X[i]-tv)\n",
    "            result = X[i]\n",
    "    return result\n",
    "\n",
    "a = np.arange(10)\n",
    "print(find_nearest_value(a,4))"
   ]
  },
  {
   "cell_type": "markdown",
   "metadata": {},
   "source": [
    "### 9번. get_n_largest_values"
   ]
  },
  {
   "cell_type": "code",
   "execution_count": 215,
   "metadata": {},
   "outputs": [
    {
     "data": {
      "text/plain": [
       "array([0.65263653, 0.34224074, 0.31922327])"
      ]
     },
     "execution_count": 215,
     "metadata": {},
     "output_type": "execute_result"
    }
   ],
   "source": [
    "def get_n_largest_values(X, n):\n",
    "    X = np.sort(X)[::-1][:n]\n",
    "    return X\n",
    "    \n",
    "X = np.random.uniform(0, 1, 5)\n",
    "get_n_largest_values(X,3)"
   ]
  }
 ],
 "metadata": {
  "interpreter": {
   "hash": "e26397a08d5f30c774560219faec242e6a30e49be7031cb355ab1d4e33c237b9"
  },
  "kernelspec": {
   "display_name": "Python 3.9.12 ('TIL')",
   "language": "python",
   "name": "python3"
  },
  "language_info": {
   "codemirror_mode": {
    "name": "ipython",
    "version": 3
   },
   "file_extension": ".py",
   "mimetype": "text/x-python",
   "name": "python",
   "nbconvert_exporter": "python",
   "pygments_lexer": "ipython3",
   "version": "3.9.12"
  },
  "orig_nbformat": 4
 },
 "nbformat": 4,
 "nbformat_minor": 2
}
