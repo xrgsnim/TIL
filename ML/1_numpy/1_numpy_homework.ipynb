{
 "cells": [
  {
   "cell_type": "code",
   "execution_count": 1,
   "metadata": {},
   "outputs": [],
   "source": [
    "import numpy as np\n",
    "import warnings\n",
    "warnings.filterwarnings(action='ignore')"
   ]
  },
  {
   "cell_type": "markdown",
   "metadata": {},
   "source": [
    "### 1번. n_size_ndarray_creation"
   ]
  },
  {
   "cell_type": "code",
   "execution_count": 2,
   "metadata": {},
   "outputs": [
    {
     "name": "stdout",
     "output_type": "stream",
     "text": [
      "[[0 1 2]\n",
      " [3 4 5]\n",
      " [6 7 8]]\n"
     ]
    }
   ],
   "source": [
    "def n_size_ndarray_creation(n, dtype=np.int):\n",
    "    X = np.arange(n**2).reshape(n,n)\n",
    "    return X\n",
    "    \n",
    "    \n",
    "print(n_size_ndarray_creation(3,dtype=np.int))"
   ]
  },
  {
   "cell_type": "markdown",
   "metadata": {},
   "source": [
    "### 2번. zero_or_one_or_empty_ndarray"
   ]
  },
  {
   "cell_type": "code",
   "execution_count": 3,
   "metadata": {},
   "outputs": [
    {
     "name": "stdout",
     "output_type": "stream",
     "text": [
      "[[4.67296746e-307 1.69121096e-306 1.33511697e-306 1.11256817e-306]\n",
      " [1.06811422e-306 1.42417221e-306 1.11260619e-306 8.90094053e-307]\n",
      " [1.86919378e-306 1.06809792e-306 1.37962456e-306 1.69111861e-306]\n",
      " [1.78020169e-306 1.37961777e-306 7.56599807e-307 7.56599806e-307]]\n"
     ]
    }
   ],
   "source": [
    "def zero_or_one_or_empty_ndarray(shape, type, dtype=np.int):\n",
    "    if type == 0:\n",
    "        X = np.zeros(shape=(shape,shape), dtype=dtype)\n",
    "    elif type == 1:\n",
    "        X = np.ones(shape=(shape,shape), dtype=dtype)\n",
    "    elif type == 99:\n",
    "        X = np.empty((shape,shape))\n",
    "    return X\n",
    "\n",
    "    \n",
    "print(zero_or_one_or_empty_ndarray(4,99,dtype=np.int))"
   ]
  },
  {
   "cell_type": "markdown",
   "metadata": {},
   "source": [
    "### 3번. change_shape_of_ndarray"
   ]
  },
  {
   "cell_type": "code",
   "execution_count": 4,
   "metadata": {},
   "outputs": [
    {
     "name": "stdout",
     "output_type": "stream",
     "text": [
      "[[1 1 1 ... 1 1 1]]\n"
     ]
    }
   ],
   "source": [
    "def change_shape_of_ndarray(X, n_row):\n",
    "    X = np.array(X).reshape(n_row, int(np.array(X).size//n_row))\n",
    "    return X\n",
    "\n",
    "\n",
    "a = np.ones((32,32), dtype=np.int)\n",
    "print(change_shape_of_ndarray(a,1))"
   ]
  },
  {
   "cell_type": "markdown",
   "metadata": {},
   "source": [
    "### 4번. concat_ndarray"
   ]
  },
  {
   "cell_type": "code",
   "execution_count": 5,
   "metadata": {},
   "outputs": [
    {
     "data": {
      "text/plain": [
       "False"
      ]
     },
     "execution_count": 5,
     "metadata": {},
     "output_type": "execute_result"
    }
   ],
   "source": [
    "def concat_ndarray(X_1, X_2, ax):\n",
    "    # X_1, X_2 둘다 1차원(Vector)일 때\n",
    "    if np.array(X_1).ndim == 1 and np.array(X_2).ndim ==1:\n",
    "        try:\n",
    "            X = np.concatenate((X_1, X_2), axis=ax)\n",
    "        except ValueError:\n",
    "            X = False\n",
    "    # 그 외\n",
    "    else:\n",
    "        # X_1이 1차원일 때 -> 2차원으로\n",
    "        if np.array(X_1).ndim==1:\n",
    "            X_1 = np.expand_dims(X_1, axis=0)\n",
    "        # X_2가 1차원일 때 -> 2차원으로\n",
    "        if np.array(X_2).ndim==1:\n",
    "            X_2 = np.expand_dims(X_2, axis=0)\n",
    "        try:\n",
    "            X = np.concatenate((X_1, X_2), axis=ax)\n",
    "        except ValueError:\n",
    "            X = False\n",
    "    return X\n",
    "\n",
    "a = np.array([1, 2])\n",
    "b = np.array([5, 6, 7])\n",
    "concat_ndarray(a, b, 0)\n",
    "## 왜 반대로 나오지 ..?\n",
    "concat_ndarray(a, b, 1)"
   ]
  },
  {
   "cell_type": "markdown",
   "metadata": {},
   "source": [
    "### 5번. normalize_ndarray"
   ]
  },
  {
   "cell_type": "code",
   "execution_count": 6,
   "metadata": {},
   "outputs": [
    {
     "name": "stdout",
     "output_type": "stream",
     "text": [
      "[[-1.593255   -1.3035723 ]\n",
      " [-1.0138896  -0.7242068 ]\n",
      " [-0.4345241  -0.14484136]\n",
      " [ 0.14484136  0.4345241 ]\n",
      " [ 0.7242068   1.0138896 ]\n",
      " [ 1.3035723   1.593255  ]]\n"
     ]
    }
   ],
   "source": [
    "def normalize_ndarray(X, ax=99, dtype=np.float32):\n",
    "    if ax == 1:\n",
    "        mean = X.mean(axis=ax)\n",
    "        std = np.std(X, axis=ax)\n",
    "        for i in range(len(X)):\n",
    "            for j in range(len(X[i])):\n",
    "                X[i][j] = (X[i][j]-mean[i]) / std[i]\n",
    "    elif ax == 0:\n",
    "        mean = X.mean(axis=ax)\n",
    "        std = np.std(X, axis=ax)\n",
    "        for i in range(len(X)):\n",
    "            for j in range(len(X[i])):\n",
    "                X[i][j] = (X[i][j]-mean[j]) / std[j]\n",
    "    elif ax == 99:\n",
    "        mean = X.mean()\n",
    "        std = np.std(X)\n",
    "        for i in range(len(X)):\n",
    "            for j in range(len(X[i])):\n",
    "                X[i][j] = (X[i][j]-mean) / std\n",
    "    return X\n",
    "\n",
    "\n",
    "X = np.arange(12, dtype=np.float32).reshape(6,2)\n",
    "print(normalize_ndarray(X,99))"
   ]
  },
  {
   "cell_type": "markdown",
   "metadata": {},
   "source": [
    "### 6번. save_ndarray"
   ]
  },
  {
   "cell_type": "code",
   "execution_count": 7,
   "metadata": {},
   "outputs": [
    {
     "ename": "FileNotFoundError",
     "evalue": "[Errno 2] No such file or directory: 'C:/Users/hyun/Desktop/test.npy'",
     "output_type": "error",
     "traceback": [
      "\u001b[1;31m---------------------------------------------------------------------------\u001b[0m",
      "\u001b[1;31mFileNotFoundError\u001b[0m                         Traceback (most recent call last)",
      "\u001b[1;32m<ipython-input-7-2af1278dbc2b>\u001b[0m in \u001b[0;36m<module>\u001b[1;34m()\u001b[0m\n\u001b[0;32m      6\u001b[0m \u001b[0ma\u001b[0m \u001b[1;33m=\u001b[0m \u001b[0mnp\u001b[0m\u001b[1;33m.\u001b[0m\u001b[0marange\u001b[0m\u001b[1;33m(\u001b[0m\u001b[1;36m32\u001b[0m\u001b[1;33m,\u001b[0m \u001b[0mdtype\u001b[0m\u001b[1;33m=\u001b[0m\u001b[0mnp\u001b[0m\u001b[1;33m.\u001b[0m\u001b[0mfloat32\u001b[0m\u001b[1;33m)\u001b[0m\u001b[1;33m.\u001b[0m\u001b[0mreshape\u001b[0m\u001b[1;33m(\u001b[0m\u001b[1;36m4\u001b[0m\u001b[1;33m,\u001b[0m \u001b[1;33m-\u001b[0m\u001b[1;36m1\u001b[0m\u001b[1;33m)\u001b[0m\u001b[1;33m\u001b[0m\u001b[0m\n\u001b[0;32m      7\u001b[0m \u001b[0mfilename\u001b[0m \u001b[1;33m=\u001b[0m \u001b[1;34m\"test.npy\"\u001b[0m\u001b[1;33m\u001b[0m\u001b[0m\n\u001b[1;32m----> 8\u001b[1;33m \u001b[0msave_ndarray\u001b[0m\u001b[1;33m(\u001b[0m\u001b[0ma\u001b[0m\u001b[1;33m,\u001b[0m \u001b[0mfilename\u001b[0m\u001b[1;33m)\u001b[0m\u001b[1;33m\u001b[0m\u001b[0m\n\u001b[0m\u001b[0;32m      9\u001b[0m \u001b[1;31m## 바탕화면에 저장된 파일 불러오기\u001b[0m\u001b[1;33m\u001b[0m\u001b[1;33m\u001b[0m\u001b[0m\n\u001b[0;32m     10\u001b[0m \u001b[0mnp\u001b[0m\u001b[1;33m.\u001b[0m\u001b[0mload\u001b[0m\u001b[1;33m(\u001b[0m\u001b[1;34m'C:/Users/hyun/Desktop/{0}'\u001b[0m\u001b[1;33m.\u001b[0m\u001b[0mformat\u001b[0m\u001b[1;33m(\u001b[0m\u001b[0mfilename\u001b[0m\u001b[1;33m)\u001b[0m\u001b[1;33m)\u001b[0m\u001b[1;33m\u001b[0m\u001b[0m\n",
      "\u001b[1;32m<ipython-input-7-2af1278dbc2b>\u001b[0m in \u001b[0;36msave_ndarray\u001b[1;34m(X, filename)\u001b[0m\n\u001b[0;32m      1\u001b[0m \u001b[1;32mdef\u001b[0m \u001b[0msave_ndarray\u001b[0m\u001b[1;33m(\u001b[0m\u001b[0mX\u001b[0m\u001b[1;33m,\u001b[0m \u001b[0mfilename\u001b[0m\u001b[1;33m=\u001b[0m\u001b[1;34m\"test.npy\"\u001b[0m\u001b[1;33m)\u001b[0m\u001b[1;33m:\u001b[0m\u001b[1;33m\u001b[0m\u001b[0m\n\u001b[0;32m      2\u001b[0m   \u001b[1;31m# 바탕화면에 저장\u001b[0m\u001b[1;33m\u001b[0m\u001b[1;33m\u001b[0m\u001b[0m\n\u001b[1;32m----> 3\u001b[1;33m   \u001b[0mnp\u001b[0m\u001b[1;33m.\u001b[0m\u001b[0msave\u001b[0m\u001b[1;33m(\u001b[0m\u001b[1;34m'C:/Users/hyun/Desktop/{0}'\u001b[0m\u001b[1;33m.\u001b[0m\u001b[0mformat\u001b[0m\u001b[1;33m(\u001b[0m\u001b[0mfilename\u001b[0m\u001b[1;33m)\u001b[0m\u001b[1;33m,\u001b[0m \u001b[0mX\u001b[0m\u001b[1;33m)\u001b[0m\u001b[1;33m\u001b[0m\u001b[0m\n\u001b[0m\u001b[0;32m      4\u001b[0m   \u001b[1;32mreturn\u001b[0m \u001b[1;32mTrue\u001b[0m\u001b[1;33m\u001b[0m\u001b[0m\n\u001b[0;32m      5\u001b[0m \u001b[1;33m\u001b[0m\u001b[0m\n",
      "\u001b[1;32mc:\\ProgramData\\Anaconda3\\lib\\site-packages\\numpy\\lib\\npyio.py\u001b[0m in \u001b[0;36msave\u001b[1;34m(file, arr, allow_pickle, fix_imports)\u001b[0m\n\u001b[0;32m    490\u001b[0m         \u001b[1;32mif\u001b[0m \u001b[1;32mnot\u001b[0m \u001b[0mfile\u001b[0m\u001b[1;33m.\u001b[0m\u001b[0mendswith\u001b[0m\u001b[1;33m(\u001b[0m\u001b[1;34m'.npy'\u001b[0m\u001b[1;33m)\u001b[0m\u001b[1;33m:\u001b[0m\u001b[1;33m\u001b[0m\u001b[0m\n\u001b[0;32m    491\u001b[0m             \u001b[0mfile\u001b[0m \u001b[1;33m=\u001b[0m \u001b[0mfile\u001b[0m \u001b[1;33m+\u001b[0m \u001b[1;34m'.npy'\u001b[0m\u001b[1;33m\u001b[0m\u001b[0m\n\u001b[1;32m--> 492\u001b[1;33m         \u001b[0mfid\u001b[0m \u001b[1;33m=\u001b[0m \u001b[0mopen\u001b[0m\u001b[1;33m(\u001b[0m\u001b[0mfile\u001b[0m\u001b[1;33m,\u001b[0m \u001b[1;34m\"wb\"\u001b[0m\u001b[1;33m)\u001b[0m\u001b[1;33m\u001b[0m\u001b[0m\n\u001b[0m\u001b[0;32m    493\u001b[0m         \u001b[0mown_fid\u001b[0m \u001b[1;33m=\u001b[0m \u001b[1;32mTrue\u001b[0m\u001b[1;33m\u001b[0m\u001b[0m\n\u001b[0;32m    494\u001b[0m     \u001b[1;32melif\u001b[0m \u001b[0mis_pathlib_path\u001b[0m\u001b[1;33m(\u001b[0m\u001b[0mfile\u001b[0m\u001b[1;33m)\u001b[0m\u001b[1;33m:\u001b[0m\u001b[1;33m\u001b[0m\u001b[0m\n",
      "\u001b[1;31mFileNotFoundError\u001b[0m: [Errno 2] No such file or directory: 'C:/Users/hyun/Desktop/test.npy'"
     ]
    }
   ],
   "source": [
    "def save_ndarray(X, filename=\"test.npy\"):\n",
    "  # 바탕화면에 저장\n",
    "  np.save('C:/Users/hyun/Desktop/{0}'.format(filename), X)\n",
    "  return True\n",
    "\n",
    "a = np.arange(32, dtype=np.float32).reshape(4, -1)\n",
    "filename = \"test.npy\"\n",
    "save_ndarray(a, filename)\n",
    "## 바탕화면에 저장된 파일 불러오기\n",
    "np.load('C:/Users/hyun/Desktop/{0}'.format(filename))"
   ]
  },
  {
   "cell_type": "markdown",
   "metadata": {},
   "source": [
    "### 7번. boolean_index"
   ]
  },
  {
   "cell_type": "code",
   "execution_count": null,
   "metadata": {},
   "outputs": [
    {
     "ename": "",
     "evalue": "",
     "output_type": "error",
     "traceback": [
      "\u001b[1;31m'Python 3.7.13 ('hyeooi')'(으)로 셀을 실행하려면 ipykernel 패키지가 필요합니다.\n",
      "다음 명령어를 실행하여 Python 환경에 'ipykernel'을(를) 설치합니다. \r\n",
      " 명령: 'conda install -n hyeooi ipykernel --update-deps --force-reinstall'"
     ]
    }
   ],
   "source": [
    "def boolean_index(X, condition):\n",
    "    result = np.where(eval(str(\"X\") + condition))\n",
    "    return result\n",
    "\n",
    "X = np.arange(32).reshape(4, -1)\n",
    "print(X)\n",
    "boolean_index(X, \"== 3\")"
   ]
  },
  {
   "cell_type": "markdown",
   "metadata": {},
   "source": [
    "### 8번. find_nearest_value"
   ]
  },
  {
   "cell_type": "code",
   "execution_count": null,
   "metadata": {},
   "outputs": [
    {
     "ename": "",
     "evalue": "",
     "output_type": "error",
     "traceback": [
      "\u001b[1;31m'Python 3.7.13 ('hyeooi')'(으)로 셀을 실행하려면 ipykernel 패키지가 필요합니다.\n",
      "다음 명령어를 실행하여 Python 환경에 'ipykernel'을(를) 설치합니다. \r\n",
      " 명령: 'conda install -n hyeooi ipykernel --update-deps --force-reinstall'"
     ]
    }
   ],
   "source": [
    "def find_nearest_value(X, tv):\n",
    "    gap = float('inf')\n",
    "    result = 0\n",
    "    for i in range(len(X)):\n",
    "        if abs(X[i]-tv) < gap:\n",
    "            gap = abs(X[i]-tv)\n",
    "            result = X[i]\n",
    "    return result\n",
    "\n",
    "a = np.arange(10)\n",
    "print(find_nearest_value(a,4))"
   ]
  },
  {
   "cell_type": "markdown",
   "metadata": {},
   "source": [
    "### 9번. get_n_largest_values"
   ]
  },
  {
   "cell_type": "code",
   "execution_count": null,
   "metadata": {},
   "outputs": [
    {
     "ename": "",
     "evalue": "",
     "output_type": "error",
     "traceback": [
      "\u001b[1;31m'Python 3.7.13 ('hyeooi')'(으)로 셀을 실행하려면 ipykernel 패키지가 필요합니다.\n",
      "다음 명령어를 실행하여 Python 환경에 'ipykernel'을(를) 설치합니다. \r\n",
      " 명령: 'conda install -n hyeooi ipykernel --update-deps --force-reinstall'"
     ]
    }
   ],
   "source": [
    "def get_n_largest_values(X, n):\n",
    "    X = np.sort(X)[::-1][:n]\n",
    "    return X\n",
    "    \n",
    "X = np.random.uniform(0, 1, 5)\n",
    "get_n_largest_values(X,3)"
   ]
  }
 ],
 "metadata": {
  "kernelspec": {
   "display_name": "Python 3.6.5 ('base')",
   "language": "python",
   "name": "python3"
  },
  "language_info": {
   "codemirror_mode": {
    "name": "ipython",
    "version": 3
   },
   "file_extension": ".py",
   "mimetype": "text/x-python",
   "name": "python",
   "nbconvert_exporter": "python",
   "pygments_lexer": "ipython3",
   "version": "3.6.5"
  },
  "orig_nbformat": 4,
  "vscode": {
   "interpreter": {
    "hash": "ad2bdc8ecc057115af97d19610ffacc2b4e99fae6737bb82f5d7fb13d2f2c186"
   }
  }
 },
 "nbformat": 4,
 "nbformat_minor": 2
}
