{
 "cells": [
  {
   "cell_type": "markdown",
   "metadata": {},
   "source": [
    "\n",
    "# IMPORT MODULES"
   ]
  },
  {
   "cell_type": "code",
   "execution_count": 1,
   "metadata": {},
   "outputs": [],
   "source": [
    "import pandas as pd\n",
    "import numpy as np"
   ]
  },
  {
   "cell_type": "markdown",
   "metadata": {},
   "source": [
    "# LOAD DATASET - simple variale"
   ]
  },
  {
   "cell_type": "code",
   "execution_count": 2,
   "metadata": {},
   "outputs": [
    {
     "data": {
      "text/html": [
       "<div>\n",
       "<style scoped>\n",
       "    .dataframe tbody tr th:only-of-type {\n",
       "        vertical-align: middle;\n",
       "    }\n",
       "\n",
       "    .dataframe tbody tr th {\n",
       "        vertical-align: top;\n",
       "    }\n",
       "\n",
       "    .dataframe thead th {\n",
       "        text-align: right;\n",
       "    }\n",
       "</style>\n",
       "<table border=\"1\" class=\"dataframe\">\n",
       "  <thead>\n",
       "    <tr style=\"text-align: right;\">\n",
       "      <th></th>\n",
       "      <th>x</th>\n",
       "      <th>y</th>\n",
       "    </tr>\n",
       "  </thead>\n",
       "  <tbody>\n",
       "    <tr>\n",
       "      <th>0</th>\n",
       "      <td>77</td>\n",
       "      <td>79.775152</td>\n",
       "    </tr>\n",
       "    <tr>\n",
       "      <th>1</th>\n",
       "      <td>21</td>\n",
       "      <td>23.177279</td>\n",
       "    </tr>\n",
       "    <tr>\n",
       "      <th>2</th>\n",
       "      <td>22</td>\n",
       "      <td>25.609262</td>\n",
       "    </tr>\n",
       "    <tr>\n",
       "      <th>3</th>\n",
       "      <td>20</td>\n",
       "      <td>17.857388</td>\n",
       "    </tr>\n",
       "    <tr>\n",
       "      <th>4</th>\n",
       "      <td>36</td>\n",
       "      <td>41.849864</td>\n",
       "    </tr>\n",
       "  </tbody>\n",
       "</table>\n",
       "</div>"
      ],
      "text/plain": [
       "    x          y\n",
       "0  77  79.775152\n",
       "1  21  23.177279\n",
       "2  22  25.609262\n",
       "3  20  17.857388\n",
       "4  36  41.849864"
      ]
     },
     "execution_count": 2,
     "metadata": {},
     "output_type": "execute_result"
    }
   ],
   "source": [
    "df = pd.read_csv(\"./test.csv\")\n",
    "df.head()"
   ]
  },
  {
   "cell_type": "code",
   "execution_count": 3,
   "metadata": {},
   "outputs": [],
   "source": [
    "X = df[\"x\"].values.reshape(-1,1)\n",
    "y = df[\"y\"].values"
   ]
  },
  {
   "cell_type": "markdown",
   "metadata": {},
   "source": [
    "# BUILD MODEL"
   ]
  },
  {
   "cell_type": "code",
   "execution_count": 4,
   "metadata": {},
   "outputs": [
    {
     "data": {
      "text/plain": [
       "<module 'linear_model' from 'c:\\\\Users\\\\hyun\\\\workspace\\\\TIL\\\\ML\\\\6_linear_reegression\\\\6_homework\\\\linear_model\\\\linear_model.py'>"
      ]
     },
     "execution_count": 4,
     "metadata": {},
     "output_type": "execute_result"
    }
   ],
   "source": [
    "import linear_model\n",
    "import imp\n",
    "imp.reload(linear_model)"
   ]
  },
  {
   "cell_type": "code",
   "execution_count": 5,
   "metadata": {},
   "outputs": [],
   "source": [
    "lr = linear_model.LinearRegression(fit_intercept=True)"
   ]
  },
  {
   "cell_type": "code",
   "execution_count": 6,
   "metadata": {},
   "outputs": [
    {
     "data": {
      "text/plain": [
       "(array([[  1.,  77.],\n",
       "        [  1.,  21.],\n",
       "        [  1.,  22.],\n",
       "        [  1.,  20.],\n",
       "        [  1.,  36.],\n",
       "        [  1.,  15.],\n",
       "        [  1.,  62.],\n",
       "        [  1.,  95.],\n",
       "        [  1.,  20.],\n",
       "        [  1.,   5.],\n",
       "        [  1.,   4.],\n",
       "        [  1.,  19.],\n",
       "        [  1.,  96.],\n",
       "        [  1.,  62.],\n",
       "        [  1.,  36.],\n",
       "        [  1.,  15.],\n",
       "        [  1.,  65.],\n",
       "        [  1.,  14.],\n",
       "        [  1.,  87.],\n",
       "        [  1.,  69.],\n",
       "        [  1.,  89.],\n",
       "        [  1.,  51.],\n",
       "        [  1.,  89.],\n",
       "        [  1.,  27.],\n",
       "        [  1.,  97.],\n",
       "        [  1.,  58.],\n",
       "        [  1.,  79.],\n",
       "        [  1.,  21.],\n",
       "        [  1.,  93.],\n",
       "        [  1.,  27.],\n",
       "        [  1.,  99.],\n",
       "        [  1.,  31.],\n",
       "        [  1.,  33.],\n",
       "        [  1.,  80.],\n",
       "        [  1.,  28.],\n",
       "        [  1.,  47.],\n",
       "        [  1.,  53.],\n",
       "        [  1.,  69.],\n",
       "        [  1.,  28.],\n",
       "        [  1.,  33.],\n",
       "        [  1.,  91.],\n",
       "        [  1.,  71.],\n",
       "        [  1.,  50.],\n",
       "        [  1.,  76.],\n",
       "        [  1.,   4.],\n",
       "        [  1.,  37.],\n",
       "        [  1.,  70.],\n",
       "        [  1.,  68.],\n",
       "        [  1.,  40.],\n",
       "        [  1.,  35.],\n",
       "        [  1.,  94.],\n",
       "        [  1.,  88.],\n",
       "        [  1.,  52.],\n",
       "        [  1.,  31.],\n",
       "        [  1.,  59.],\n",
       "        [  1.,   0.],\n",
       "        [  1.,  39.],\n",
       "        [  1.,  64.],\n",
       "        [  1.,  69.],\n",
       "        [  1.,  57.],\n",
       "        [  1.,  13.],\n",
       "        [  1.,  72.],\n",
       "        [  1.,  76.],\n",
       "        [  1.,  61.],\n",
       "        [  1.,  82.],\n",
       "        [  1.,  18.],\n",
       "        [  1.,  41.],\n",
       "        [  1.,  50.],\n",
       "        [  1.,  55.],\n",
       "        [  1.,  13.],\n",
       "        [  1.,  46.],\n",
       "        [  1.,  13.],\n",
       "        [  1.,  79.],\n",
       "        [  1.,  53.],\n",
       "        [  1.,  15.],\n",
       "        [  1.,  28.],\n",
       "        [  1.,  81.],\n",
       "        [  1.,  69.],\n",
       "        [  1.,  52.],\n",
       "        [  1.,  84.],\n",
       "        [  1.,  68.],\n",
       "        [  1.,  27.],\n",
       "        [  1.,  56.],\n",
       "        [  1.,  48.],\n",
       "        [  1.,  40.],\n",
       "        [  1.,  39.],\n",
       "        [  1.,  82.],\n",
       "        [  1., 100.],\n",
       "        [  1.,  59.],\n",
       "        [  1.,  43.],\n",
       "        [  1.,  67.],\n",
       "        [  1.,  38.],\n",
       "        [  1.,  63.],\n",
       "        [  1.,  91.],\n",
       "        [  1.,  60.],\n",
       "        [  1.,  14.],\n",
       "        [  1.,  21.],\n",
       "        [  1.,  87.],\n",
       "        [  1.,  73.],\n",
       "        [  1.,  32.],\n",
       "        [  1.,   2.],\n",
       "        [  1.,  82.],\n",
       "        [  1.,  19.],\n",
       "        [  1.,  74.],\n",
       "        [  1.,  42.],\n",
       "        [  1.,  12.],\n",
       "        [  1.,   1.],\n",
       "        [  1.,  90.],\n",
       "        [  1.,  89.],\n",
       "        [  1.,   0.],\n",
       "        [  1.,  41.],\n",
       "        [  1.,  16.],\n",
       "        [  1.,  94.],\n",
       "        [  1.,  97.],\n",
       "        [  1.,  66.],\n",
       "        [  1.,  24.],\n",
       "        [  1.,  17.],\n",
       "        [  1.,  90.],\n",
       "        [  1.,  13.],\n",
       "        [  1.,   0.],\n",
       "        [  1.,  64.],\n",
       "        [  1.,  96.],\n",
       "        [  1.,  98.],\n",
       "        [  1.,  12.],\n",
       "        [  1.,  41.],\n",
       "        [  1.,  47.],\n",
       "        [  1.,  78.],\n",
       "        [  1.,  20.],\n",
       "        [  1.,  89.],\n",
       "        [  1.,  29.],\n",
       "        [  1.,  64.],\n",
       "        [  1.,  75.],\n",
       "        [  1.,  12.],\n",
       "        [  1.,  25.],\n",
       "        [  1.,  28.],\n",
       "        [  1.,  30.],\n",
       "        [  1.,  65.],\n",
       "        [  1.,  59.],\n",
       "        [  1.,  64.],\n",
       "        [  1.,  53.],\n",
       "        [  1.,  71.],\n",
       "        [  1.,  97.],\n",
       "        [  1.,  73.],\n",
       "        [  1.,   9.],\n",
       "        [  1.,  12.],\n",
       "        [  1.,  63.],\n",
       "        [  1.,  99.],\n",
       "        [  1.,  60.],\n",
       "        [  1.,  35.],\n",
       "        [  1.,   2.],\n",
       "        [  1.,  60.],\n",
       "        [  1.,  32.],\n",
       "        [  1.,  94.],\n",
       "        [  1.,  84.],\n",
       "        [  1.,  63.],\n",
       "        [  1.,  22.],\n",
       "        [  1.,  81.],\n",
       "        [  1.,  93.],\n",
       "        [  1.,  33.],\n",
       "        [  1.,   7.],\n",
       "        [  1.,  42.],\n",
       "        [  1.,  46.],\n",
       "        [  1.,  54.],\n",
       "        [  1.,  16.],\n",
       "        [  1.,  49.],\n",
       "        [  1.,  43.],\n",
       "        [  1.,  95.],\n",
       "        [  1.,  66.],\n",
       "        [  1.,  21.],\n",
       "        [  1.,  35.],\n",
       "        [  1.,  80.],\n",
       "        [  1.,  37.],\n",
       "        [  1.,  54.],\n",
       "        [  1.,  56.],\n",
       "        [  1.,   1.],\n",
       "        [  1.,  32.],\n",
       "        [  1.,  58.],\n",
       "        [  1.,  32.],\n",
       "        [  1.,  46.],\n",
       "        [  1.,  72.],\n",
       "        [  1.,  17.],\n",
       "        [  1.,  97.],\n",
       "        [  1.,  93.],\n",
       "        [  1.,  91.],\n",
       "        [  1.,  37.],\n",
       "        [  1.,   4.],\n",
       "        [  1.,  54.],\n",
       "        [  1.,  51.],\n",
       "        [  1.,  27.],\n",
       "        [  1.,  46.],\n",
       "        [  1.,  92.],\n",
       "        [  1.,  73.],\n",
       "        [  1.,  77.],\n",
       "        [  1.,  91.],\n",
       "        [  1.,  61.],\n",
       "        [  1.,  99.],\n",
       "        [  1.,   4.],\n",
       "        [  1.,  72.],\n",
       "        [  1.,  19.],\n",
       "        [  1.,  57.],\n",
       "        [  1.,  78.],\n",
       "        [  1.,  26.],\n",
       "        [  1.,  74.],\n",
       "        [  1.,  90.],\n",
       "        [  1.,  66.],\n",
       "        [  1.,  13.],\n",
       "        [  1.,  40.],\n",
       "        [  1.,  77.],\n",
       "        [  1.,  67.],\n",
       "        [  1.,  75.],\n",
       "        [  1.,  23.],\n",
       "        [  1.,  45.],\n",
       "        [  1.,  59.],\n",
       "        [  1.,  44.],\n",
       "        [  1.,  23.],\n",
       "        [  1.,  55.],\n",
       "        [  1.,  55.],\n",
       "        [  1.,  95.],\n",
       "        [  1.,  12.],\n",
       "        [  1.,   4.],\n",
       "        [  1.,   7.],\n",
       "        [  1., 100.],\n",
       "        [  1.,  48.],\n",
       "        [  1.,  42.],\n",
       "        [  1.,  96.],\n",
       "        [  1.,  39.],\n",
       "        [  1., 100.],\n",
       "        [  1.,  87.],\n",
       "        [  1.,  14.],\n",
       "        [  1.,  14.],\n",
       "        [  1.,  37.],\n",
       "        [  1.,   5.],\n",
       "        [  1.,  88.],\n",
       "        [  1.,  91.],\n",
       "        [  1.,  65.],\n",
       "        [  1.,  74.],\n",
       "        [  1.,  56.],\n",
       "        [  1.,  16.],\n",
       "        [  1.,   5.],\n",
       "        [  1.,  28.],\n",
       "        [  1.,  92.],\n",
       "        [  1.,  46.],\n",
       "        [  1.,  54.],\n",
       "        [  1.,  39.],\n",
       "        [  1.,  44.],\n",
       "        [  1.,  31.],\n",
       "        [  1.,  68.],\n",
       "        [  1.,  86.],\n",
       "        [  1.,  90.],\n",
       "        [  1.,  38.],\n",
       "        [  1.,  21.],\n",
       "        [  1.,  95.],\n",
       "        [  1.,  56.],\n",
       "        [  1.,  60.],\n",
       "        [  1.,  65.],\n",
       "        [  1.,  78.],\n",
       "        [  1.,  89.],\n",
       "        [  1.,   6.],\n",
       "        [  1.,  67.],\n",
       "        [  1.,  36.],\n",
       "        [  1.,  16.],\n",
       "        [  1., 100.],\n",
       "        [  1.,  45.],\n",
       "        [  1.,  73.],\n",
       "        [  1.,  57.],\n",
       "        [  1.,  20.],\n",
       "        [  1.,  76.],\n",
       "        [  1.,  34.],\n",
       "        [  1.,  55.],\n",
       "        [  1.,  72.],\n",
       "        [  1.,  55.],\n",
       "        [  1.,   8.],\n",
       "        [  1.,  56.],\n",
       "        [  1.,  72.],\n",
       "        [  1.,  58.],\n",
       "        [  1.,   6.],\n",
       "        [  1.,  96.],\n",
       "        [  1.,  23.],\n",
       "        [  1.,  58.],\n",
       "        [  1.,  23.],\n",
       "        [  1.,  19.],\n",
       "        [  1.,  25.],\n",
       "        [  1.,  64.],\n",
       "        [  1.,  21.],\n",
       "        [  1.,  59.],\n",
       "        [  1.,  19.],\n",
       "        [  1.,  16.],\n",
       "        [  1.,  42.],\n",
       "        [  1.,  43.],\n",
       "        [  1.,  61.],\n",
       "        [  1.,  92.],\n",
       "        [  1.,  11.],\n",
       "        [  1.,  41.],\n",
       "        [  1.,   1.],\n",
       "        [  1.,   8.],\n",
       "        [  1.,  71.],\n",
       "        [  1.,  46.],\n",
       "        [  1.,  55.],\n",
       "        [  1.,  62.],\n",
       "        [  1.,  47.]]),\n",
       " array([1.01433536]),\n",
       " -0.46181077366115164,\n",
       " array([-0.46181077,  1.01433536]))"
      ]
     },
     "execution_count": 6,
     "metadata": {},
     "output_type": "execute_result"
    }
   ],
   "source": [
    "lr.fit(X, y)"
   ]
  },
  {
   "cell_type": "code",
   "execution_count": 7,
   "metadata": {},
   "outputs": [
    {
     "data": {
      "text/plain": [
       "-0.46181077366115164"
      ]
     },
     "execution_count": 7,
     "metadata": {},
     "output_type": "execute_result"
    }
   ],
   "source": [
    "lr.intercept"
   ]
  },
  {
   "cell_type": "code",
   "execution_count": 8,
   "metadata": {},
   "outputs": [
    {
     "data": {
      "text/plain": [
       "array([1.01433536])"
      ]
     },
     "execution_count": 8,
     "metadata": {},
     "output_type": "execute_result"
    }
   ],
   "source": [
    "lr.coef"
   ]
  },
  {
   "cell_type": "code",
   "execution_count": 9,
   "metadata": {},
   "outputs": [
    {
     "data": {
      "text/plain": [
       "array([77.64201157, 20.83923168, 21.85356704, 19.82489633, 36.05426201,\n",
       "       14.75321955, 62.42698124, 95.90004796, 19.82489633,  4.609866  ])"
      ]
     },
     "execution_count": 9,
     "metadata": {},
     "output_type": "execute_result"
    }
   ],
   "source": [
    "lr.predict(X)[:10]"
   ]
  },
  {
   "cell_type": "markdown",
   "metadata": {},
   "source": [
    "# VALIDATION"
   ]
  },
  {
   "cell_type": "code",
   "execution_count": 10,
   "metadata": {},
   "outputs": [
    {
     "data": {
      "text/plain": [
       "LinearRegression()"
      ]
     },
     "execution_count": 10,
     "metadata": {},
     "output_type": "execute_result"
    }
   ],
   "source": [
    "from sklearn import linear_model\n",
    "sk_lr = linear_model.LinearRegression(normalize=False)\n",
    "sk_lr.fit(X, y)"
   ]
  },
  {
   "cell_type": "code",
   "execution_count": 11,
   "metadata": {},
   "outputs": [
    {
     "data": {
      "text/plain": [
       "-0.4618107736611563"
      ]
     },
     "execution_count": 11,
     "metadata": {},
     "output_type": "execute_result"
    }
   ],
   "source": [
    "sk_lr.intercept_ "
   ]
  },
  {
   "cell_type": "code",
   "execution_count": 12,
   "metadata": {},
   "outputs": [],
   "source": [
    "import numpy.testing as npt\n",
    "npt.assert_almost_equal(sk_lr.intercept_, lr.intercept)"
   ]
  },
  {
   "cell_type": "code",
   "execution_count": null,
   "metadata": {},
   "outputs": [],
   "source": []
  },
  {
   "cell_type": "code",
   "execution_count": 13,
   "metadata": {},
   "outputs": [
    {
     "data": {
      "text/plain": [
       "array([1.01433536])"
      ]
     },
     "execution_count": 13,
     "metadata": {},
     "output_type": "execute_result"
    }
   ],
   "source": [
    "sk_lr.coef_"
   ]
  },
  {
   "cell_type": "code",
   "execution_count": 14,
   "metadata": {},
   "outputs": [
    {
     "data": {
      "text/plain": [
       "array([1.01433536])"
      ]
     },
     "execution_count": 14,
     "metadata": {},
     "output_type": "execute_result"
    }
   ],
   "source": [
    "sk_lr.coef_ "
   ]
  },
  {
   "cell_type": "code",
   "execution_count": 15,
   "metadata": {},
   "outputs": [
    {
     "data": {
      "text/plain": [
       "array([ True])"
      ]
     },
     "execution_count": 15,
     "metadata": {},
     "output_type": "execute_result"
    }
   ],
   "source": [
    "np.isclose(lr.coef, sk_lr.coef_)"
   ]
  },
  {
   "cell_type": "code",
   "execution_count": 16,
   "metadata": {},
   "outputs": [
    {
     "data": {
      "text/plain": [
       "array([77.64201157, 20.83923168, 21.85356704, 19.82489633, 36.05426201,\n",
       "       14.75321955, 62.42698124, 95.90004796, 19.82489633,  4.609866  ])"
      ]
     },
     "execution_count": 16,
     "metadata": {},
     "output_type": "execute_result"
    }
   ],
   "source": [
    "lr.predict(X)[:10]"
   ]
  },
  {
   "cell_type": "code",
   "execution_count": 17,
   "metadata": {},
   "outputs": [
    {
     "data": {
      "text/html": [
       "<div>\n",
       "<style scoped>\n",
       "    .dataframe tbody tr th:only-of-type {\n",
       "        vertical-align: middle;\n",
       "    }\n",
       "\n",
       "    .dataframe tbody tr th {\n",
       "        vertical-align: top;\n",
       "    }\n",
       "\n",
       "    .dataframe thead th {\n",
       "        text-align: right;\n",
       "    }\n",
       "</style>\n",
       "<table border=\"1\" class=\"dataframe\">\n",
       "  <thead>\n",
       "    <tr style=\"text-align: right;\">\n",
       "      <th></th>\n",
       "      <th>x</th>\n",
       "      <th>y</th>\n",
       "    </tr>\n",
       "  </thead>\n",
       "  <tbody>\n",
       "    <tr>\n",
       "      <th>0</th>\n",
       "      <td>24</td>\n",
       "      <td>21.549452</td>\n",
       "    </tr>\n",
       "    <tr>\n",
       "      <th>1</th>\n",
       "      <td>50</td>\n",
       "      <td>47.464463</td>\n",
       "    </tr>\n",
       "    <tr>\n",
       "      <th>2</th>\n",
       "      <td>15</td>\n",
       "      <td>17.218656</td>\n",
       "    </tr>\n",
       "    <tr>\n",
       "      <th>3</th>\n",
       "      <td>38</td>\n",
       "      <td>36.586398</td>\n",
       "    </tr>\n",
       "    <tr>\n",
       "      <th>4</th>\n",
       "      <td>87</td>\n",
       "      <td>87.288984</td>\n",
       "    </tr>\n",
       "  </tbody>\n",
       "</table>\n",
       "</div>"
      ],
      "text/plain": [
       "    x          y\n",
       "0  24  21.549452\n",
       "1  50  47.464463\n",
       "2  15  17.218656\n",
       "3  38  36.586398\n",
       "4  87  87.288984"
      ]
     },
     "execution_count": 17,
     "metadata": {},
     "output_type": "execute_result"
    }
   ],
   "source": [
    "df_test = pd.read_csv(\"./train.csv\")\n",
    "df_test.head()"
   ]
  },
  {
   "cell_type": "code",
   "execution_count": 18,
   "metadata": {},
   "outputs": [],
   "source": [
    "X_test = df[\"x\"].values.reshape(-1,1)"
   ]
  },
  {
   "cell_type": "code",
   "execution_count": 19,
   "metadata": {},
   "outputs": [
    {
     "data": {
      "text/plain": [
       "array([77.64201157, 20.83923168, 21.85356704, 19.82489633, 36.05426201])"
      ]
     },
     "execution_count": 19,
     "metadata": {},
     "output_type": "execute_result"
    }
   ],
   "source": [
    "lr.predict(X_test)[:5]"
   ]
  },
  {
   "cell_type": "code",
   "execution_count": 20,
   "metadata": {},
   "outputs": [
    {
     "data": {
      "text/plain": [
       "array([77.64201157, 20.83923168, 21.85356704, 19.82489633, 36.05426201])"
      ]
     },
     "execution_count": 20,
     "metadata": {},
     "output_type": "execute_result"
    }
   ],
   "source": [
    "sk_lr.predict(X_test)[:5]"
   ]
  },
  {
   "cell_type": "markdown",
   "metadata": {},
   "source": [
    "# LOAD DATASET - multiple variables"
   ]
  },
  {
   "cell_type": "code",
   "execution_count": 21,
   "metadata": {},
   "outputs": [
    {
     "data": {
      "text/html": [
       "<div>\n",
       "<style scoped>\n",
       "    .dataframe tbody tr th:only-of-type {\n",
       "        vertical-align: middle;\n",
       "    }\n",
       "\n",
       "    .dataframe tbody tr th {\n",
       "        vertical-align: top;\n",
       "    }\n",
       "\n",
       "    .dataframe thead th {\n",
       "        text-align: right;\n",
       "    }\n",
       "</style>\n",
       "<table border=\"1\" class=\"dataframe\">\n",
       "  <thead>\n",
       "    <tr style=\"text-align: right;\">\n",
       "      <th></th>\n",
       "      <th>height_in_feet</th>\n",
       "      <th>weight_in_pounds</th>\n",
       "      <th>successful_field_goals</th>\n",
       "      <th>percent_of_successful_free_throws</th>\n",
       "      <th>average_points_scored</th>\n",
       "    </tr>\n",
       "  </thead>\n",
       "  <tbody>\n",
       "    <tr>\n",
       "      <th>0</th>\n",
       "      <td>6.8</td>\n",
       "      <td>225</td>\n",
       "      <td>0.442</td>\n",
       "      <td>0.672</td>\n",
       "      <td>9.2</td>\n",
       "    </tr>\n",
       "    <tr>\n",
       "      <th>1</th>\n",
       "      <td>6.3</td>\n",
       "      <td>180</td>\n",
       "      <td>0.435</td>\n",
       "      <td>0.797</td>\n",
       "      <td>11.7</td>\n",
       "    </tr>\n",
       "    <tr>\n",
       "      <th>2</th>\n",
       "      <td>6.4</td>\n",
       "      <td>190</td>\n",
       "      <td>0.456</td>\n",
       "      <td>0.761</td>\n",
       "      <td>15.8</td>\n",
       "    </tr>\n",
       "    <tr>\n",
       "      <th>3</th>\n",
       "      <td>6.2</td>\n",
       "      <td>180</td>\n",
       "      <td>0.416</td>\n",
       "      <td>0.651</td>\n",
       "      <td>8.6</td>\n",
       "    </tr>\n",
       "    <tr>\n",
       "      <th>4</th>\n",
       "      <td>6.9</td>\n",
       "      <td>205</td>\n",
       "      <td>0.449</td>\n",
       "      <td>0.900</td>\n",
       "      <td>23.2</td>\n",
       "    </tr>\n",
       "  </tbody>\n",
       "</table>\n",
       "</div>"
      ],
      "text/plain": [
       "   height_in_feet  weight_in_pounds  successful_field_goals  \\\n",
       "0             6.8               225                   0.442   \n",
       "1             6.3               180                   0.435   \n",
       "2             6.4               190                   0.456   \n",
       "3             6.2               180                   0.416   \n",
       "4             6.9               205                   0.449   \n",
       "\n",
       "   percent_of_successful_free_throws  average_points_scored  \n",
       "0                              0.672                    9.2  \n",
       "1                              0.797                   11.7  \n",
       "2                              0.761                   15.8  \n",
       "3                              0.651                    8.6  \n",
       "4                              0.900                   23.2  "
      ]
     },
     "execution_count": 21,
     "metadata": {},
     "output_type": "execute_result"
    }
   ],
   "source": [
    "df = pd.read_csv(\"./mlr09.csv\")\n",
    "df.head()"
   ]
  },
  {
   "cell_type": "code",
   "execution_count": 22,
   "metadata": {},
   "outputs": [],
   "source": [
    "y = df[\"average_points_scored\"].values"
   ]
  },
  {
   "cell_type": "code",
   "execution_count": 23,
   "metadata": {},
   "outputs": [
    {
     "data": {
      "text/html": [
       "<div>\n",
       "<style scoped>\n",
       "    .dataframe tbody tr th:only-of-type {\n",
       "        vertical-align: middle;\n",
       "    }\n",
       "\n",
       "    .dataframe tbody tr th {\n",
       "        vertical-align: top;\n",
       "    }\n",
       "\n",
       "    .dataframe thead th {\n",
       "        text-align: right;\n",
       "    }\n",
       "</style>\n",
       "<table border=\"1\" class=\"dataframe\">\n",
       "  <thead>\n",
       "    <tr style=\"text-align: right;\">\n",
       "      <th></th>\n",
       "      <th>height_in_feet</th>\n",
       "      <th>weight_in_pounds</th>\n",
       "      <th>successful_field_goals</th>\n",
       "      <th>percent_of_successful_free_throws</th>\n",
       "    </tr>\n",
       "  </thead>\n",
       "  <tbody>\n",
       "    <tr>\n",
       "      <th>0</th>\n",
       "      <td>6.8</td>\n",
       "      <td>225</td>\n",
       "      <td>0.442</td>\n",
       "      <td>0.672</td>\n",
       "    </tr>\n",
       "    <tr>\n",
       "      <th>1</th>\n",
       "      <td>6.3</td>\n",
       "      <td>180</td>\n",
       "      <td>0.435</td>\n",
       "      <td>0.797</td>\n",
       "    </tr>\n",
       "    <tr>\n",
       "      <th>2</th>\n",
       "      <td>6.4</td>\n",
       "      <td>190</td>\n",
       "      <td>0.456</td>\n",
       "      <td>0.761</td>\n",
       "    </tr>\n",
       "    <tr>\n",
       "      <th>3</th>\n",
       "      <td>6.2</td>\n",
       "      <td>180</td>\n",
       "      <td>0.416</td>\n",
       "      <td>0.651</td>\n",
       "    </tr>\n",
       "    <tr>\n",
       "      <th>4</th>\n",
       "      <td>6.9</td>\n",
       "      <td>205</td>\n",
       "      <td>0.449</td>\n",
       "      <td>0.900</td>\n",
       "    </tr>\n",
       "  </tbody>\n",
       "</table>\n",
       "</div>"
      ],
      "text/plain": [
       "   height_in_feet  weight_in_pounds  successful_field_goals  \\\n",
       "0             6.8               225                   0.442   \n",
       "1             6.3               180                   0.435   \n",
       "2             6.4               190                   0.456   \n",
       "3             6.2               180                   0.416   \n",
       "4             6.9               205                   0.449   \n",
       "\n",
       "   percent_of_successful_free_throws  \n",
       "0                              0.672  \n",
       "1                              0.797  \n",
       "2                              0.761  \n",
       "3                              0.651  \n",
       "4                              0.900  "
      ]
     },
     "execution_count": 23,
     "metadata": {},
     "output_type": "execute_result"
    }
   ],
   "source": [
    "df.iloc[:,:-1].head()"
   ]
  },
  {
   "cell_type": "code",
   "execution_count": 24,
   "metadata": {},
   "outputs": [],
   "source": [
    "X = df.iloc[:,:-1].values"
   ]
  },
  {
   "cell_type": "code",
   "execution_count": 25,
   "metadata": {},
   "outputs": [
    {
     "data": {
      "text/plain": [
       "array([[  6.8  , 225.   ,   0.442,   0.672],\n",
       "       [  6.3  , 180.   ,   0.435,   0.797],\n",
       "       [  6.4  , 190.   ,   0.456,   0.761],\n",
       "       [  6.2  , 180.   ,   0.416,   0.651],\n",
       "       [  6.9  , 205.   ,   0.449,   0.9  ]])"
      ]
     },
     "execution_count": 25,
     "metadata": {},
     "output_type": "execute_result"
    }
   ],
   "source": [
    "X[:5]"
   ]
  },
  {
   "cell_type": "markdown",
   "metadata": {},
   "source": [
    "# RESCALED"
   ]
  },
  {
   "cell_type": "code",
   "execution_count": 26,
   "metadata": {},
   "outputs": [],
   "source": [
    "mu_X = np.mean(X, axis=0)\n",
    "std_X = np.std(X, axis=0)\n",
    "\n",
    "rescaled_X = (X - mu_X) / std_X"
   ]
  },
  {
   "cell_type": "code",
   "execution_count": 27,
   "metadata": {},
   "outputs": [
    {
     "data": {
      "text/plain": [
       "array([[ 0.46843663,  0.50336336, -0.12692668, -0.70404955],\n",
       "       [-0.63137111, -0.99746237, -0.25187012,  0.55584824],\n",
       "       [-0.41140956, -0.66394554,  0.12296022,  0.19299768],\n",
       "       [-0.85133266, -0.99746237, -0.59100234, -0.91571238],\n",
       "       [ 0.68839818, -0.1636703 , -0.00198323,  1.59400403]])"
      ]
     },
     "execution_count": 27,
     "metadata": {},
     "output_type": "execute_result"
    }
   ],
   "source": [
    "rescaled_X[:5]"
   ]
  },
  {
   "cell_type": "markdown",
   "metadata": {},
   "source": [
    "# VALIDATION"
   ]
  },
  {
   "cell_type": "code",
   "execution_count": 28,
   "metadata": {},
   "outputs": [
    {
     "data": {
      "text/plain": [
       "(array([[ 1.00000000e+00,  4.68436630e-01,  5.03363361e-01,\n",
       "         -1.26926677e-01, -7.04049553e-01],\n",
       "        [ 1.00000000e+00, -6.31371109e-01, -9.97462366e-01,\n",
       "         -2.51870124e-01,  5.55848242e-01],\n",
       "        [ 1.00000000e+00, -4.11409562e-01, -6.63945538e-01,\n",
       "          1.22960218e-01,  1.92997677e-01],\n",
       "        [ 1.00000000e+00, -8.51332657e-01, -9.97462366e-01,\n",
       "         -5.91002339e-01, -9.15712383e-01],\n",
       "        [ 1.00000000e+00,  6.88398177e-01, -1.63670295e-01,\n",
       "         -1.98322933e-03,  1.59400403e+00],\n",
       "        [ 1.00000000e+00, -4.11409562e-01,  5.03363361e-01,\n",
       "         -3.23266380e-01,  3.84502142e-01],\n",
       "        [ 1.00000000e+00, -6.31371109e-01, -8.30703952e-01,\n",
       "          6.76281200e-01,  2.93789501e-01],\n",
       "        [ 1.00000000e+00,  4.68436630e-01,  8.36880189e-01,\n",
       "          3.54998049e-01,  8.21266711e-02],\n",
       "        [ 1.00000000e+00,  6.88398177e-01,  8.36880189e-01,\n",
       "         -2.51870124e-01,  7.67511072e-01],\n",
       "        [ 1.00000000e+00,  2.48475082e-01,  3.08811878e-03,\n",
       "          5.51337752e-01,  8.38065348e-01],\n",
       "        [ 1.00000000e+00,  6.88398177e-01,  1.17039702e+00,\n",
       "          1.19390405e+00, -1.10721685e+00],\n",
       "        [ 1.00000000e+00,  6.88398177e-01,  1.17039702e+00,\n",
       "          7.83375583e-01,  1.52680948e-01],\n",
       "        [ 1.00000000e+00, -6.31371109e-01, -8.30703952e-01,\n",
       "         -1.34066302e+00, -3.31119806e-01],\n",
       "        [ 1.00000000e+00, -1.07129421e+00, -8.30703952e-01,\n",
       "         -4.48209827e-01,  4.04660507e-01],\n",
       "        [ 1.00000000e+00, -8.51332657e-01, -9.97462366e-01,\n",
       "         -1.44775741e-01,  3.34106230e-01],\n",
       "        [ 1.00000000e+00,  4.68436630e-01,  3.36604947e-01,\n",
       "          9.61866223e-01,  1.39242038e+00],\n",
       "        [ 1.00000000e+00, -1.91448014e-01, -5.30538806e-01,\n",
       "          9.61866223e-01,  9.18698807e-01],\n",
       "        [ 1.00000000e+00,  2.22812901e+00,  5.03363361e-01,\n",
       "         -4.30360764e-01, -1.72204697e+00],\n",
       "        [ 1.00000000e+00, -6.31371109e-01,  3.08811878e-03,\n",
       "         -1.39421022e+00,  7.47352707e-01],\n",
       "        [ 1.00000000e+00,  1.12832127e+00,  1.00363860e+00,\n",
       "          9.79715287e-01, -2.80723894e-01],\n",
       "        [ 1.00000000e+00,  4.68436630e-01,  5.03363361e-01,\n",
       "         -8.76587362e-01,  2.33314406e-01],\n",
       "        [ 1.00000000e+00,  1.56824437e+00,  1.77072731e+00,\n",
       "          5.87035880e-01, -8.75395653e-01],\n",
       "        [ 1.00000000e+00, -4.11409562e-01,  3.08811878e-03,\n",
       "          4.62092433e-01, -5.01793960e+00],\n",
       "        [ 1.00000000e+00,  4.68436630e-01,  8.36880189e-01,\n",
       "         -3.76813572e-01, -1.39615341e-01],\n",
       "        [ 1.00000000e+00,  1.34828282e+00,  6.70121775e-01,\n",
       "          1.96141380e+00, -2.10169617e-01],\n",
       "        [ 1.00000000e+00, -4.11409562e-01, -6.63945538e-01,\n",
       "         -1.44775741e-01,  1.52680948e-01],\n",
       "        [ 1.00000000e+00,  2.85135340e-02,  3.36604947e-01,\n",
       "          7.65526519e-01,  5.18891240e-02],\n",
       "        [ 1.00000000e+00,  4.68436630e-01,  3.08811878e-03,\n",
       "         -8.40889234e-01, -2.87443349e-02],\n",
       "        [ 1.00000000e+00, -1.07129421e+00, -9.97462366e-01,\n",
       "         -6.08851403e-01, -2.90803076e-01],\n",
       "        [ 1.00000000e+00, -1.91448014e-01,  8.36880189e-01,\n",
       "          7.65526519e-01,  1.49321220e-03],\n",
       "        [ 1.00000000e+00, -4.11409562e-01, -8.30703952e-01,\n",
       "          6.22734008e-01,  1.20091591e+00],\n",
       "        [ 1.00000000e+00, -1.29125575e+00, -1.16422078e+00,\n",
       "         -1.10862519e+00, -2.10169617e-01],\n",
       "        [ 1.00000000e+00, -1.29125575e+00, -5.97242172e-01,\n",
       "         -2.34021060e-01,  4.34898054e-01],\n",
       "        [ 1.00000000e+00,  1.56824437e+00,  1.77072731e+00,\n",
       "          5.87035880e-01, -8.75395653e-01],\n",
       "        [ 1.00000000e+00, -1.07129421e+00, -9.97462366e-01,\n",
       "         -1.94753120e+00,  7.97748619e-01],\n",
       "        [ 1.00000000e+00,  2.48475082e-01,  1.00363860e+00,\n",
       "          1.19390405e+00, -1.39615341e-01],\n",
       "        [ 1.00000000e+00, -4.11409562e-01,  3.08811878e-03,\n",
       "          4.62092433e-01,  1.04972818e+00],\n",
       "        [ 1.00000000e+00, -1.73117885e+00, -1.66449602e+00,\n",
       "         -6.62398595e-01,  7.17115160e-01],\n",
       "        [ 1.00000000e+00,  6.88398177e-01,  6.70121775e-01,\n",
       "         -6.80247658e-01, -1.48014659e+00],\n",
       "        [ 1.00000000e+00,  9.08359725e-01,  1.17039702e+00,\n",
       "         -7.51643914e-01, -1.70188861e+00],\n",
       "        [ 1.00000000e+00,  1.56824437e+00,  6.03418410e-01,\n",
       "         -7.33794850e-02, -1.59773706e-01],\n",
       "        [ 1.00000000e+00, -1.51121730e+00, -1.83125444e+00,\n",
       "         -2.82213533e+00, -3.51278170e-01],\n",
       "        [ 1.00000000e+00, -8.51332657e-01, -3.30428709e-01,\n",
       "         -1.98322933e-03,  6.26402519e-01],\n",
       "        [ 1.00000000e+00,  4.68436630e-01,  8.36880189e-01,\n",
       "          1.72937597e+00,  4.24818871e-01],\n",
       "        [ 1.00000000e+00,  9.08359725e-01,  8.36880189e-01,\n",
       "          5.51337752e-01,  2.16515769e-02],\n",
       "        [ 1.00000000e+00, -1.51121730e+00, -3.49883858e+00,\n",
       "         -1.60839898e+00,  9.79173901e-01],\n",
       "        [ 1.00000000e+00, -1.07129421e+00, -9.97462366e-01,\n",
       "          1.40809282e+00,  4.85293965e-01],\n",
       "        [ 1.00000000e+00, -1.95114040e+00, -8.30703952e-01,\n",
       "         -1.73334243e+00, -4.11753265e-01],\n",
       "        [ 1.00000000e+00,  1.12832127e+00,  1.17039702e+00,\n",
       "         -6.26700467e-01,  3.64343777e-01],\n",
       "        [ 1.00000000e+00, -1.73117885e+00, -9.97462366e-01,\n",
       "         -4.30360764e-01,  1.31178692e+00],\n",
       "        [ 1.00000000e+00,  1.78820592e+00,  1.00363860e+00,\n",
       "          2.67537636e+00, -2.90803076e-01],\n",
       "        [ 1.00000000e+00,  4.68436630e-01,  5.03363361e-01,\n",
       "          5.87035880e-01, -4.11753265e-01],\n",
       "        [ 1.00000000e+00,  4.68436630e-01,  1.69846533e-01,\n",
       "          1.40809282e-01, -7.91402467e-02],\n",
       "        [ 1.00000000e+00,  9.08359725e-01,  6.70121775e-01,\n",
       "         -2.51870124e-01,  2.23235224e-01]]),\n",
       " array([-1.67779283,  0.28359762,  2.68586629,  1.12816882]),\n",
       " 11.790740740740738,\n",
       " array([11.79074074, -1.67779283,  0.28359762,  2.68586629,  1.12816882]))"
      ]
     },
     "execution_count": 28,
     "metadata": {},
     "output_type": "execute_result"
    }
   ],
   "source": [
    "lr.fit(rescaled_X, y)"
   ]
  },
  {
   "cell_type": "code",
   "execution_count": 29,
   "metadata": {},
   "outputs": [
    {
     "data": {
      "text/plain": [
       "array([-1.67779283,  0.28359762,  2.68586629,  1.12816882])"
      ]
     },
     "execution_count": 29,
     "metadata": {},
     "output_type": "execute_result"
    }
   ],
   "source": [
    "lr.coef"
   ]
  },
  {
   "cell_type": "code",
   "execution_count": 30,
   "metadata": {},
   "outputs": [
    {
     "data": {
      "text/plain": [
       "11.790740740740738"
      ]
     },
     "execution_count": 30,
     "metadata": {},
     "output_type": "execute_result"
    }
   ],
   "source": [
    "lr.intercept"
   ]
  },
  {
   "cell_type": "code",
   "execution_count": 31,
   "metadata": {},
   "outputs": [
    {
     "data": {
      "text/plain": [
       "LinearRegression()"
      ]
     },
     "execution_count": 31,
     "metadata": {},
     "output_type": "execute_result"
    }
   ],
   "source": [
    "sk_lr.fit(rescaled_X, y)"
   ]
  },
  {
   "cell_type": "code",
   "execution_count": 32,
   "metadata": {},
   "outputs": [
    {
     "data": {
      "text/plain": [
       "array([-1.67779283,  0.28359762,  2.68586629,  1.12816882])"
      ]
     },
     "execution_count": 32,
     "metadata": {},
     "output_type": "execute_result"
    }
   ],
   "source": [
    "sk_lr.coef_"
   ]
  },
  {
   "cell_type": "code",
   "execution_count": 33,
   "metadata": {},
   "outputs": [
    {
     "data": {
      "text/plain": [
       "11.790740740740736"
      ]
     },
     "execution_count": 33,
     "metadata": {},
     "output_type": "execute_result"
    }
   ],
   "source": [
    "sk_lr.intercept_"
   ]
  }
 ],
 "metadata": {
  "kernelspec": {
   "display_name": "Python 3.9.7 ('base')",
   "language": "python",
   "name": "python3"
  },
  "language_info": {
   "codemirror_mode": {
    "name": "ipython",
    "version": 3
   },
   "file_extension": ".py",
   "mimetype": "text/x-python",
   "name": "python",
   "nbconvert_exporter": "python",
   "pygments_lexer": "ipython3",
   "version": "3.9.7"
  },
  "vscode": {
   "interpreter": {
    "hash": "abe8009e57fe085db95555d3e6b7cd47d91b39c5b9e32efcdc817e335cb30c66"
   }
  }
 },
 "nbformat": 4,
 "nbformat_minor": 2
}
