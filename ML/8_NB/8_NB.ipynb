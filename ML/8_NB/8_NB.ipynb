{
 "cells": [
  {
   "cell_type": "markdown",
   "metadata": {},
   "source": [
    "### **Naive Bayes Classifier**"
   ]
  },
  {
   "cell_type": "markdown",
   "metadata": {},
   "source": [
    "**[Probability Overview]** - 머신러닝의 학습방법들\n",
    "- Gradient descent based learning\n",
    "- Probability theory based learning - 이번에 배울거\n",
    "- Information theory based learning\n",
    "- Distance similarity based learning"
   ]
  },
  {
   "cell_type": "markdown",
   "metadata": {},
   "source": [
    "**Probability**\n",
    "- 이산형 값\n",
    "> ##### $P(X) = \\frac{count(Event_X)}{count(ALL_{Event})}$\n",
    "\n",
    "- 연속형 값\n",
    "> $P(-\\infty < x < \\infty) = \\int_{-\\infty}^{\\infty} f(x)dx = 1$\n",
    "<br><br><br>\n",
    "\n",
    "**Basic concepts of probability**\n",
    "> $0 \\le P(E) \\le 1$ <br>\n",
    "> $P(S) = \\sum_{i=1}^N P(E_i) = 1$ &nbsp;&nbsp;&nbsp;&nbsp;&nbsp;&nbsp;&nbsp;if all $E_i$ are independent\n",
    "<br><br><br>\n",
    "\n",
    "**Conditional probability**\n",
    "> $P(A|B) = \\frac{P(A \\cap B)}{P(B)}$"
   ]
  },
  {
   "cell_type": "markdown",
   "metadata": {},
   "source": [
    "<br><br>\n",
    "**[Bayes's Theorem]**\n",
    "- 경험에 의한 확률 업데이트\n",
    "- 주어진 사전 확률에서 특정 사건 발생을 통해 사후 확률로 계속해서 업데이트(ex.개표방송)\n",
    "- 빈도주의 vs 베이즈주의\n",
    "- 객관적 확률은 존재하지 않는다!"
   ]
  },
  {
   "cell_type": "markdown",
   "metadata": {},
   "source": [
    "**Probability updated**\n",
    "- 특정 사건이 일어남에 따라 확률을 업데이트(ex. 퀸찾기 카드게임)"
   ]
  },
  {
   "cell_type": "markdown",
   "metadata": {},
   "source": [
    "**Bayes's theorem**\n",
    "> $P(A|B) = \\frac{P(A \\cap B)}{P(B)}$ &nbsp;&nbsp;&nbsp;&nbsp;&nbsp;&nbsp;&nbsp;&nbsp;&nbsp;\n",
    "$P(B|A) = \\frac{P(A \\cap B)}{P(A)}$ <br>\n",
    "> $P(A \\cap B) = P(B)P(A|B) = P(A)|P(B|A)$ <br><br>\n",
    "> $P(A|B) = \\frac{P(A \\cap B)}{P(B)} = \\frac{P(A)P(B|A)}{P(B)}$\n",
    "- 다시말해서, 사건B가 일어났을 때의 사건A가 일어날 확률은, 사건B가 일어났을때, 사건A가 일어날 확률은 주어져있고, 사건A가 일어났을때 사건B가 일어날 확률을 거기에 곱해주면 된다"
   ]
  },
  {
   "cell_type": "markdown",
   "metadata": {},
   "source": [
    "> $P(H|D) = \\frac{P(H)P(D|H)}{P(D)}$ <br>\n",
    "(H is Class &nbsp;&nbsp;&nbsp;&nbsp;&nbsp;&nbsp; D is Data)\n",
    "- P(H|D) : 사후확률, 어떤 데이터가 주어졌을 때의 가설이 발생할(발생하지않을) 확률 (H : 가설함수)\n",
    "- P(D) : 전체확률, 데이터가 발생할 확률(Evidence)\n",
    "- P(H) : 사전확률, 예) 1000개중 $y_1$= 700, $y_2$=300개면 P($H_1$)=700/1000\n",
    "- 결국은 주어진 데이터(D) X를 통해 클래스(D) Y를 찾는 작업\n",
    "- 나중에는 P(D)는 고정값이 되고, P(H)는 주어져서 결국 P(D|H), 우도를 찾는게 가장 중요해진다."
   ]
  },
  {
   "cell_type": "markdown",
   "metadata": {},
   "source": [
    "<br><br>\n",
    "**[Naive Bayes Classifier]**<br><br>\n",
    "예제로 풀어보기 - Viagra 스팸 필터기\n",
    "- Viagra라는 단어의 유무를 통해 스팸 여부 확인\n",
    "- Viagra 단어가 들어가면 무조건 스팸?\n",
    "- 어느정도 확률로 스팸이라고 해야할까? <br><br>\n",
    "![img](https://ifh.cc/g/3vSPxP.png)"
   ]
  },
  {
   "cell_type": "markdown",
   "metadata": {},
   "source": [
    "- $P(spam | viagra) = \\frac{P(spam)P(viagra|spam)}{P(viagra)}$"
   ]
  },
  {
   "cell_type": "code",
   "execution_count": 22,
   "metadata": {},
   "outputs": [],
   "source": [
    "from pandas import Series, DataFrame\n",
    "import pandas as pd\n",
    "import numpy as np"
   ]
  },
  {
   "cell_type": "code",
   "execution_count": 23,
   "metadata": {},
   "outputs": [
    {
     "data": {
      "text/html": [
       "<div>\n",
       "<style scoped>\n",
       "    .dataframe tbody tr th:only-of-type {\n",
       "        vertical-align: middle;\n",
       "    }\n",
       "\n",
       "    .dataframe tbody tr th {\n",
       "        vertical-align: top;\n",
       "    }\n",
       "\n",
       "    .dataframe thead th {\n",
       "        text-align: right;\n",
       "    }\n",
       "</style>\n",
       "<table border=\"1\" class=\"dataframe\">\n",
       "  <thead>\n",
       "    <tr style=\"text-align: right;\">\n",
       "      <th></th>\n",
       "      <th>viagra</th>\n",
       "      <th>spam</th>\n",
       "    </tr>\n",
       "  </thead>\n",
       "  <tbody>\n",
       "    <tr>\n",
       "      <th>0</th>\n",
       "      <td>1</td>\n",
       "      <td>1</td>\n",
       "    </tr>\n",
       "    <tr>\n",
       "      <th>1</th>\n",
       "      <td>0</td>\n",
       "      <td>0</td>\n",
       "    </tr>\n",
       "    <tr>\n",
       "      <th>2</th>\n",
       "      <td>0</td>\n",
       "      <td>0</td>\n",
       "    </tr>\n",
       "    <tr>\n",
       "      <th>3</th>\n",
       "      <td>0</td>\n",
       "      <td>0</td>\n",
       "    </tr>\n",
       "    <tr>\n",
       "      <th>4</th>\n",
       "      <td>0</td>\n",
       "      <td>0</td>\n",
       "    </tr>\n",
       "  </tbody>\n",
       "</table>\n",
       "</div>"
      ],
      "text/plain": [
       "   viagra  spam\n",
       "0       1     1\n",
       "1       0     0\n",
       "2       0     0\n",
       "3       0     0\n",
       "4       0     0"
      ]
     },
     "execution_count": 23,
     "metadata": {},
     "output_type": "execute_result"
    }
   ],
   "source": [
    "viagra_spam = {'viagra': [1,0,0,0,0,0,0,0,1,1,1,0,0,1,0,0,0,0,0,1],\n",
    "               'spam': [\n",
    "                   1,0,0,0,0,0,1,0,1,0, 0,0,0,0,0,0,0,1,1,1\n",
    "               ]}\n",
    "\n",
    "df = pd.DataFrame(viagra_spam, columns=['viagra', 'spam'])\n",
    "df.head()"
   ]
  },
  {
   "cell_type": "code",
   "execution_count": 24,
   "metadata": {},
   "outputs": [
    {
     "data": {
      "text/plain": [
       "array([[1, 1],\n",
       "       [0, 0],\n",
       "       [0, 0],\n",
       "       [0, 0],\n",
       "       [0, 0],\n",
       "       [0, 0],\n",
       "       [0, 1],\n",
       "       [0, 0],\n",
       "       [1, 1],\n",
       "       [1, 0],\n",
       "       [1, 0],\n",
       "       [0, 0],\n",
       "       [0, 0],\n",
       "       [1, 0],\n",
       "       [0, 0],\n",
       "       [0, 0],\n",
       "       [0, 0],\n",
       "       [0, 1],\n",
       "       [0, 1],\n",
       "       [1, 1]], dtype=int64)"
      ]
     },
     "execution_count": 24,
     "metadata": {},
     "output_type": "execute_result"
    }
   ],
   "source": [
    "np_data = df.values\n",
    "np_data"
   ]
  },
  {
   "cell_type": "markdown",
   "metadata": {},
   "source": [
    "- P(viagra), P(spam), P(V $\\cap$ S), P($N^c \\cap S$) 구하기"
   ]
  },
  {
   "cell_type": "code",
   "execution_count": 19,
   "metadata": {},
   "outputs": [],
   "source": [
    "p_viagra = sum(np_data[:, 0] == 1) / len(np_data)\n",
    "p_spam = sum(np_data[:, 1] == 1) / len(np_data)\n",
    "p_v_cap_s = sum((np_data[:, 0] == 1) & (np_data[:, 1] == 1)) / len(np_data)\n",
    "p_n_v_cap_s = sum((np_data[:, 0] == 0) & (np_data[:, 1]== 1)) / len(np_data)"
   ]
  },
  {
   "cell_type": "markdown",
   "metadata": {},
   "source": [
    "- P(Spam | Viagra)"
   ]
  },
  {
   "cell_type": "code",
   "execution_count": 20,
   "metadata": {},
   "outputs": [
    {
     "data": {
      "text/plain": [
       "0.5"
      ]
     },
     "execution_count": 20,
     "metadata": {},
     "output_type": "execute_result"
    }
   ],
   "source": [
    "p_spam * (p_v_cap_s / p_spam) / p_viagra"
   ]
  },
  {
   "cell_type": "markdown",
   "metadata": {},
   "source": [
    "- P(Spam | ~Viagra)"
   ]
  },
  {
   "cell_type": "code",
   "execution_count": 21,
   "metadata": {},
   "outputs": [
    {
     "data": {
      "text/plain": [
       "0.2142857142857143"
      ]
     },
     "execution_count": 21,
     "metadata": {},
     "output_type": "execute_result"
    }
   ],
   "source": [
    "p_spam * (p_n_v_cap_s / p_spam) / (1-p_viagra)"
   ]
  },
  {
   "cell_type": "markdown",
   "metadata": {},
   "source": [
    "<br><br>\n",
    "**제대로된 스팸 필터기를 만들어보자**\n",
    "- Viagra 단어외에 영향을 주는 단어들은?\n",
    "- 오히려 스팸을 제외해주는 단어는 어떻게 찾을까?\n",
    "- 한번에 여러 단어들을 고려하는 필터기를 만들어보자"
   ]
  },
  {
   "cell_type": "markdown",
   "metadata": {},
   "source": [
    "**Feature의 확장**<br><br>\n",
    "$P(spam | viagra)$ &nbsp;&nbsp;( spam : y &nbsp;&nbsp;&nbsp;&nbsp; viagra : x )<br>\n",
    "&nbsp;&nbsp;&nbsp;&nbsp;&nbsp;&nbsp;&nbsp;&nbsp;&nbsp;&nbsp;&nbsp;&nbsp;$\\Downarrow$<br>\n",
    "$P(spam | viagra, hello, lucky, marketing, \\cdots)$\n",
    "- y는 그대로 1또는 0을 가지지만, x는 $x_1, x_2, x_3 \\cdots $로 확장됨\n",
    "- 변수가 많을 때, 조건부 확률의 변화"
   ]
  },
  {
   "cell_type": "markdown",
   "metadata": {},
   "source": [
    "**[ Multivariate multiplication rule ]**\n",
    "> $P(Y | X_1 \\cap X_2) = \\frac{P(Y \\cap X_1 \\cap X_2)}{P(X_1 \\cap X_2)}$<br>\n",
    "> $P(Y \\cap X_1 \\cap X_2) = P(Y | X_1, X_2) P(X_1 \\cap X_2)$ <br><br>\n",
    "> $P(X_1, X_2, X_3, \\cdots, X_n)$<br>\n",
    "> $= P(X_1)P(X_2|X_1)P(X_3|X_1, X_2) \\cdots P(X_n|X_1 \\cdots X_{x-1})$ "
   ]
  },
  {
   "cell_type": "markdown",
   "metadata": {},
   "source": [
    "**Problems!**\n",
    "- 변수가 늘어날수록 급격히 계산이 어려워짐\n",
    "- Feature의 차원이 증가하면 Sparse Vector가 생성 $\\rightarrow$ 확률이 0이 되는 값이 늘어남"
   ]
  },
  {
   "cell_type": "markdown",
   "metadata": {},
   "source": [
    "#### **[ Naive Bayes Classifier ]**\n",
    "- 접근방향 : 복잡하게 하지만고 단순(naive)하게 해결하자\n",
    "- 각 변수의 관계가 독립임을 가정\n",
    "- 계산이 용이해지고, 성능이 생각보다 좋음..!"
   ]
  },
  {
   "cell_type": "markdown",
   "metadata": {},
   "source": [
    "**Joint Probability**\n",
    "> $P(A \\cap B) = P(A)P(B)$ &nbsp;&nbsp;&nbsp;&nbsp;&nbsp; if A and B are independent<br><br>\n",
    "> $P(Y|X_1 \\cap X_2) = \\frac{P(Y)P(X_1 \\cap X_2 | Y)}{P(X_1 \\cap X_2)}$<br>\n",
    "&nbsp;&nbsp;&nbsp;&nbsp;&nbsp;&nbsp;&nbsp;&nbsp;&nbsp;&nbsp;&nbsp;&nbsp;&nbsp;&nbsp;&nbsp;&nbsp;&nbsp;&nbsp;&nbsp;&nbsp;&nbsp;&nbsp;&nbsp;&nbsp;&nbsp;&nbsp;&nbsp;&nbsp;\n",
    "$= \\frac{P(Y)P(X_1|Y)P(X_2|Y)}{P(X_1)P(X_2)}$\n",
    "- 이전의 Multivariate multiplication rule보다는 더 간결해짐"
   ]
  },
  {
   "cell_type": "markdown",
   "metadata": {},
   "source": [
    "**Naive Bayes Classifier**\n",
    "> ##### $P(Y|X_1 \\cap X_2) = \\frac{P(Y) P(X_1 \\cap X_2 | Y)}{P(X_1 \\cap X_2)} = \\frac{P(Y)P(X_1|Y)P(X_2|Y)}{P(X_1)P(X_2)}$<br><br>\n",
    "> ##### <span style='background-color:#fff5b1'>$P(Y_c | X_1, \\cdots,X_n) > = \\frac{P(Y_c) \\prod_{i=1}^n P(X_i |Y_c)}{\\prod_{i=1}^n P(X_i)}$</span> &nbsp;&nbsp;&nbsp;&nbsp;&nbsp;&nbsp;&nbsp; &nbsp;&nbsp;$Y_c$ is a label\n",
    "- $X_1$부터 $X_n$까지의 Data가 주어졌을 때, P(Y=1)과 P(Y=0)중에 더 큰 값을 채택하여 모든 데이터마다 진행"
   ]
  },
  {
   "cell_type": "markdown",
   "metadata": {},
   "source": [
    "**Issue!**\n",
    "- 너무 많은 확률값$(0 \\le P \\le 1) \\rightarrow$ 0에 수렴하게 되는문제\n",
    "- 곱하지 말고 더하자 $\\rightarrow$ log\n",
    "<br><br>\n",
    "> $log({P(Y_c)\\prod_{i=1}^n P(X_i|Y_c)}) = log P(Y_c) + \\sum_{i=1}^n log P(X_i |Y_c)$\n",
    "> ##### <span style='background-color:#fff5b1'>$P(Y_c | X_1, \\cdots, X_n) = \\frac{P(Y_c) \\prod_{i=1}^n P(X_i|Y_c)}{\\prod_{i=1}^n P(X_i)}$</span> &nbsp;&nbsp;&nbsp;&nbsp;&nbsp;&nbsp;&nbsp;&nbsp;&nbsp; $Y_c$ is a label\n",
    "- 분모에서 $X_i$는 피쳐이기 때문에 prod의 결과값은 고정되어있어서 중요하지 않다.\n",
    "<br><br>\n",
    "- 확률이 0인 변수들이 존재함 $\\rightarrow$ 전체값 0\n",
    "- 작게나마 확률이 나올 수 있도록변경 $\\rightarrow$ **스무딩**\n",
    "> #### $P(X|Y) = \\frac{count(X \\cap Y) + k}{count(Y) + (k\\;*\\;|number\\;of\\;class|)}$\n",
    "- 분모분자에 k라는 상수값을 임의로 넣어서 값을 좀 더 평탄하게(generalize) 해준다. 다만 count값들에 비해 k가 커버리면 차이가 더 흐려질수도 있으니 주의\n",
    "- 스무딩 기법을 사용하면 확률이 0으로 산출되지도 않고 generalize의 효과도 볼수있다.\n",
    "- binary한 분류문제에서는 Y=1 or 0이 될테니까 number of class=2가 된다\n",
    "> ##### <span style='background-color:#fff5b1'> $log{P(Y_c)\\prod_{i=1}^n P(X_i|Y_c)} = log P(Y_c) + \\sum_{i=1}^n logP(X_i | Y_c)$</span>\n",
    "- 최종식. 우변에서 sum항에 스무딩을 먹여줘서 0인 값이 없도록 한다.\n",
    "<br><br>\n",
    "- NB의 핵심 : 최종 식 도출 + 스무딩"
   ]
  },
  {
   "cell_type": "markdown",
   "metadata": {},
   "source": [
    "<br><br>\n",
    "### **NB Classifier Implementation**"
   ]
  },
  {
   "cell_type": "markdown",
   "metadata": {},
   "source": [
    "**Dataset - German Credit**\n",
    "- 대출 사기인가 아닌가를 예측하는 문제\n",
    "- 데이터를 NB에 맞도록 간단하게 변환\n",
    "- Binary 데이터들로 이루어진 대출 사기 데이터`"
   ]
  },
  {
   "cell_type": "markdown",
   "metadata": {},
   "source": [
    "**Preprocessing**"
   ]
  }
 ],
 "metadata": {
  "kernelspec": {
   "display_name": "Python 3.6.5 ('base')",
   "language": "python",
   "name": "python3"
  },
  "language_info": {
   "codemirror_mode": {
    "name": "ipython",
    "version": 3
   },
   "file_extension": ".py",
   "mimetype": "text/x-python",
   "name": "python",
   "nbconvert_exporter": "python",
   "pygments_lexer": "ipython3",
   "version": "3.6.5"
  },
  "orig_nbformat": 4,
  "vscode": {
   "interpreter": {
    "hash": "ad2bdc8ecc057115af97d19610ffacc2b4e99fae6737bb82f5d7fb13d2f2c186"
   }
  }
 },
 "nbformat": 4,
 "nbformat_minor": 2
}
