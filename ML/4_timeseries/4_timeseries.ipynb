{
 "cells": [
  {
   "cell_type": "markdown",
   "metadata": {},
   "source": [
    "## Time Series Data\n",
    "- 우리가 만지는 대부분의 데이터는 시계열 데이터\n",
    "- \"시간\"에 특화된 기능이 필요함\n",
    "\n",
    "### Time seies in Pandas\n",
    "- 시간에 특화된 Groupby 기능이 필요함 (예 : 데이터중 주말 통계만 필요함)\n",
    "- Time lag 또는 Moving Average는 계산?\n",
    "* 예)현재 7시 일때, 3시부터 현재까지의 기온이라든지 하는 그 시간 간의 정보의 차이 \n",
    "- Pandas에는 이에 특화된 기능을 제공함"
   ]
  },
  {
   "cell_type": "markdown",
   "metadata": {},
   "source": [
    "### Datetime index\n",
    "- Python의 Datetime모듈\n",
    "- 파이썬은 날짜 데이터 처리를 위해 datetime 모듈을 활용"
   ]
  },
  {
   "cell_type": "code",
   "execution_count": 28,
   "metadata": {},
   "outputs": [
    {
     "name": "stdout",
     "output_type": "stream",
     "text": [
      "<class 'datetime.date'>\n",
      "2018-09-19\n"
     ]
    }
   ],
   "source": [
    "from datetime import datetime\n",
    "date_str = '2018/09/19'\n",
    "\n",
    "# 위에서 어떤 형태로 정의하든 아래에서 형식만 잘 맞춰주면 된다.\n",
    "date_object = datetime.strptime(date_str, '%Y/%m/%d').date()\n",
    "print(type(date_object))\n",
    "print(date_object)"
   ]
  },
  {
   "cell_type": "code",
   "execution_count": 29,
   "metadata": {},
   "outputs": [
    {
     "data": {
      "text/plain": [
       "19"
      ]
     },
     "execution_count": 29,
     "metadata": {},
     "output_type": "execute_result"
    }
   ],
   "source": [
    "# day만 따로 확인\n",
    "date_object.day"
   ]
  },
  {
   "cell_type": "code",
   "execution_count": 30,
   "metadata": {},
   "outputs": [
    {
     "data": {
      "text/plain": [
       "9"
      ]
     },
     "execution_count": 30,
     "metadata": {},
     "output_type": "execute_result"
    }
   ],
   "source": [
    "# month만 따로 확인\n",
    "date_object.month"
   ]
  },
  {
   "cell_type": "code",
   "execution_count": 31,
   "metadata": {},
   "outputs": [
    {
     "data": {
      "text/plain": [
       "datetime.timedelta(days=6)"
      ]
     },
     "execution_count": 31,
     "metadata": {},
     "output_type": "execute_result"
    }
   ],
   "source": [
    "date_str_1 = '180919'\n",
    "date_str_2 = '180925'\n",
    "\n",
    "date_object_1 = datetime.strptime(date_str_1, '%y%m%d').date()\n",
    "date_object_2 = datetime.strptime(date_str_2, '%y%m%d').date()\n",
    "\n",
    "# delta타입으로 두 날짜간의 차이도 확인가능\n",
    "date_object_2 - date_object_1"
   ]
  },
  {
   "cell_type": "code",
   "execution_count": 32,
   "metadata": {},
   "outputs": [
    {
     "name": "stdout",
     "output_type": "stream",
     "text": [
      "<class 'datetime.datetime'>\n",
      "2018-09-19 13:55:26\n"
     ]
    }
   ],
   "source": [
    "# 시간도 확인가능\n",
    "datetime_str = '09/19/18 13:55:26'\n",
    "datetime_object = datetime.strptime(datetime_str, '%m/%d/%y %H:%M:%S')\n",
    "\n",
    "print(type(datetime_object))\n",
    "print(datetime_object)"
   ]
  },
  {
   "cell_type": "markdown",
   "metadata": {},
   "source": [
    "#### DateTime Index 만들기\n",
    "- 대부분의 데이터는 str으로 되어있음\n",
    "-> 호출 후 DateTime index로 변환이 필요함"
   ]
  },
  {
   "cell_type": "code",
   "execution_count": 33,
   "metadata": {},
   "outputs": [],
   "source": [
    "import pandas as pd"
   ]
  },
  {
   "cell_type": "markdown",
   "metadata": {},
   "source": [
    "- 데이터 파일이 txt형식이고 불러들일 때 UnicodeDecodeError가 발생한다면 encoding=\"cp949\", sep=\"\\t\" 인자를 줘서 df로 읽을수 있게 불러들인다.\n",
    "- 거기에 .T로 transpose를 활용하거나 .reset_index()로 인덱스 정리를 활용할 수도 있다"
   ]
  },
  {
   "cell_type": "code",
   "execution_count": 34,
   "metadata": {},
   "outputs": [],
   "source": [
    "# date열의 데이터들이 양식이 통일안되어있을때, -로 잇고, 공백을 제거하고, 끝에\"-01\"을 붙이게끔\n",
    "# 이 함수는 예시일 뿐이고 원할 때 적당히 작성할 줄 알아야됨\n",
    "# def rename_date(x):\n",
    "#     return \"-\".join([value.strip() for value in x[:2]]) + \"-01\""
   ]
  },
  {
   "cell_type": "code",
   "execution_count": 35,
   "metadata": {},
   "outputs": [
    {
     "data": {
      "text/html": [
       "<div>\n",
       "<style scoped>\n",
       "    .dataframe tbody tr th:only-of-type {\n",
       "        vertical-align: middle;\n",
       "    }\n",
       "\n",
       "    .dataframe tbody tr th {\n",
       "        vertical-align: top;\n",
       "    }\n",
       "\n",
       "    .dataframe thead th {\n",
       "        text-align: right;\n",
       "    }\n",
       "</style>\n",
       "<table border=\"1\" class=\"dataframe\">\n",
       "  <thead>\n",
       "    <tr style=\"text-align: right;\">\n",
       "      <th></th>\n",
       "      <th>index</th>\n",
       "      <th>datetime</th>\n",
       "      <th>season</th>\n",
       "      <th>holiday</th>\n",
       "      <th>workingday</th>\n",
       "      <th>weather</th>\n",
       "      <th>temp</th>\n",
       "      <th>atemp</th>\n",
       "      <th>humidity</th>\n",
       "      <th>windspeed</th>\n",
       "      <th>casual</th>\n",
       "      <th>registered</th>\n",
       "      <th>count</th>\n",
       "    </tr>\n",
       "  </thead>\n",
       "  <tbody>\n",
       "    <tr>\n",
       "      <th>0</th>\n",
       "      <td>0</td>\n",
       "      <td>2011-01-01 00:00:00</td>\n",
       "      <td>1</td>\n",
       "      <td>0</td>\n",
       "      <td>0</td>\n",
       "      <td>1</td>\n",
       "      <td>9.84</td>\n",
       "      <td>14.395</td>\n",
       "      <td>81</td>\n",
       "      <td>0.0</td>\n",
       "      <td>3</td>\n",
       "      <td>13</td>\n",
       "      <td>16</td>\n",
       "    </tr>\n",
       "    <tr>\n",
       "      <th>1</th>\n",
       "      <td>1</td>\n",
       "      <td>2011-01-01 01:00:00</td>\n",
       "      <td>1</td>\n",
       "      <td>0</td>\n",
       "      <td>0</td>\n",
       "      <td>1</td>\n",
       "      <td>9.02</td>\n",
       "      <td>13.635</td>\n",
       "      <td>80</td>\n",
       "      <td>0.0</td>\n",
       "      <td>8</td>\n",
       "      <td>32</td>\n",
       "      <td>40</td>\n",
       "    </tr>\n",
       "    <tr>\n",
       "      <th>2</th>\n",
       "      <td>2</td>\n",
       "      <td>2011-01-01 02:00:00</td>\n",
       "      <td>1</td>\n",
       "      <td>0</td>\n",
       "      <td>0</td>\n",
       "      <td>1</td>\n",
       "      <td>9.02</td>\n",
       "      <td>13.635</td>\n",
       "      <td>80</td>\n",
       "      <td>0.0</td>\n",
       "      <td>5</td>\n",
       "      <td>27</td>\n",
       "      <td>32</td>\n",
       "    </tr>\n",
       "  </tbody>\n",
       "</table>\n",
       "</div>"
      ],
      "text/plain": [
       "   index             datetime  season  holiday  workingday  weather  temp  \\\n",
       "0      0  2011-01-01 00:00:00       1        0           0        1  9.84   \n",
       "1      1  2011-01-01 01:00:00       1        0           0        1  9.02   \n",
       "2      2  2011-01-01 02:00:00       1        0           0        1  9.02   \n",
       "\n",
       "    atemp  humidity  windspeed  casual  registered  count  \n",
       "0  14.395        81        0.0       3          13     16  \n",
       "1  13.635        80        0.0       8          32     40  \n",
       "2  13.635        80        0.0       5          27     32  "
      ]
     },
     "execution_count": 35,
     "metadata": {},
     "output_type": "execute_result"
    }
   ],
   "source": [
    "df = pd.read_csv(\"C:/Users/hyun/workspace/TIL/MachineLearning/0_references/bike_demand/train.csv\").reset_index()\n",
    "df.head(3)"
   ]
  },
  {
   "cell_type": "code",
   "execution_count": 36,
   "metadata": {},
   "outputs": [
    {
     "data": {
      "text/html": [
       "<div>\n",
       "<style scoped>\n",
       "    .dataframe tbody tr th:only-of-type {\n",
       "        vertical-align: middle;\n",
       "    }\n",
       "\n",
       "    .dataframe tbody tr th {\n",
       "        vertical-align: top;\n",
       "    }\n",
       "\n",
       "    .dataframe thead th {\n",
       "        text-align: right;\n",
       "    }\n",
       "</style>\n",
       "<table border=\"1\" class=\"dataframe\">\n",
       "  <thead>\n",
       "    <tr style=\"text-align: right;\">\n",
       "      <th></th>\n",
       "      <th>인덱스</th>\n",
       "      <th>date</th>\n",
       "      <th>계절</th>\n",
       "      <th>holiday</th>\n",
       "      <th>workingday</th>\n",
       "      <th>weather</th>\n",
       "      <th>temp</th>\n",
       "      <th>atemp</th>\n",
       "      <th>humidity</th>\n",
       "      <th>windspeed</th>\n",
       "      <th>casual</th>\n",
       "      <th>registered</th>\n",
       "      <th>count</th>\n",
       "    </tr>\n",
       "  </thead>\n",
       "  <tbody>\n",
       "    <tr>\n",
       "      <th>0</th>\n",
       "      <td>0</td>\n",
       "      <td>2011-01-01 00:00:00</td>\n",
       "      <td>1</td>\n",
       "      <td>0</td>\n",
       "      <td>0</td>\n",
       "      <td>1</td>\n",
       "      <td>9.84</td>\n",
       "      <td>14.395</td>\n",
       "      <td>81</td>\n",
       "      <td>0.0</td>\n",
       "      <td>3</td>\n",
       "      <td>13</td>\n",
       "      <td>16</td>\n",
       "    </tr>\n",
       "    <tr>\n",
       "      <th>1</th>\n",
       "      <td>1</td>\n",
       "      <td>2011-01-01 01:00:00</td>\n",
       "      <td>1</td>\n",
       "      <td>0</td>\n",
       "      <td>0</td>\n",
       "      <td>1</td>\n",
       "      <td>9.02</td>\n",
       "      <td>13.635</td>\n",
       "      <td>80</td>\n",
       "      <td>0.0</td>\n",
       "      <td>8</td>\n",
       "      <td>32</td>\n",
       "      <td>40</td>\n",
       "    </tr>\n",
       "    <tr>\n",
       "      <th>2</th>\n",
       "      <td>2</td>\n",
       "      <td>2011-01-01 02:00:00</td>\n",
       "      <td>1</td>\n",
       "      <td>0</td>\n",
       "      <td>0</td>\n",
       "      <td>1</td>\n",
       "      <td>9.02</td>\n",
       "      <td>13.635</td>\n",
       "      <td>80</td>\n",
       "      <td>0.0</td>\n",
       "      <td>5</td>\n",
       "      <td>27</td>\n",
       "      <td>32</td>\n",
       "    </tr>\n",
       "  </tbody>\n",
       "</table>\n",
       "</div>"
      ],
      "text/plain": [
       "   인덱스                 date  계절  holiday  workingday  weather  temp   atemp  \\\n",
       "0    0  2011-01-01 00:00:00   1        0           0        1  9.84  14.395   \n",
       "1    1  2011-01-01 01:00:00   1        0           0        1  9.02  13.635   \n",
       "2    2  2011-01-01 02:00:00   1        0           0        1  9.02  13.635   \n",
       "\n",
       "   humidity  windspeed  casual  registered  count  \n",
       "0        81        0.0       3          13     16  \n",
       "1        80        0.0       8          32     40  \n",
       "2        80        0.0       5          27     32  "
      ]
     },
     "execution_count": 36,
     "metadata": {},
     "output_type": "execute_result"
    }
   ],
   "source": [
    "# 열 이름 바꾸기\n",
    "df = df.rename(columns={\"index\":\"인덱스\", \"datetime\": \"date\", \"season\": \"계절\"})\n",
    "df.head(3)"
   ]
  },
  {
   "cell_type": "code",
   "execution_count": 37,
   "metadata": {},
   "outputs": [],
   "source": [
    "# 위에 정의한 함수대로 date열 형식 통일\n",
    "# df[\"date\"] = df[\"date\"].str.split(\".\").map(rename_date)\n",
    "# df"
   ]
  },
  {
   "cell_type": "markdown",
   "metadata": {},
   "source": [
    "#### date열의 type 변경"
   ]
  },
  {
   "cell_type": "code",
   "execution_count": 38,
   "metadata": {},
   "outputs": [
    {
     "data": {
      "text/plain": [
       "인덱스             int64\n",
       "date           object\n",
       "계절              int64\n",
       "holiday         int64\n",
       "workingday      int64\n",
       "weather         int64\n",
       "temp          float64\n",
       "atemp         float64\n",
       "humidity        int64\n",
       "windspeed     float64\n",
       "casual          int64\n",
       "registered      int64\n",
       "count           int64\n",
       "dtype: object"
      ]
     },
     "execution_count": 38,
     "metadata": {},
     "output_type": "execute_result"
    }
   ],
   "source": [
    "df.dtypes"
   ]
  },
  {
   "cell_type": "code",
   "execution_count": 39,
   "metadata": {},
   "outputs": [
    {
     "data": {
      "text/plain": [
       "0       2011-01-01 00:00:00\n",
       "1       2011-01-01 01:00:00\n",
       "2       2011-01-01 02:00:00\n",
       "3       2011-01-01 03:00:00\n",
       "4       2011-01-01 04:00:00\n",
       "                ...        \n",
       "10881   2012-12-19 19:00:00\n",
       "10882   2012-12-19 20:00:00\n",
       "10883   2012-12-19 21:00:00\n",
       "10884   2012-12-19 22:00:00\n",
       "10885   2012-12-19 23:00:00\n",
       "Name: date, Length: 10886, dtype: datetime64[ns]"
      ]
     },
     "execution_count": 39,
     "metadata": {},
     "output_type": "execute_result"
    }
   ],
   "source": [
    "pd.to_datetime(df[\"date\"], format='%Y-%m-%d')"
   ]
  },
  {
   "cell_type": "code",
   "execution_count": 40,
   "metadata": {},
   "outputs": [
    {
     "data": {
      "text/html": [
       "<div>\n",
       "<style scoped>\n",
       "    .dataframe tbody tr th:only-of-type {\n",
       "        vertical-align: middle;\n",
       "    }\n",
       "\n",
       "    .dataframe tbody tr th {\n",
       "        vertical-align: top;\n",
       "    }\n",
       "\n",
       "    .dataframe thead th {\n",
       "        text-align: right;\n",
       "    }\n",
       "</style>\n",
       "<table border=\"1\" class=\"dataframe\">\n",
       "  <thead>\n",
       "    <tr style=\"text-align: right;\">\n",
       "      <th>계절</th>\n",
       "      <th>1.0</th>\n",
       "      <th>2.0</th>\n",
       "      <th>3.0</th>\n",
       "      <th>4.0</th>\n",
       "    </tr>\n",
       "    <tr>\n",
       "      <th>row_0</th>\n",
       "      <th></th>\n",
       "      <th></th>\n",
       "      <th></th>\n",
       "      <th></th>\n",
       "    </tr>\n",
       "  </thead>\n",
       "  <tbody>\n",
       "    <tr>\n",
       "      <th>2011-01-01 00:00:00</th>\n",
       "      <td>81.0</td>\n",
       "      <td>NaN</td>\n",
       "      <td>NaN</td>\n",
       "      <td>NaN</td>\n",
       "    </tr>\n",
       "    <tr>\n",
       "      <th>2011-01-01 01:00:00</th>\n",
       "      <td>80.0</td>\n",
       "      <td>NaN</td>\n",
       "      <td>NaN</td>\n",
       "      <td>NaN</td>\n",
       "    </tr>\n",
       "    <tr>\n",
       "      <th>2011-01-01 02:00:00</th>\n",
       "      <td>80.0</td>\n",
       "      <td>NaN</td>\n",
       "      <td>NaN</td>\n",
       "      <td>NaN</td>\n",
       "    </tr>\n",
       "    <tr>\n",
       "      <th>2011-01-01 03:00:00</th>\n",
       "      <td>75.0</td>\n",
       "      <td>NaN</td>\n",
       "      <td>NaN</td>\n",
       "      <td>NaN</td>\n",
       "    </tr>\n",
       "    <tr>\n",
       "      <th>2011-01-01 04:00:00</th>\n",
       "      <td>75.0</td>\n",
       "      <td>NaN</td>\n",
       "      <td>NaN</td>\n",
       "      <td>NaN</td>\n",
       "    </tr>\n",
       "    <tr>\n",
       "      <th>...</th>\n",
       "      <td>...</td>\n",
       "      <td>...</td>\n",
       "      <td>...</td>\n",
       "      <td>...</td>\n",
       "    </tr>\n",
       "    <tr>\n",
       "      <th>2012-12-19 19:00:00</th>\n",
       "      <td>NaN</td>\n",
       "      <td>NaN</td>\n",
       "      <td>NaN</td>\n",
       "      <td>50.0</td>\n",
       "    </tr>\n",
       "    <tr>\n",
       "      <th>2012-12-19 20:00:00</th>\n",
       "      <td>NaN</td>\n",
       "      <td>NaN</td>\n",
       "      <td>NaN</td>\n",
       "      <td>57.0</td>\n",
       "    </tr>\n",
       "    <tr>\n",
       "      <th>2012-12-19 21:00:00</th>\n",
       "      <td>NaN</td>\n",
       "      <td>NaN</td>\n",
       "      <td>NaN</td>\n",
       "      <td>61.0</td>\n",
       "    </tr>\n",
       "    <tr>\n",
       "      <th>2012-12-19 22:00:00</th>\n",
       "      <td>NaN</td>\n",
       "      <td>NaN</td>\n",
       "      <td>NaN</td>\n",
       "      <td>61.0</td>\n",
       "    </tr>\n",
       "    <tr>\n",
       "      <th>2012-12-19 23:00:00</th>\n",
       "      <td>NaN</td>\n",
       "      <td>NaN</td>\n",
       "      <td>NaN</td>\n",
       "      <td>66.0</td>\n",
       "    </tr>\n",
       "  </tbody>\n",
       "</table>\n",
       "<p>10886 rows × 4 columns</p>\n",
       "</div>"
      ],
      "text/plain": [
       "계절                    1.0  2.0  3.0   4.0\n",
       "row_0                                    \n",
       "2011-01-01 00:00:00  81.0  NaN  NaN   NaN\n",
       "2011-01-01 01:00:00  80.0  NaN  NaN   NaN\n",
       "2011-01-01 02:00:00  80.0  NaN  NaN   NaN\n",
       "2011-01-01 03:00:00  75.0  NaN  NaN   NaN\n",
       "2011-01-01 04:00:00  75.0  NaN  NaN   NaN\n",
       "...                   ...  ...  ...   ...\n",
       "2012-12-19 19:00:00   NaN  NaN  NaN  50.0\n",
       "2012-12-19 20:00:00   NaN  NaN  NaN  57.0\n",
       "2012-12-19 21:00:00   NaN  NaN  NaN  61.0\n",
       "2012-12-19 22:00:00   NaN  NaN  NaN  61.0\n",
       "2012-12-19 23:00:00   NaN  NaN  NaN  66.0\n",
       "\n",
       "[10886 rows x 4 columns]"
      ]
     },
     "execution_count": 40,
     "metadata": {},
     "output_type": "execute_result"
    }
   ],
   "source": [
    "# 다른 열의 타입을 변환시켜가며 또 다른 형태로도 의미를 가지는 df만들수 있다.\n",
    "df[\"humidity\"] = df[\"humidity\"].astype(float)\n",
    "df[\"계절\"] = df[\"계절\"].astype(float)\n",
    "df = df.set_index(\"date\")\n",
    "pd.crosstab(df.index, df[\"계절\"],df[\"humidity\"], aggfunc=sum)\n"
   ]
  },
  {
   "cell_type": "markdown",
   "metadata": {},
   "source": [
    "### Resampling\n",
    "- 시간 기준으로 데이터를 Aggregation할 수 있음\n",
    "- Groupby와 유사 -> 훨씬 간단하고 다양한 기능 제공"
   ]
  },
  {
   "cell_type": "markdown",
   "metadata": {},
   "source": [
    "#### bike_demand data로 실습해보기"
   ]
  },
  {
   "cell_type": "code",
   "execution_count": 41,
   "metadata": {},
   "outputs": [],
   "source": [
    "import os"
   ]
  },
  {
   "cell_type": "code",
   "execution_count": 42,
   "metadata": {},
   "outputs": [],
   "source": [
    "DATA_DIR = \"0_references/bike_demand\"\n",
    "TRAIN_PATH = os.path.join(DATA_DIR, \"train.csv\")"
   ]
  },
  {
   "cell_type": "code",
   "execution_count": 52,
   "metadata": {},
   "outputs": [
    {
     "name": "stdout",
     "output_type": "stream",
     "text": [
      "datetime      datetime64[ns]\n",
      "season                 int64\n",
      "holiday                int64\n",
      "workingday             int64\n",
      "weather                int64\n",
      "temp                 float64\n",
      "atemp                float64\n",
      "humidity               int64\n",
      "windspeed            float64\n",
      "casual                 int64\n",
      "registered             int64\n",
      "count                  int64\n",
      "dtype: object\n"
     ]
    },
    {
     "data": {
      "text/html": [
       "<div>\n",
       "<style scoped>\n",
       "    .dataframe tbody tr th:only-of-type {\n",
       "        vertical-align: middle;\n",
       "    }\n",
       "\n",
       "    .dataframe tbody tr th {\n",
       "        vertical-align: top;\n",
       "    }\n",
       "\n",
       "    .dataframe thead th {\n",
       "        text-align: right;\n",
       "    }\n",
       "</style>\n",
       "<table border=\"1\" class=\"dataframe\">\n",
       "  <thead>\n",
       "    <tr style=\"text-align: right;\">\n",
       "      <th></th>\n",
       "      <th>datetime</th>\n",
       "      <th>season</th>\n",
       "      <th>holiday</th>\n",
       "      <th>workingday</th>\n",
       "      <th>weather</th>\n",
       "      <th>temp</th>\n",
       "      <th>atemp</th>\n",
       "      <th>humidity</th>\n",
       "      <th>windspeed</th>\n",
       "      <th>casual</th>\n",
       "      <th>registered</th>\n",
       "      <th>count</th>\n",
       "    </tr>\n",
       "  </thead>\n",
       "  <tbody>\n",
       "    <tr>\n",
       "      <th>0</th>\n",
       "      <td>2011-01-01 00:00:00</td>\n",
       "      <td>1</td>\n",
       "      <td>0</td>\n",
       "      <td>0</td>\n",
       "      <td>1</td>\n",
       "      <td>9.84</td>\n",
       "      <td>14.395</td>\n",
       "      <td>81</td>\n",
       "      <td>0.0</td>\n",
       "      <td>3</td>\n",
       "      <td>13</td>\n",
       "      <td>16</td>\n",
       "    </tr>\n",
       "    <tr>\n",
       "      <th>1</th>\n",
       "      <td>2011-01-01 01:00:00</td>\n",
       "      <td>1</td>\n",
       "      <td>0</td>\n",
       "      <td>0</td>\n",
       "      <td>1</td>\n",
       "      <td>9.02</td>\n",
       "      <td>13.635</td>\n",
       "      <td>80</td>\n",
       "      <td>0.0</td>\n",
       "      <td>8</td>\n",
       "      <td>32</td>\n",
       "      <td>40</td>\n",
       "    </tr>\n",
       "    <tr>\n",
       "      <th>2</th>\n",
       "      <td>2011-01-01 02:00:00</td>\n",
       "      <td>1</td>\n",
       "      <td>0</td>\n",
       "      <td>0</td>\n",
       "      <td>1</td>\n",
       "      <td>9.02</td>\n",
       "      <td>13.635</td>\n",
       "      <td>80</td>\n",
       "      <td>0.0</td>\n",
       "      <td>5</td>\n",
       "      <td>27</td>\n",
       "      <td>32</td>\n",
       "    </tr>\n",
       "  </tbody>\n",
       "</table>\n",
       "</div>"
      ],
      "text/plain": [
       "             datetime  season  holiday  workingday  weather  temp   atemp  \\\n",
       "0 2011-01-01 00:00:00       1        0           0        1  9.84  14.395   \n",
       "1 2011-01-01 01:00:00       1        0           0        1  9.02  13.635   \n",
       "2 2011-01-01 02:00:00       1        0           0        1  9.02  13.635   \n",
       "\n",
       "   humidity  windspeed  casual  registered  count  \n",
       "0        81        0.0       3          13     16  \n",
       "1        80        0.0       8          32     40  \n",
       "2        80        0.0       5          27     32  "
      ]
     },
     "execution_count": 52,
     "metadata": {},
     "output_type": "execute_result"
    }
   ],
   "source": [
    "# parse_dates하면 []안의 피쳐의 type이 date로 바뀜\n",
    "df = pd.read_csv(TRAIN_PATH, parse_dates=[\"datetime\"])\n",
    "print(df.dtypes)\n",
    "df.head(3)"
   ]
  },
  {
   "cell_type": "markdown",
   "metadata": {},
   "source": [
    "##### 월별 자전거 수요량 확인"
   ]
  },
  {
   "cell_type": "markdown",
   "metadata": {},
   "source": [
    "##### 방법1. groupby활용\n",
    "- 1. df에 datetime을 set_index로 해서 index로 지정한다\n",
    "- 2. 거기서 df.index.year로 하든 df.index.month로 하든 따로 떼준다.\n",
    "- 3. groupby로 월별 대여횟수의 합 구해준다"
   ]
  },
  {
   "cell_type": "code",
   "execution_count": 53,
   "metadata": {},
   "outputs": [
    {
     "data": {
      "text/html": [
       "<div>\n",
       "<style scoped>\n",
       "    .dataframe tbody tr th:only-of-type {\n",
       "        vertical-align: middle;\n",
       "    }\n",
       "\n",
       "    .dataframe tbody tr th {\n",
       "        vertical-align: top;\n",
       "    }\n",
       "\n",
       "    .dataframe thead th {\n",
       "        text-align: right;\n",
       "    }\n",
       "</style>\n",
       "<table border=\"1\" class=\"dataframe\">\n",
       "  <thead>\n",
       "    <tr style=\"text-align: right;\">\n",
       "      <th></th>\n",
       "      <th>year</th>\n",
       "      <th>month</th>\n",
       "      <th>count</th>\n",
       "    </tr>\n",
       "  </thead>\n",
       "  <tbody>\n",
       "    <tr>\n",
       "      <th>0</th>\n",
       "      <td>2011</td>\n",
       "      <td>1</td>\n",
       "      <td>23552</td>\n",
       "    </tr>\n",
       "    <tr>\n",
       "      <th>1</th>\n",
       "      <td>2011</td>\n",
       "      <td>2</td>\n",
       "      <td>32844</td>\n",
       "    </tr>\n",
       "    <tr>\n",
       "      <th>2</th>\n",
       "      <td>2011</td>\n",
       "      <td>3</td>\n",
       "      <td>38735</td>\n",
       "    </tr>\n",
       "    <tr>\n",
       "      <th>3</th>\n",
       "      <td>2011</td>\n",
       "      <td>4</td>\n",
       "      <td>50517</td>\n",
       "    </tr>\n",
       "    <tr>\n",
       "      <th>4</th>\n",
       "      <td>2011</td>\n",
       "      <td>5</td>\n",
       "      <td>79713</td>\n",
       "    </tr>\n",
       "    <tr>\n",
       "      <th>5</th>\n",
       "      <td>2011</td>\n",
       "      <td>6</td>\n",
       "      <td>89776</td>\n",
       "    </tr>\n",
       "    <tr>\n",
       "      <th>6</th>\n",
       "      <td>2011</td>\n",
       "      <td>7</td>\n",
       "      <td>92848</td>\n",
       "    </tr>\n",
       "    <tr>\n",
       "      <th>7</th>\n",
       "      <td>2011</td>\n",
       "      <td>8</td>\n",
       "      <td>83296</td>\n",
       "    </tr>\n",
       "    <tr>\n",
       "      <th>8</th>\n",
       "      <td>2011</td>\n",
       "      <td>9</td>\n",
       "      <td>79104</td>\n",
       "    </tr>\n",
       "    <tr>\n",
       "      <th>9</th>\n",
       "      <td>2011</td>\n",
       "      <td>10</td>\n",
       "      <td>79522</td>\n",
       "    </tr>\n",
       "    <tr>\n",
       "      <th>10</th>\n",
       "      <td>2011</td>\n",
       "      <td>11</td>\n",
       "      <td>70889</td>\n",
       "    </tr>\n",
       "    <tr>\n",
       "      <th>11</th>\n",
       "      <td>2011</td>\n",
       "      <td>12</td>\n",
       "      <td>61183</td>\n",
       "    </tr>\n",
       "    <tr>\n",
       "      <th>12</th>\n",
       "      <td>2012</td>\n",
       "      <td>1</td>\n",
       "      <td>56332</td>\n",
       "    </tr>\n",
       "    <tr>\n",
       "      <th>13</th>\n",
       "      <td>2012</td>\n",
       "      <td>2</td>\n",
       "      <td>66269</td>\n",
       "    </tr>\n",
       "    <tr>\n",
       "      <th>14</th>\n",
       "      <td>2012</td>\n",
       "      <td>3</td>\n",
       "      <td>94766</td>\n",
       "    </tr>\n",
       "    <tr>\n",
       "      <th>15</th>\n",
       "      <td>2012</td>\n",
       "      <td>4</td>\n",
       "      <td>116885</td>\n",
       "    </tr>\n",
       "    <tr>\n",
       "      <th>16</th>\n",
       "      <td>2012</td>\n",
       "      <td>5</td>\n",
       "      <td>120434</td>\n",
       "    </tr>\n",
       "    <tr>\n",
       "      <th>17</th>\n",
       "      <td>2012</td>\n",
       "      <td>6</td>\n",
       "      <td>130957</td>\n",
       "    </tr>\n",
       "    <tr>\n",
       "      <th>18</th>\n",
       "      <td>2012</td>\n",
       "      <td>7</td>\n",
       "      <td>121769</td>\n",
       "    </tr>\n",
       "    <tr>\n",
       "      <th>19</th>\n",
       "      <td>2012</td>\n",
       "      <td>8</td>\n",
       "      <td>130220</td>\n",
       "    </tr>\n",
       "    <tr>\n",
       "      <th>20</th>\n",
       "      <td>2012</td>\n",
       "      <td>9</td>\n",
       "      <td>133425</td>\n",
       "    </tr>\n",
       "    <tr>\n",
       "      <th>21</th>\n",
       "      <td>2012</td>\n",
       "      <td>10</td>\n",
       "      <td>127912</td>\n",
       "    </tr>\n",
       "    <tr>\n",
       "      <th>22</th>\n",
       "      <td>2012</td>\n",
       "      <td>11</td>\n",
       "      <td>105551</td>\n",
       "    </tr>\n",
       "    <tr>\n",
       "      <th>23</th>\n",
       "      <td>2012</td>\n",
       "      <td>12</td>\n",
       "      <td>98977</td>\n",
       "    </tr>\n",
       "  </tbody>\n",
       "</table>\n",
       "</div>"
      ],
      "text/plain": [
       "    year  month   count\n",
       "0   2011      1   23552\n",
       "1   2011      2   32844\n",
       "2   2011      3   38735\n",
       "3   2011      4   50517\n",
       "4   2011      5   79713\n",
       "5   2011      6   89776\n",
       "6   2011      7   92848\n",
       "7   2011      8   83296\n",
       "8   2011      9   79104\n",
       "9   2011     10   79522\n",
       "10  2011     11   70889\n",
       "11  2011     12   61183\n",
       "12  2012      1   56332\n",
       "13  2012      2   66269\n",
       "14  2012      3   94766\n",
       "15  2012      4  116885\n",
       "16  2012      5  120434\n",
       "17  2012      6  130957\n",
       "18  2012      7  121769\n",
       "19  2012      8  130220\n",
       "20  2012      9  133425\n",
       "21  2012     10  127912\n",
       "22  2012     11  105551\n",
       "23  2012     12   98977"
      ]
     },
     "execution_count": 53,
     "metadata": {},
     "output_type": "execute_result"
    }
   ],
   "source": [
    "# set_index 한번 하면 바로 할당되니 주석처리 해줬음(반복 실행하면 에러나서)\n",
    "df = df.set_index(\"datetime\")\n",
    "\n",
    "# month, year열 생성\n",
    "df[\"month\"] = df.index.month\n",
    "df[\"year\"] = df.index.year\n",
    "\n",
    "# groupby로 대여횟수 sum해서 출력\n",
    "# 끝에 reset_index해주면 이 데이터만 따로 프레임화 시켜서 핸들링\n",
    "df.groupby([\"year\",\"month\"])[\"count\"].sum().reset_index()"
   ]
  },
  {
   "cell_type": "markdown",
   "metadata": {},
   "source": [
    "##### 방법2. (훨씬 간편) resampling활용, 쿼터(분기)별로 확인\n"
   ]
  },
  {
   "cell_type": "code",
   "execution_count": null,
   "metadata": {},
   "outputs": [
    {
     "data": {
      "text/plain": [
       "<AxesSubplot:xlabel='datetime'>"
      ]
     },
     "execution_count": 36,
     "metadata": {},
     "output_type": "execute_result"
    },
    {
     "data": {
      "image/png": "[encoded data removed]",
      "text/plain": [
       "<Figure size 432x288 with 1 Axes>"
      ]
     },
     "metadata": {
      "needs_background": "light"
     },
     "output_type": "display_data"
    }
   ],
   "source": [
    "# resample()안에 \"D\" : 하루별,  Q : 쿼터별(분기)  W : 주단위  D : 월단위\n",
    "# https://pandas.pydata.org/docs/user_guide/timeseries.html?highlight=time의 Time/date components부분참고\n",
    "df[\"count\"].resample(\"D\").sum().plot()"
   ]
  },
  {
   "cell_type": "markdown",
   "metadata": {},
   "source": [
    "#### Resmapling - Filtering\n",
    "- somrthing_range 함수로 기간 생성 : Filter 지정 (그 기간의 data만 뽑힘)\n",
    "- DatetimeIndex,timedelta_range,period_range,interval_range 등등"
   ]
  },
  {
   "cell_type": "code",
   "execution_count": null,
   "metadata": {},
   "outputs": [
    {
     "data": {
      "text/plain": [
       "2011-01-31    23552\n",
       "2011-02-28    32844\n",
       "2011-03-31    38735\n",
       "2011-04-30    50517\n",
       "2011-05-31    79713\n",
       "2011-06-30    89776\n",
       "2011-07-31    92848\n",
       "2011-08-31    83296\n",
       "2011-09-30    79104\n",
       "2011-10-31    79522\n",
       "2011-11-30    70889\n",
       "2011-12-31    61183\n",
       "Freq: M, Name: count, dtype: int64"
      ]
     },
     "execution_count": 38,
     "metadata": {},
     "output_type": "execute_result"
    }
   ],
   "source": [
    "# 필터링할 때는 주로 기간을 지정해주는 식\n",
    "# freq : 얼마의 기간마다 출력할지\n",
    "period = pd.date_range(start = \"2011-01-01\", end = \"2012-01-30\", freq = \"M\")\n",
    "\n",
    "# 이렇게도 할 수 있음, period로 필터링하는 횟수 정해버림\n",
    "# period = pd.date_range(start = \"2011-01-01\", period = 12,  freq = \"M\")\n",
    "df[\"count\"].resample(\"M\").sum()[period]"
   ]
  },
  {
   "cell_type": "markdown",
   "metadata": {},
   "source": [
    "##### 요일별로 대여횟수의 평균은 ?"
   ]
  },
  {
   "cell_type": "code",
   "execution_count": null,
   "metadata": {},
   "outputs": [
    {
     "data": {
      "text/plain": [
       "<AxesSubplot:xlabel='dayofweek'>"
      ]
     },
     "execution_count": 41,
     "metadata": {},
     "output_type": "execute_result"
    },
    {
     "data": {
      "image/png": "[encoded data removed]",
      "text/plain": [
       "<Figure size 432x288 with 1 Axes>"
      ]
     },
     "metadata": {
      "needs_background": "light"
     },
     "output_type": "display_data"
    }
   ],
   "source": [
    "df[\"dayofweek\"] = df.index.dayofweek\n",
    "df.groupby(\"dayofweek\")[\"count\"].mean().plot()"
   ]
  },
  {
   "cell_type": "markdown",
   "metadata": {},
   "source": [
    "#### Time shifting\n",
    "- 시간의 차(Time Lag)분석 필요\n",
    "- 예) 30일 전에 비해 주가는 상승세인가 ? (30일 전의 data가 현재에 얼마나 영향을 주는가 ?)\n",
    "- Pandas내 Time shifting 기능으로 time window를 기준으로 기간간 차이\n",
    "* time window : 5일, 5분 등 시간의 구간"
   ]
  },
  {
   "cell_type": "code",
   "execution_count": null,
   "metadata": {},
   "outputs": [
    {
     "data": {
      "text/plain": [
       "datetime\n",
       "2011-01-31    54.645012\n",
       "2011-02-28    73.641256\n",
       "2011-03-31    86.849776\n",
       "Freq: M, Name: count, dtype: float64"
      ]
     },
     "execution_count": 43,
     "metadata": {},
     "output_type": "execute_result"
    }
   ],
   "source": [
    "montly_avg = df[\"count\"].resample(\"M\").mean()\n",
    "montly_avg.head(3)"
   ]
  },
  {
   "cell_type": "code",
   "execution_count": null,
   "metadata": {},
   "outputs": [
    {
     "data": {
      "text/plain": [
       "datetime\n",
       "2011-01-31      0.000000\n",
       "2011-02-28      0.000000\n",
       "2011-03-31     54.645012\n",
       "2011-04-30     73.641256\n",
       "2011-05-31     86.849776\n",
       "2011-06-30    111.026374\n",
       "2011-07-31    174.809211\n",
       "2011-08-31    196.877193\n",
       "2011-09-30    203.614035\n",
       "2011-10-31    182.666667\n",
       "2011-11-30    174.622517\n",
       "2011-12-31    174.773626\n",
       "2012-01-31    155.458333\n",
       "2012-02-29    134.173246\n",
       "2012-03-31    124.353201\n",
       "2012-04-30    145.646154\n",
       "2012-05-31    208.276923\n",
       "2012-06-30    257.455947\n",
       "2012-07-31    264.109649\n",
       "2012-08-31    287.186404\n",
       "2012-09-30    267.037281\n",
       "2012-10-31    285.570175\n",
       "2012-11-30    292.598684\n",
       "2012-12-31    280.508772\n",
       "Freq: M, Name: count, dtype: float64"
      ]
     },
     "execution_count": 48,
     "metadata": {},
     "output_type": "execute_result"
    }
   ],
   "source": [
    "# shift라는 함수로 구간 이동\n",
    "# period=2니까 두칸씩 뒤로 밀어라 라는뜻(1월께 3월결과로 밀림)\n",
    "montly_avg.shift(periods=2, fill_value=0) "
   ]
  },
  {
   "cell_type": "code",
   "execution_count": null,
   "metadata": {},
   "outputs": [],
   "source": [
    "# 기간별 주는 영향을 알고싶을 때 \n",
    "result = []\n",
    "montly_avg = df[\"count\"].resample(\"M\").mean()\n",
    "# 1달~5달 차이까지\n",
    "for period in range(1,6):\n",
    "    temp_avg = montly_avg.shift(periods=period, fill_value=0)\n",
    "    temp_avg = temp_avg.rename(\"{}_monthly_shift\".format(period))\n",
    "    result.append(temp_avg)"
   ]
  },
  {
   "cell_type": "code",
   "execution_count": null,
   "metadata": {},
   "outputs": [
    {
     "data": {
      "text/html": [
       "<div>\n",
       "<style scoped>\n",
       "    .dataframe tbody tr th:only-of-type {\n",
       "        vertical-align: middle;\n",
       "    }\n",
       "\n",
       "    .dataframe tbody tr th {\n",
       "        vertical-align: top;\n",
       "    }\n",
       "\n",
       "    .dataframe thead th {\n",
       "        text-align: right;\n",
       "    }\n",
       "</style>\n",
       "<table border=\"1\" class=\"dataframe\">\n",
       "  <thead>\n",
       "    <tr style=\"text-align: right;\">\n",
       "      <th></th>\n",
       "      <th>1_monthly_shift</th>\n",
       "      <th>2_monthly_shift</th>\n",
       "      <th>3_monthly_shift</th>\n",
       "      <th>4_monthly_shift</th>\n",
       "      <th>5_monthly_shift</th>\n",
       "    </tr>\n",
       "    <tr>\n",
       "      <th>datetime</th>\n",
       "      <th></th>\n",
       "      <th></th>\n",
       "      <th></th>\n",
       "      <th></th>\n",
       "      <th></th>\n",
       "    </tr>\n",
       "  </thead>\n",
       "  <tbody>\n",
       "    <tr>\n",
       "      <th>2011-01-31</th>\n",
       "      <td>0.000000</td>\n",
       "      <td>0.000000</td>\n",
       "      <td>0.000000</td>\n",
       "      <td>0.000000</td>\n",
       "      <td>0.000000</td>\n",
       "    </tr>\n",
       "    <tr>\n",
       "      <th>2011-02-28</th>\n",
       "      <td>54.645012</td>\n",
       "      <td>0.000000</td>\n",
       "      <td>0.000000</td>\n",
       "      <td>0.000000</td>\n",
       "      <td>0.000000</td>\n",
       "    </tr>\n",
       "    <tr>\n",
       "      <th>2011-03-31</th>\n",
       "      <td>73.641256</td>\n",
       "      <td>54.645012</td>\n",
       "      <td>0.000000</td>\n",
       "      <td>0.000000</td>\n",
       "      <td>0.000000</td>\n",
       "    </tr>\n",
       "    <tr>\n",
       "      <th>2011-04-30</th>\n",
       "      <td>86.849776</td>\n",
       "      <td>73.641256</td>\n",
       "      <td>54.645012</td>\n",
       "      <td>0.000000</td>\n",
       "      <td>0.000000</td>\n",
       "    </tr>\n",
       "    <tr>\n",
       "      <th>2011-05-31</th>\n",
       "      <td>111.026374</td>\n",
       "      <td>86.849776</td>\n",
       "      <td>73.641256</td>\n",
       "      <td>54.645012</td>\n",
       "      <td>0.000000</td>\n",
       "    </tr>\n",
       "    <tr>\n",
       "      <th>2011-06-30</th>\n",
       "      <td>174.809211</td>\n",
       "      <td>111.026374</td>\n",
       "      <td>86.849776</td>\n",
       "      <td>73.641256</td>\n",
       "      <td>54.645012</td>\n",
       "    </tr>\n",
       "    <tr>\n",
       "      <th>2011-07-31</th>\n",
       "      <td>196.877193</td>\n",
       "      <td>174.809211</td>\n",
       "      <td>111.026374</td>\n",
       "      <td>86.849776</td>\n",
       "      <td>73.641256</td>\n",
       "    </tr>\n",
       "    <tr>\n",
       "      <th>2011-08-31</th>\n",
       "      <td>203.614035</td>\n",
       "      <td>196.877193</td>\n",
       "      <td>174.809211</td>\n",
       "      <td>111.026374</td>\n",
       "      <td>86.849776</td>\n",
       "    </tr>\n",
       "    <tr>\n",
       "      <th>2011-09-30</th>\n",
       "      <td>182.666667</td>\n",
       "      <td>203.614035</td>\n",
       "      <td>196.877193</td>\n",
       "      <td>174.809211</td>\n",
       "      <td>111.026374</td>\n",
       "    </tr>\n",
       "    <tr>\n",
       "      <th>2011-10-31</th>\n",
       "      <td>174.622517</td>\n",
       "      <td>182.666667</td>\n",
       "      <td>203.614035</td>\n",
       "      <td>196.877193</td>\n",
       "      <td>174.809211</td>\n",
       "    </tr>\n",
       "    <tr>\n",
       "      <th>2011-11-30</th>\n",
       "      <td>174.773626</td>\n",
       "      <td>174.622517</td>\n",
       "      <td>182.666667</td>\n",
       "      <td>203.614035</td>\n",
       "      <td>196.877193</td>\n",
       "    </tr>\n",
       "    <tr>\n",
       "      <th>2011-12-31</th>\n",
       "      <td>155.458333</td>\n",
       "      <td>174.773626</td>\n",
       "      <td>174.622517</td>\n",
       "      <td>182.666667</td>\n",
       "      <td>203.614035</td>\n",
       "    </tr>\n",
       "    <tr>\n",
       "      <th>2012-01-31</th>\n",
       "      <td>134.173246</td>\n",
       "      <td>155.458333</td>\n",
       "      <td>174.773626</td>\n",
       "      <td>174.622517</td>\n",
       "      <td>182.666667</td>\n",
       "    </tr>\n",
       "    <tr>\n",
       "      <th>2012-02-29</th>\n",
       "      <td>124.353201</td>\n",
       "      <td>134.173246</td>\n",
       "      <td>155.458333</td>\n",
       "      <td>174.773626</td>\n",
       "      <td>174.622517</td>\n",
       "    </tr>\n",
       "    <tr>\n",
       "      <th>2012-03-31</th>\n",
       "      <td>145.646154</td>\n",
       "      <td>124.353201</td>\n",
       "      <td>134.173246</td>\n",
       "      <td>155.458333</td>\n",
       "      <td>174.773626</td>\n",
       "    </tr>\n",
       "    <tr>\n",
       "      <th>2012-04-30</th>\n",
       "      <td>208.276923</td>\n",
       "      <td>145.646154</td>\n",
       "      <td>124.353201</td>\n",
       "      <td>134.173246</td>\n",
       "      <td>155.458333</td>\n",
       "    </tr>\n",
       "    <tr>\n",
       "      <th>2012-05-31</th>\n",
       "      <td>257.455947</td>\n",
       "      <td>208.276923</td>\n",
       "      <td>145.646154</td>\n",
       "      <td>124.353201</td>\n",
       "      <td>134.173246</td>\n",
       "    </tr>\n",
       "    <tr>\n",
       "      <th>2012-06-30</th>\n",
       "      <td>264.109649</td>\n",
       "      <td>257.455947</td>\n",
       "      <td>208.276923</td>\n",
       "      <td>145.646154</td>\n",
       "      <td>124.353201</td>\n",
       "    </tr>\n",
       "    <tr>\n",
       "      <th>2012-07-31</th>\n",
       "      <td>287.186404</td>\n",
       "      <td>264.109649</td>\n",
       "      <td>257.455947</td>\n",
       "      <td>208.276923</td>\n",
       "      <td>145.646154</td>\n",
       "    </tr>\n",
       "    <tr>\n",
       "      <th>2012-08-31</th>\n",
       "      <td>267.037281</td>\n",
       "      <td>287.186404</td>\n",
       "      <td>264.109649</td>\n",
       "      <td>257.455947</td>\n",
       "      <td>208.276923</td>\n",
       "    </tr>\n",
       "    <tr>\n",
       "      <th>2012-09-30</th>\n",
       "      <td>285.570175</td>\n",
       "      <td>267.037281</td>\n",
       "      <td>287.186404</td>\n",
       "      <td>264.109649</td>\n",
       "      <td>257.455947</td>\n",
       "    </tr>\n",
       "    <tr>\n",
       "      <th>2012-10-31</th>\n",
       "      <td>292.598684</td>\n",
       "      <td>285.570175</td>\n",
       "      <td>267.037281</td>\n",
       "      <td>287.186404</td>\n",
       "      <td>264.109649</td>\n",
       "    </tr>\n",
       "    <tr>\n",
       "      <th>2012-11-30</th>\n",
       "      <td>280.508772</td>\n",
       "      <td>292.598684</td>\n",
       "      <td>285.570175</td>\n",
       "      <td>267.037281</td>\n",
       "      <td>287.186404</td>\n",
       "    </tr>\n",
       "    <tr>\n",
       "      <th>2012-12-31</th>\n",
       "      <td>231.980220</td>\n",
       "      <td>280.508772</td>\n",
       "      <td>292.598684</td>\n",
       "      <td>285.570175</td>\n",
       "      <td>267.037281</td>\n",
       "    </tr>\n",
       "  </tbody>\n",
       "</table>\n",
       "</div>"
      ],
      "text/plain": [
       "            1_monthly_shift  2_monthly_shift  3_monthly_shift  \\\n",
       "datetime                                                        \n",
       "2011-01-31         0.000000         0.000000         0.000000   \n",
       "2011-02-28        54.645012         0.000000         0.000000   \n",
       "2011-03-31        73.641256        54.645012         0.000000   \n",
       "2011-04-30        86.849776        73.641256        54.645012   \n",
       "2011-05-31       111.026374        86.849776        73.641256   \n",
       "2011-06-30       174.809211       111.026374        86.849776   \n",
       "2011-07-31       196.877193       174.809211       111.026374   \n",
       "2011-08-31       203.614035       196.877193       174.809211   \n",
       "2011-09-30       182.666667       203.614035       196.877193   \n",
       "2011-10-31       174.622517       182.666667       203.614035   \n",
       "2011-11-30       174.773626       174.622517       182.666667   \n",
       "2011-12-31       155.458333       174.773626       174.622517   \n",
       "2012-01-31       134.173246       155.458333       174.773626   \n",
       "2012-02-29       124.353201       134.173246       155.458333   \n",
       "2012-03-31       145.646154       124.353201       134.173246   \n",
       "2012-04-30       208.276923       145.646154       124.353201   \n",
       "2012-05-31       257.455947       208.276923       145.646154   \n",
       "2012-06-30       264.109649       257.455947       208.276923   \n",
       "2012-07-31       287.186404       264.109649       257.455947   \n",
       "2012-08-31       267.037281       287.186404       264.109649   \n",
       "2012-09-30       285.570175       267.037281       287.186404   \n",
       "2012-10-31       292.598684       285.570175       267.037281   \n",
       "2012-11-30       280.508772       292.598684       285.570175   \n",
       "2012-12-31       231.980220       280.508772       292.598684   \n",
       "\n",
       "            4_monthly_shift  5_monthly_shift  \n",
       "datetime                                      \n",
       "2011-01-31         0.000000         0.000000  \n",
       "2011-02-28         0.000000         0.000000  \n",
       "2011-03-31         0.000000         0.000000  \n",
       "2011-04-30         0.000000         0.000000  \n",
       "2011-05-31        54.645012         0.000000  \n",
       "2011-06-30        73.641256        54.645012  \n",
       "2011-07-31        86.849776        73.641256  \n",
       "2011-08-31       111.026374        86.849776  \n",
       "2011-09-30       174.809211       111.026374  \n",
       "2011-10-31       196.877193       174.809211  \n",
       "2011-11-30       203.614035       196.877193  \n",
       "2011-12-31       182.666667       203.614035  \n",
       "2012-01-31       174.622517       182.666667  \n",
       "2012-02-29       174.773626       174.622517  \n",
       "2012-03-31       155.458333       174.773626  \n",
       "2012-04-30       134.173246       155.458333  \n",
       "2012-05-31       124.353201       134.173246  \n",
       "2012-06-30       145.646154       124.353201  \n",
       "2012-07-31       208.276923       145.646154  \n",
       "2012-08-31       257.455947       208.276923  \n",
       "2012-09-30       264.109649       257.455947  \n",
       "2012-10-31       287.186404       264.109649  \n",
       "2012-11-30       267.037281       287.186404  \n",
       "2012-12-31       285.570175       267.037281  "
      ]
     },
     "execution_count": 50,
     "metadata": {},
     "output_type": "execute_result"
    }
   ],
   "source": [
    "pd.concat(result, axis=1)"
   ]
  },
  {
   "cell_type": "markdown",
   "metadata": {},
   "source": [
    "#### Moving average\n",
    "- 시계열 데이터는 대부분 노이즈 발생\n",
    "- 따라서 노이즈를 줄이면서 추세보기, 이동평균법"
   ]
  },
  {
   "cell_type": "code",
   "execution_count": null,
   "metadata": {},
   "outputs": [
    {
     "data": {
      "text/plain": [
       "<AxesSubplot:xlabel='datetime'>"
      ]
     },
     "execution_count": 61,
     "metadata": {},
     "output_type": "execute_result"
    },
    {
     "data": {
      "image/png": "[encoded data removed]",
      "text/plain": [
       "<Figure size 432x288 with 1 Axes>"
      ]
     },
     "metadata": {
      "needs_background": "light"
     },
     "output_type": "display_data"
    }
   ],
   "source": [
    "day_avg = df[\"count\"].resample(\"D\").mean().fillna(0)\n",
    "day_avg.plot()\n"
   ]
  },
  {
   "cell_type": "markdown",
   "metadata": {},
   "source": [
    "##### rolling():\n",
    "- 테이블에 많은 데이터가 있고 전체에 대한 평균이나 최소 최대값을 알고 싶은 것이 아니라 Window 창이 이동하듯 X축의 창을 이동하면서 Y값의 평균 최소 최대 값을 구할 때"
   ]
  },
  {
   "cell_type": "code",
   "execution_count": null,
   "metadata": {},
   "outputs": [
    {
     "data": {
      "text/plain": [
       "<AxesSubplot:xlabel='datetime'>"
      ]
     },
     "execution_count": 62,
     "metadata": {},
     "output_type": "execute_result"
    },
    {
     "data": {
      "image/png": "[encoded data removed]",
      "text/plain": [
       "<Figure size 432x288 with 1 Axes>"
      ]
     },
     "metadata": {
      "needs_background": "light"
     },
     "output_type": "display_data"
    }
   ],
   "source": [
    "#  window : 몇일 간격으로 계산할지, 아래의 경우 30일 간의 평균으로 계산\n",
    "# 계산할 때 data에 NaN 값이 있는것 같으면 fillna로 0으로 대체\n",
    "day_avg.rolling(window=30).mean().fillna(0).plot()\n",
    "\n",
    "#훨씬 더 정돈된 형태"
   ]
  },
  {
   "cell_type": "code",
   "execution_count": null,
   "metadata": {},
   "outputs": [
    {
     "data": {
      "text/plain": [
       "<AxesSubplot:xlabel='datetime'>"
      ]
     },
     "execution_count": 65,
     "metadata": {},
     "output_type": "execute_result"
    },
    {
     "data": {
      "image/png": "[encoded data removed]",
      "text/plain": [
       "<Figure size 432x288 with 1 Axes>"
      ]
     },
     "metadata": {
      "needs_background": "light"
     },
     "output_type": "display_data"
    }
   ],
   "source": [
    "#같이 보는것도 가능\n",
    "day_avg.plot()\n",
    "day_avg.rolling(window=30).mean().fillna(0).plot()\n"
   ]
  },
  {
   "cell_type": "markdown",
   "metadata": {},
   "source": [
    "#### Cumsum\n",
    "- cumulative sum → 누적합\n",
    "- 시리즈나 데이터프레임의 축을 따라 누적합을 적용한다."
   ]
  },
  {
   "cell_type": "code",
   "execution_count": null,
   "metadata": {},
   "outputs": [
    {
     "data": {
      "text/plain": [
       "<AxesSubplot:xlabel='datetime'>"
      ]
     },
     "execution_count": 76,
     "metadata": {},
     "output_type": "execute_result"
    },
    {
     "data": {
      "image/png": "[encoded data removed]",
      "text/plain": [
       "<Figure size 432x288 with 1 Axes>"
      ]
     },
     "metadata": {
      "needs_background": "light"
     },
     "output_type": "display_data"
    }
   ],
   "source": [
    "monthly_avg = df[\"count\"].resample(\"M\").mean()\n",
    "cumsum_avg = df[\"count\"].resample(\"M\").mean().cumsum()\n",
    "monthly_avg.plot()\n",
    "cumsum_avg.plot()\n",
    "\n",
    "# 단순 resample과 cumsum(누적합)했을 떄의 차이"
   ]
  },
  {
   "cell_type": "code",
   "execution_count": null,
   "metadata": {},
   "outputs": [
    {
     "data": {
      "text/html": [
       "<div>\n",
       "<style scoped>\n",
       "    .dataframe tbody tr th:only-of-type {\n",
       "        vertical-align: middle;\n",
       "    }\n",
       "\n",
       "    .dataframe tbody tr th {\n",
       "        vertical-align: top;\n",
       "    }\n",
       "\n",
       "    .dataframe thead th {\n",
       "        text-align: right;\n",
       "    }\n",
       "</style>\n",
       "<table border=\"1\" class=\"dataframe\">\n",
       "  <thead>\n",
       "    <tr style=\"text-align: right;\">\n",
       "      <th></th>\n",
       "      <th>monthly_avg</th>\n",
       "      <th>avg_cumsum</th>\n",
       "    </tr>\n",
       "    <tr>\n",
       "      <th>datetime</th>\n",
       "      <th></th>\n",
       "      <th></th>\n",
       "    </tr>\n",
       "  </thead>\n",
       "  <tbody>\n",
       "    <tr>\n",
       "      <th>2011-01-31</th>\n",
       "      <td>54.645012</td>\n",
       "      <td>54.645012</td>\n",
       "    </tr>\n",
       "    <tr>\n",
       "      <th>2011-02-28</th>\n",
       "      <td>73.641256</td>\n",
       "      <td>128.286267</td>\n",
       "    </tr>\n",
       "    <tr>\n",
       "      <th>2011-03-31</th>\n",
       "      <td>86.849776</td>\n",
       "      <td>215.136043</td>\n",
       "    </tr>\n",
       "    <tr>\n",
       "      <th>2011-04-30</th>\n",
       "      <td>111.026374</td>\n",
       "      <td>326.162417</td>\n",
       "    </tr>\n",
       "    <tr>\n",
       "      <th>2011-05-31</th>\n",
       "      <td>174.809211</td>\n",
       "      <td>500.971627</td>\n",
       "    </tr>\n",
       "    <tr>\n",
       "      <th>2011-06-30</th>\n",
       "      <td>196.877193</td>\n",
       "      <td>697.848820</td>\n",
       "    </tr>\n",
       "    <tr>\n",
       "      <th>2011-07-31</th>\n",
       "      <td>203.614035</td>\n",
       "      <td>901.462855</td>\n",
       "    </tr>\n",
       "    <tr>\n",
       "      <th>2011-08-31</th>\n",
       "      <td>182.666667</td>\n",
       "      <td>1084.129522</td>\n",
       "    </tr>\n",
       "    <tr>\n",
       "      <th>2011-09-30</th>\n",
       "      <td>174.622517</td>\n",
       "      <td>1258.752038</td>\n",
       "    </tr>\n",
       "    <tr>\n",
       "      <th>2011-10-31</th>\n",
       "      <td>174.773626</td>\n",
       "      <td>1433.525665</td>\n",
       "    </tr>\n",
       "    <tr>\n",
       "      <th>2011-11-30</th>\n",
       "      <td>155.458333</td>\n",
       "      <td>1588.983998</td>\n",
       "    </tr>\n",
       "    <tr>\n",
       "      <th>2011-12-31</th>\n",
       "      <td>134.173246</td>\n",
       "      <td>1723.157244</td>\n",
       "    </tr>\n",
       "    <tr>\n",
       "      <th>2012-01-31</th>\n",
       "      <td>124.353201</td>\n",
       "      <td>1847.510445</td>\n",
       "    </tr>\n",
       "    <tr>\n",
       "      <th>2012-02-29</th>\n",
       "      <td>145.646154</td>\n",
       "      <td>1993.156598</td>\n",
       "    </tr>\n",
       "    <tr>\n",
       "      <th>2012-03-31</th>\n",
       "      <td>208.276923</td>\n",
       "      <td>2201.433522</td>\n",
       "    </tr>\n",
       "    <tr>\n",
       "      <th>2012-04-30</th>\n",
       "      <td>257.455947</td>\n",
       "      <td>2458.889469</td>\n",
       "    </tr>\n",
       "    <tr>\n",
       "      <th>2012-05-31</th>\n",
       "      <td>264.109649</td>\n",
       "      <td>2722.999118</td>\n",
       "    </tr>\n",
       "    <tr>\n",
       "      <th>2012-06-30</th>\n",
       "      <td>287.186404</td>\n",
       "      <td>3010.185521</td>\n",
       "    </tr>\n",
       "    <tr>\n",
       "      <th>2012-07-31</th>\n",
       "      <td>267.037281</td>\n",
       "      <td>3277.222802</td>\n",
       "    </tr>\n",
       "    <tr>\n",
       "      <th>2012-08-31</th>\n",
       "      <td>285.570175</td>\n",
       "      <td>3562.792977</td>\n",
       "    </tr>\n",
       "    <tr>\n",
       "      <th>2012-09-30</th>\n",
       "      <td>292.598684</td>\n",
       "      <td>3855.391662</td>\n",
       "    </tr>\n",
       "    <tr>\n",
       "      <th>2012-10-31</th>\n",
       "      <td>280.508772</td>\n",
       "      <td>4135.900434</td>\n",
       "    </tr>\n",
       "    <tr>\n",
       "      <th>2012-11-30</th>\n",
       "      <td>231.980220</td>\n",
       "      <td>4367.880653</td>\n",
       "    </tr>\n",
       "    <tr>\n",
       "      <th>2012-12-31</th>\n",
       "      <td>217.054825</td>\n",
       "      <td>4584.935478</td>\n",
       "    </tr>\n",
       "  </tbody>\n",
       "</table>\n",
       "</div>"
      ],
      "text/plain": [
       "            monthly_avg   avg_cumsum\n",
       "datetime                            \n",
       "2011-01-31    54.645012    54.645012\n",
       "2011-02-28    73.641256   128.286267\n",
       "2011-03-31    86.849776   215.136043\n",
       "2011-04-30   111.026374   326.162417\n",
       "2011-05-31   174.809211   500.971627\n",
       "2011-06-30   196.877193   697.848820\n",
       "2011-07-31   203.614035   901.462855\n",
       "2011-08-31   182.666667  1084.129522\n",
       "2011-09-30   174.622517  1258.752038\n",
       "2011-10-31   174.773626  1433.525665\n",
       "2011-11-30   155.458333  1588.983998\n",
       "2011-12-31   134.173246  1723.157244\n",
       "2012-01-31   124.353201  1847.510445\n",
       "2012-02-29   145.646154  1993.156598\n",
       "2012-03-31   208.276923  2201.433522\n",
       "2012-04-30   257.455947  2458.889469\n",
       "2012-05-31   264.109649  2722.999118\n",
       "2012-06-30   287.186404  3010.185521\n",
       "2012-07-31   267.037281  3277.222802\n",
       "2012-08-31   285.570175  3562.792977\n",
       "2012-09-30   292.598684  3855.391662\n",
       "2012-10-31   280.508772  4135.900434\n",
       "2012-11-30   231.980220  4367.880653\n",
       "2012-12-31   217.054825  4584.935478"
      ]
     },
     "execution_count": 82,
     "metadata": {},
     "output_type": "execute_result"
    }
   ],
   "source": [
    "monthly_avg = monthly_avg.rename(\"monthly_avg\")\n",
    "cumsum_avg = cumsum_avg.rename(\"avg_cumsum\")\n",
    "df_monthly = pd.concat([monthly_avg, cumsum_avg], axis=1)\n",
    "df_monthly\n",
    "# concat하여 df형태로 직접비교"
   ]
  },
  {
   "cell_type": "code",
   "execution_count": null,
   "metadata": {},
   "outputs": [
    {
     "data": {
      "text/plain": [
       "<AxesSubplot:>"
      ]
     },
     "execution_count": 83,
     "metadata": {},
     "output_type": "execute_result"
    },
    {
     "data": {
      "image/png": "[encoded data removed]",
      "text/plain": [
       "<Figure size 432x288 with 2 Axes>"
      ]
     },
     "metadata": {
      "needs_background": "light"
     },
     "output_type": "display_data"
    }
   ],
   "source": [
    "# secondary_y : y 축 레이블을 보조 y 축에 추가하는 메소드\n",
    "ax = df_monthly.plot(y = \"monthly_avg\", use_index = True)\n",
    "df_monthly.plot(y = \"avg_cumsum\", secondary_y=True, ax=ax)"
   ]
  }
 ],
 "metadata": {
  "interpreter": {
   "hash": "e26397a08d5f30c774560219faec242e6a30e49be7031cb355ab1d4e33c237b9"
  },
  "kernelspec": {
   "display_name": "Python 3.9.12 ('TIL')",
   "language": "python",
   "name": "python3"
  },
  "language_info": {
   "codemirror_mode": {
    "name": "ipython",
    "version": 3
   },
   "file_extension": ".py",
   "mimetype": "text/x-python",
   "name": "python",
   "nbconvert_exporter": "python",
   "pygments_lexer": "ipython3",
   "version": "3.9.12"
  },
  "orig_nbformat": 4
 },
 "nbformat": 4,
 "nbformat_minor": 2
}
