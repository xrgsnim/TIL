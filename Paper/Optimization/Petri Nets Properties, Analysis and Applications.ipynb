{
 "cells": [
  {
   "cell_type": "markdown",
   "metadata": {},
   "source": [
    "### **Petri Nets : Properties, Analysis and Applications**"
   ]
  },
  {
   "cell_type": "markdown",
   "metadata": {},
   "source": [
    "#### **[1. INTRODUCTION]**\n",
    "- **Petri net** : 그래피컬하고 수학적인 모델링 툴.\n",
    "- token : 시스템의 동적 및 동시 활동을 시뮬레이션하기위해 이용\n",
    "- petri net은 강력한 소통의 매게체이다. 실사용자와 이론적(수학적)으로도 쓰일수 있기 때문.\n",
    "- 나머지는 역사 얘기. 패스"
   ]
  },
  {
   "cell_type": "markdown",
   "metadata": {},
   "source": [
    "#### **[2.TRANSITION ENABLING AND FIRING]**\n",
    "- Petri-net theory상에서 중요한 룰 1가지 : TRANSITIONE NABLING AND FIRING\n",
    "- token(k) : 검은색 점\n",
    "- place(p) = condition : 동그라미\n",
    "- transition = event : bar 혹은 box\n",
    "- **질문 : arc(w) : 가중치..?, 정확한 의미**\n",
    "\n",
    "| Input Places | Transition | Output Places |\n",
    "|---|:---:|---:|\n",
    "| Preconditions | Event | Postconditions |\n",
    "| Input data | Computation step | Output data |\n",
    "| Input signals | Signal processor | Output signals |\n",
    "| Resources needed | Task or job | Resource released |\n",
    "| Conditions | Clause in logic | Conclusion(s) |\n",
    "| Buffers | Processor | Buffers |\n",
    "\n",
    "- source transition : input place가 없는 transition\n",
    "- sink transition : output place가 없는 transition\n",
    "- 사진1 넣기\n"
   ]
  }
 ],
 "metadata": {
  "kernelspec": {
   "display_name": "Python 3.7.13 ('hyeooi')",
   "language": "python",
   "name": "python3"
  },
  "language_info": {
   "name": "python",
   "version": "3.7.13"
  },
  "orig_nbformat": 4,
  "vscode": {
   "interpreter": {
    "hash": "c36318f1f175f6468c37ab31a9400557c0f81fa065037d590afb13b0d6bda87f"
   }
  }
 },
 "nbformat": 4,
 "nbformat_minor": 2
}
