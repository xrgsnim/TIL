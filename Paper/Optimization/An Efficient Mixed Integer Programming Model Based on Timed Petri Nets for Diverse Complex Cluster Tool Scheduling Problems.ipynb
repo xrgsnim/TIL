{
 "cells": [
  {
   "cell_type": "markdown",
   "metadata": {},
   "source": [
    "### **An Efficient Mixed Integer Programming Model Based on Timed Petri Nets for Diverse Complex Cluster Tool Scheduling Problems**\n",
    "\n",
    "(다양한 복합 클러스터 툴 스케줄링 문제를 위한 시간별 페트리넷 기반 효율적인 혼합 정수 프로그래밍 모델)\n",
    "___"
   ]
  },
  {
   "cell_type": "markdown",
   "metadata": {},
   "source": [
    "- Cluster tool에는 스케줄링 문제에 다양성과 관련한 많은 문제들이 있다.\n",
    "- 그래서, 우리는 <span style='background-color:#fff5b1'>**timed Petri nets(TPN)**</span>으로 효율적인 스케줄링을 하고자한다.\n",
    "- TPN과 그것의 state equation을 토대로, 우리는 효율적으로 optimal cyclic schedule을 정할수 있는 새로운 MIP모델을 만들것이다.\n",
    "- 이번 연구를 통해, MIP모델은 실생활의 클러스터툴 스케줄링문제들을 효율적으로 풀 수 있는것을 보여주겠다."
   ]
  },
  {
   "cell_type": "markdown",
   "metadata": {},
   "source": [
    "#### **[ 1. Introduction ]**\n",
    "- 클러스터툴은 중간버퍼가 없다.(주로 공간제약 때문에)\n",
    "- recipe : wafer flow pattern, process times등의 정보\n",
    "- wafer waiting time은 제한되고, 줄어들어야한다.\n",
    "- transportation module : TM = robot\n",
    "- <span style='background-color:#fff5b1'> **Cyclic scheduling** </span> : 동일한 일정 패턴을 반복, 광범위하고 중요한 연구대상\n",
    "- 이번 논문에서, tool architecture와 스케줄링 요구사항에서 쉽고, 기존 MIP모델보다 더 효율적으로 해결할 수 있는 새로운 MIP모델을 개발할것이다.\n",
    "- 그러기 위해서, Petri net을 다양한 툴 스케줄링 문제를 모델링하는데 쓸것이고, Petri net의 state evolution behavior 를 사용할 것이다"
   ]
  },
  {
   "cell_type": "markdown",
   "metadata": {},
   "source": [
    "#### **[ 2. Problem Description ]**\n",
    "- 목표 : 생산량 최대화\n",
    "- 환경 : radial타입의 클러스터툴, 2개 로드락, m개의 PM들($PM_i$,&nbsp;&nbsp;&nbsp;&nbsp;&nbsp;&nbsp; $i=1,\\cdots, m$), PM간 버퍼X\n",
    "- $r_i (i = 1, \\cdots, 3)$ : 스텝 i에 대한 process time\n",
    "- v : 로봇이동시간 ($v < r_i$)\n",
    "- w : unloading, loading time \n",
    "- 다양한 클러스터툴 스케줄링 문제에 접목될수있는 스케줄링방법을 개발할것이다.\n",
    "    - 1. TPN 개발 : 클러스터툴은 discrete한 이벤트시스템으로 취급하고 다양한 스케줄링 요구사항을 반영할것\n",
    "    - 2. MIP모델을 TPN으로 develop"
   ]
  },
  {
   "cell_type": "markdown",
   "metadata": {},
   "source": [
    "#### **[ 3. TPN Modeling for Cluster Tools ]**\n",
    "- **[ $p-timed$ $Petri$ $nets$ ]**\n",
    "    - $\\mathcal{G}$ = ($P, T, I, P, M_0, H$)인 6개의 튜플로 구성\n",
    "    1. P = {$p_1, p_2, \\cdots, p_m$}인 유한한 place들의 집합\n",
    "    2. T = {$t_1, t_2, \\cdots, t_n$}인 유한한 transition들의 집합, &nbsp;&nbsp;$P \\cup T \\ne  \\varnothing $, &nbsp;&nbsp;&nbsp;&nbsp;&nbsp;&nbsp;$P \\cap T =  \\varnothing $\n",
    "    3. $I:(P \\times T) \\rightarrow N$, place에서 transition으로 가는 input function\n",
    "    4. $O:(T \\times P) \\rightarrow N$, transition에서 place로 가는 output function\n",
    "    5. $M_0 : P \\rightarrow N$, initial marking, 초기의 petri net상태\n",
    "    5. $H : P \\rightarrow R^+ $, 특정 place에서의 정해진 time delay들"
   ]
  },
  {
   "cell_type": "markdown",
   "metadata": {},
   "source": [
    "- **A. TPN Model for Serial Wafer Flow Patterns**\n",
    "\n",
    "![img](https://ifh.cc/g/nlLpLX.png)\n",
    "![img](https://ifh.cc/g/VxDvsb.png)"
   ]
  }
 ],
 "metadata": {
  "kernelspec": {
   "display_name": "Python 3.9.7 64-bit",
   "language": "python",
   "name": "python3"
  },
  "language_info": {
   "name": "python",
   "version": "3.9.7"
  },
  "orig_nbformat": 4,
  "vscode": {
   "interpreter": {
    "hash": "d68b21f201b338ab8f35fcfa35f5020984bc2a03851d840f5bcc27f75f3c17e4"
   }
  }
 },
 "nbformat": 4,
 "nbformat_minor": 2
}
