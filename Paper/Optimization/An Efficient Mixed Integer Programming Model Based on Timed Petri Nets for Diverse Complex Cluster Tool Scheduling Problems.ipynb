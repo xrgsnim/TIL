{
 "cells": [
  {
   "cell_type": "markdown",
   "metadata": {},
   "source": [
    "### **An Efficient Mixed Integer Programming Model Based on Timed Petri Nets for Diverse Complex Cluster Tool Scheduling Problems**\n",
    "\n",
    "(다양한 복합 클러스터 툴 스케줄링 문제를 위한 시간별 페트리넷 기반 효율적인 혼합 정수 프로그래밍 모델)\n",
    "___"
   ]
  },
  {
   "cell_type": "markdown",
   "metadata": {},
   "source": [
    "- Cluster tool에는 스케줄링 문제에 다양성과 관련한 많은 문제들이 있다.\n",
    "- 그래서, 우리는 <span style='background-color:#fff5b1'>timed Petri nets(TPN)</span>으로 효율적인 스케줄링을 하고자한다.\n",
    "- TPN과 그것의 state equation을 토대로, 우리는 효율적으로 optimal cyclic schedule을 정할수 있는 새로운 MIP모델을 만들것이다.\n",
    "- 이번 연구를 통해, MIP모델은 실생활의 클러스터툴 스케줄링문제들을 효율적으로 풀 수 있는것을 보여주겠다."
   ]
  },
  {
   "cell_type": "markdown",
   "metadata": {},
   "source": [
    "#### **[ 1. Introduction ]**\n",
    "- 클러스터툴은 중간버퍼가 없다.(주로 공간제약 때문에)\n",
    "- recipe : wafer flow pattern, process times등의 정보\n",
    "- wafer waiting time은 제한되고, 줄어들어야한다.\n",
    "- transportation module : TM = robot\n",
    "- <span style='background-color:#fff5b1'> Cyclic scheduling </span> : 동일한 일정 패턴을 반복, 광범위하고 중요한 연구대상\n",
    "- 이번 논문에서, tool architecture와 스케줄링 요구사항에서 쉽고, 기존 MIP모델보다 더 효율적으로 해결할 수 있는 새로운 MIP모델을 개발할것이다.\n",
    "- 그러기 위해서, Petri net을 다양한 툴 스케줄링 문제를 모델링하는데 쓸것이고, Petri net의 state evolution behavior 를 사용할 것이다\n",
    "<br><br>\n",
    "___\n",
    "<br>"
   ]
  },
  {
   "cell_type": "markdown",
   "metadata": {},
   "source": [
    "#### **[ 2. Problem Description ]**\n",
    "- 목표 : 생산량 최대화\n",
    "- 환경 : radial타입의 클러스터툴, 2개 로드락, m개의 PM들($PM_i$,&nbsp;&nbsp;&nbsp;&nbsp;&nbsp;&nbsp; $i=1,\\cdots, m$), PM간 버퍼X\n",
    "- $r_i (i = 1, \\cdots, 3)$ : 스텝 i에 대한 process time\n",
    "- v : 로봇이동시간 ($v < r_i$)\n",
    "- w : unloading, loading time \n",
    "- 다양한 클러스터툴 스케줄링 문제에 접목될수있는 스케줄링방법을 개발할것이다.\n",
    "    - 1. TPN 개발 : 클러스터툴은 discrete한 이벤트시스템으로 취급하고 다양한 스케줄링 요구사항을 반영할것\n",
    "    - 2. MIP모델을 TPN으로 develop\n",
    "<br><br>\n",
    "___\n",
    "<br>"
   ]
  },
  {
   "cell_type": "markdown",
   "metadata": {},
   "source": [
    "#### **[ 3. TPN Modeling for Cluster Tools ]**\n",
    "- **[ $p-timed$ $Petri$ $nets$ ]**\n",
    "    - $\\mathcal{G}$ = ($P, T, I, P, M_0, H$)인 6개의 튜플로 구성\n",
    "    1. P = {$p_1, p_2, \\cdots, p_m$}인 유한한 place들의 집합\n",
    "    2. T = {$t_1, t_2, \\cdots, t_n$}인 유한한 transition들의 집합, &nbsp;&nbsp;$P \\cup T \\ne  \\varnothing $, &nbsp;&nbsp;&nbsp;&nbsp;&nbsp;&nbsp;$P \\cap T =  \\varnothing $\n",
    "    3. $I:(P \\times T) \\rightarrow N$, place에서 transition으로 가는 input function\n",
    "    4. $O:(T \\times P) \\rightarrow N$, transition에서 place로 가는 output function\n",
    "    5. $M_0 : P \\rightarrow N$, initial marking, 초기의 petri net상태\n",
    "    5. $H : P \\rightarrow R^+ $, 특정 place에서의 정해진 time delay들\n",
    "\n",
    "![img](https://ifh.cc/g/07bVX9.png)<br>\n",
    "-Fig. 2.\n",
    "\n",
    "![img](https://ifh.cc/g/vHKjCJ.png)<br>\n",
    "-Fig. 3."
   ]
  },
  {
   "cell_type": "markdown",
   "metadata": {},
   "source": [
    "##### **A. TPN Model for Serial Wafer Flow Patterns**\n",
    "\n",
    "- Fig. 2(a) : LL → PM1 → PM2 → PM3 → LL\n",
    "- Fig. 3(a) : $t_1 → t_2 → t_3 → t_4 → t_5 → t_6 → t_7 → t_8$\n",
    "- [ TPN두개의 주요부분 ]\n",
    "- **1** : 웨이퍼가 겪는 일련의 작업($t_1$ ~ $t_8$)\n",
    "- **2** : 리소스의 이용가능성\n",
    "\n",
    "- 로봇과 PM들은 클러스터 툴의 생산리소스이다. 그들은 그들의 state를 available state와 unavailable state를 바꿔가면서 그들의 state를 표현한다.(ex) 한 PM에 웨이퍼가 머무르고 있으면 그 PM은 unavailable)\n",
    "- **resource availability place** : resource availability를 place를 통해 표현, 토큰있으면 available, 없으면 unavailable\n",
    "- 로봇 또한 자신의 availability표현 가능($p_{11}$)\n",
    "- **우선순위**는 주로 완료된 웨이퍼를 먼저 로드락에 넣고 새로운 웨이퍼를 로드락에서 꺼내도록 정한다.\n",
    "- ### ?? Petrinet 모델이 특정 마킹을 설명하지만, 우리는 초기 상태에 대해 그러한 마킹을 가정하도록 스케줄링 문제를 제한하지 않는다.\n",
    "- MIP모델은 initial marking과 robot task sequence또한 결정한다."
   ]
  },
  {
   "cell_type": "markdown",
   "metadata": {},
   "source": [
    "##### **B. TPN Model for Parallel Wafer Flow Patterns**\n",
    "- Fig. 2(b), Fig. 3(b)\n",
    "- serial wafer flow와의 차이 : 같은 process를 하는 multiple한 PM을 가진다.\n",
    "- resource availability place에 **토큰 수를 늘려** multiple한 PM을 표현한다.(챔버 2개는 토큰 2개, 3개는 3개 ...)"
   ]
  },
  {
   "cell_type": "markdown",
   "metadata": {},
   "source": [
    "##### **C. TPN Model for Reentrant Wafer Flow Patterns**\n",
    "- Fig. 2(c), Fig. 3(c)\n",
    "- reentrant process를 위한 place를 추가(resource availability place를 공유하기위해)\n",
    "- process step2,4는 같은 PM이며 $PM_2$를 재방문한다.\n",
    "- resource availability place인 $p_11$은 두 process step과 연결되어있다.\n",
    "- **따라서**, process step2 혹은 4가 시작되면, $p_11$의 토큰은 place $p_5$, $p_10$로 이동한다."
   ]
  },
  {
   "cell_type": "markdown",
   "metadata": {},
   "source": [
    "##### **D. TPN Model of Cluster Tools with Multiple Wafer Flows**\n",
    "- Fig. 2(d), Fig. 3(d)\n",
    "- TPN모델 안에 두 가지의 circuit 존재\n",
    "- 따라서 Fig. 3(d)에서의 $p_14$는 두 회로에 관한 robot resource availability place\n",
    "- $PM_1 = p_9$,\n",
    "&nbsp;&nbsp;&nbsp;&nbsp;&nbsp;&nbsp;&nbsp;&nbsp;&nbsp;&nbsp;&nbsp;&nbsp;\n",
    "$PM_3 = p_5$,\n",
    "&nbsp;&nbsp;&nbsp;&nbsp;&nbsp;&nbsp;&nbsp;&nbsp;&nbsp;&nbsp;&nbsp;&nbsp;\n",
    "$PM_2 = p_12$"
   ]
  },
  {
   "cell_type": "markdown",
   "metadata": {},
   "source": [
    "##### **E. TPN Model for Dual-Armed Cluster Tools**\n",
    "- Fig. 2(e), Fig. 3(e)\n",
    "- dual-arm : capacity 두배\n",
    "- **robot resource availability place에 토큰 2개로 표현**"
   ]
  },
  {
   "cell_type": "markdown",
   "metadata": {},
   "source": [
    "##### **F. TPN Model of Cluster Tools with Residency Time Constraints**\n",
    "- Fig. 2(f), Fig. 3(f)\n",
    "- TPN은 오직 holding time에 관한 시간 제약만 갖고 있기 때문에 residency를 모델로 표현하기는 어려움이 따른다.\n",
    "- **holding time(체류시간)** : 해당 place에 꼭 그 이상 머물러야하는 시간\n",
    "- **residency time** : 최대로 머무를수 있는시간(넘지 말아야하는 시간)\n",
    "- 따라서 우리는 Residency Time Constraints를 모델링으로 표현하지않고 수학적 제약으로 표현했다. 추후 설명"
   ]
  },
  {
   "cell_type": "markdown",
   "metadata": {},
   "source": [
    "##### **G. Simultaneous Firing**\n",
    "- 현실에서는 동시에 firing이 될수 없는데 모델상으로는 동시에 가능한 경우가 있다.\n",
    "- 예시) Fig. 3(a)의 $t_8$과 $t_3$은 모델 상으로만 동시에 firing 될 수있다.(현실은 불가)\n",
    "\n",
    "- **두가지 해결책**\n",
    "1. mutual exclusion place\n",
    "2. **timing constraints** : TPN을 스케줄링할 때 firing timing을 조절\n",
    "\n",
    "- 간결함을 위해 이 논문에선 2번째 방법을 채택. 디테일은 추후 설명"
   ]
  },
  {
   "cell_type": "markdown",
   "metadata": {},
   "source": [
    "#### **[ 4. Optimizing the Schedule of TPN Models ]**"
   ]
  },
  {
   "cell_type": "markdown",
   "metadata": {},
   "source": [
    "##### **A. Cyclic Schedules of TPN Models**\n",
    "- $\\bullet$ p : place p의 input transition들\n",
    "- p $\\bullet$ : place p의 output transition들\n",
    "- **conflict place** : TPN $\\mathcal G$에서 $\\left\\vert p \\bullet \\right\\vert \\ge 2$인 palce (여러개의 output tansition을 가진 place)<br>\n",
    "(예)Fig. 3(c)의 places $p_{11}$, $p_{13}$)\n",
    "- conflict place에서의 token routing decision 결정은 TPN의 일정을 결정하는 열쇠이다.\n",
    "- 만약 TPN에 conflict place가 없다면, 의사결정할 부분이 없다(decision free)\n",
    "- $P_c$ : TPN $\\mathcal G$에서의 conflict place의 수, ($P_0$ : conflict place가 아닌 place의 수)\n",
    "- $P = P_c \\cup P_0$ &nbsp;&nbsp;&nbsp;&nbsp;&nbsp;&nbsp;&nbsp;&nbsp;&nbsp; $(P_c \\cap P_0) = \\empty$"
   ]
  }
 ],
 "metadata": {
  "kernelspec": {
   "display_name": "Python 3.9.7 64-bit",
   "language": "python",
   "name": "python3"
  },
  "language_info": {
   "name": "python",
   "version": "3.9.7"
  },
  "orig_nbformat": 4,
  "vscode": {
   "interpreter": {
    "hash": "d68b21f201b338ab8f35fcfa35f5020984bc2a03851d840f5bcc27f75f3c17e4"
   }
  }
 },
 "nbformat": 4,
 "nbformat_minor": 2
}
