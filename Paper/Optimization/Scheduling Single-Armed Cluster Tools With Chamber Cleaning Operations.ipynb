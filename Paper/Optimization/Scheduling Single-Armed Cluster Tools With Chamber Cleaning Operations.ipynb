{
 "cells": [
  {
   "cell_type": "markdown",
   "metadata": {},
   "source": [
    "### **Scheduling Single-Armed Cluster Tools With Chamber Cleaning Operations**\n",
    "(챔버 Cleaning 작업을 통한 Single-Arm 클러스터툴 스케줄링)"
   ]
  },
  {
   "cell_type": "markdown",
   "metadata": {},
   "source": [
    "**[ Abstract ]**\n",
    "- purge operations : chamber cleaning같은 스케줄링 복잡성을 증가시키는 작업\n",
    "- parallel chamber를 위한 partial loading을 하는 backward($z$) sequence를 제안할 것\n",
    "- **vector $z$** : 각 process step $i$에서 몇 개의 챔버 $z_i$를 청소하기 위해 비워두었는가?\n",
    "- 목적 : optimal vector $z$를 찾자."
   ]
  },
  {
   "cell_type": "markdown",
   "metadata": {},
   "source": [
    "#### **[1. INTRODUCTION]**"
   ]
  },
  {
   "cell_type": "markdown",
   "metadata": {},
   "source": [
    "- 웨이퍼 공정 이후에 processing chamber에 잔여 가스 혹은 화학물질이 남아있을 수 있다.\n",
    "- 그러면 퀄리티에 해로우니까 챔버는 특정 갯수($k$)의 웨이퍼를 공정한 이후 clean된다.\n",
    "- $purge$ : $k$ = 1인 Chamber cleaning\n",
    "- wafer cleaning process : etching, chemical vapor deposition, physical vapor deposition 등. 공정의 약 50%∼80%가 purge 된다.\n",
    "- purge operation 소요시간 : 약 30~300초, 그동안 해당 챔버는 공정 불가\n",
    "- 따라서 클러스터툴은 cleaning(or purge) operation은 스케줄링에 고려되어야 한다.\n",
    "- 하지만 해당 공정의 최적화는 쉽지않음. 클리닝이 없을때의 backward sequence가 optimal이어도, 클리닝이 추가되면 더이상 optimal이 아니고 cycle time도 크게 증가"
   ]
  },
  {
   "cell_type": "markdown",
   "metadata": {},
   "source": []
  }
 ],
 "metadata": {
  "kernelspec": {
   "display_name": "Python 3.9.7 64-bit",
   "language": "python",
   "name": "python3"
  },
  "language_info": {
   "name": "python",
   "version": "3.9.7"
  },
  "orig_nbformat": 4,
  "vscode": {
   "interpreter": {
    "hash": "d68b21f201b338ab8f35fcfa35f5020984bc2a03851d840f5bcc27f75f3c17e4"
   }
  }
 },
 "nbformat": 4,
 "nbformat_minor": 2
}
