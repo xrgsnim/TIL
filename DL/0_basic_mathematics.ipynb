{
 "cells": [
  {
   "cell_type": "code",
   "execution_count": 1,
   "metadata": {},
   "outputs": [],
   "source": [
    "import numpy as np"
   ]
  },
  {
   "cell_type": "markdown",
   "metadata": {},
   "source": [
    "벡터의 노름(norm) : 원점에서부터의 거리\n",
    "\n",
    "$x = \\begin{bmatrix} x_1 \\\\ x_2 \\\\ \\vdots \\\\ x_d \\end{bmatrix}$\n",
    "<br><br>\n",
    "$L_1 : ||x||_1 = \\sum_{i=1}^d |x_i|$ : 각 성분의 변화량의 절대값을 모두 더한다.\n",
    "<br><br>\n",
    "$L_2 : ||x||_2 = \\sqrt{\\sum_{i=1}^d |x_i|^2}$ : 피타고라스 정리를 이용해 유클리드 거리를 계산한다.\n"
   ]
  },
  {
   "cell_type": "code",
   "execution_count": 2,
   "metadata": {},
   "outputs": [],
   "source": [
    "def l1_norm(x):\n",
    "    x_norm = np.abs(x)\n",
    "    x_norm = np.sum(x_norm)\n",
    "    return x_norm\n",
    "\n",
    "def l2_norm(x):\n",
    "    x_norm = x*x\n",
    "    x_norm = np.sum(x_norm)\n",
    "    x_norm = np.sqrt(x_norm)\n",
    "    return x_norm\n",
    "\n",
    "# np.linalg.norm 으로도 구현 가능"
   ]
  },
  {
   "cell_type": "markdown",
   "metadata": {},
   "source": [
    "- 노름의 종류에 따라 **기하학적 성질**이 달라진다.\n",
    "- 머신러닝에선 각 노름의 성질에 따라 다른 상황에 쓰인다.\n",
    "<br><br>\n",
    "![Image](https://ifh.cc/g/dFWFSS.png)"
   ]
  },
  {
   "cell_type": "markdown",
   "metadata": {},
   "source": [
    "두 벡터 사이의 거리\n",
    "<br>\n",
    "- $L_1, L_2$노름을 이용해 **두 벡터 사이의 거리**를 계산\n",
    "- 두 벡터 사이의 거리를 계산할 때는 **벡터의 뺄셈**을 이용\n",
    "- 뺄셈을 거꾸로 해도 거리는 같다.\n",
    "\n",
    "![Image](https://ifh.cc/g/HsHbt5.png)"
   ]
  },
  {
   "cell_type": "markdown",
   "metadata": {},
   "source": [
    "두 벡터 사이의 각도\n",
    "- 두 벡터 사이의 거리를 이용하여 각도를 계산\n",
    "- **제2 코사인 법칙**에 의해 두 벡터 사이의 각도를 계산\n",
    "- 분자를 쉽게 계산하는 방법은 **내적**"
   ]
  }
 ],
 "metadata": {
  "kernelspec": {
   "display_name": "Python 3.7.13 ('hyeooi')",
   "language": "python",
   "name": "python3"
  },
  "language_info": {
   "codemirror_mode": {
    "name": "ipython",
    "version": 3
   },
   "file_extension": ".py",
   "mimetype": "text/x-python",
   "name": "python",
   "nbconvert_exporter": "python",
   "pygments_lexer": "ipython3",
   "version": "3.7.13"
  },
  "orig_nbformat": 4,
  "vscode": {
   "interpreter": {
    "hash": "c36318f1f175f6468c37ab31a9400557c0f81fa065037d590afb13b0d6bda87f"
   }
  }
 },
 "nbformat": 4,
 "nbformat_minor": 2
}
